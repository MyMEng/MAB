{
 "metadata": {
  "name": "Exp"
 },
 "nbformat": 3,
 "nbformat_minor": 0,
 "worksheets": [
  {
   "cells": [
    {
     "cell_type": "markdown",
     "metadata": {},
     "source": [
      "$$\n",
      "U(\\hat{L}_t(h)) = \\frac{ \\sqrt{ \\log(t) } }\n",
      "                       { 10 }\n",
      "                  \\sqrt{ V^\\prime_t }\n",
      "$$\n",
      "and\n",
      "$$\n",
      "V^\\prime_t = \\left[\n",
      "  \\sum_{i = 1:n \\text{~} \\tau = 1:t} \\frac{Q^\\tau_i}{(p^\\tau_i)^2} L^2(z(x_i))\n",
      "  -\n",
      "  \\left( \\sum_{\\mathscr{Q}_t} L(z(x_i)) \\right)^2\n",
      "\\right]_+\n",
      "$$"
     ]
    },
    {
     "cell_type": "code",
     "collapsed": false,
     "input": [
      "# define dataset\n",
      "DATA = []\n",
      "\n",
      "import csv\n",
      "with open('iris.data', 'rb') as f:\n",
      "    reader = csv.reader(f)\n",
      "    for row in reader:\n",
      "        DATA.append(row)"
     ],
     "language": "python",
     "metadata": {},
     "outputs": [],
     "prompt_number": 2
    },
    {
     "cell_type": "code",
     "collapsed": false,
     "input": [
      "from pprint import pprint\n",
      "pprint( DATA )\n",
      "import random"
     ],
     "language": "python",
     "metadata": {},
     "outputs": [
      {
       "output_type": "stream",
       "stream": "stdout",
       "text": [
        "[['1.4', '0.2', 'Iris-setosa'],\n",
        " ['1.4', '0.2', 'Iris-setosa'],\n",
        " ['1.3', '0.2', 'Iris-setosa'],\n",
        " ['1.5', '0.2', 'Iris-setosa'],\n",
        " ['1.4', '0.2', 'Iris-setosa'],\n",
        " ['1.7', '0.4', 'Iris-setosa'],\n",
        " ['1.4', '0.3', 'Iris-setosa'],\n",
        " ['1.5', '0.2', 'Iris-setosa'],\n",
        " ['1.4', '0.2', 'Iris-setosa'],\n",
        " ['1.5', '0.1', 'Iris-setosa'],\n",
        " ['1.5', '0.2', 'Iris-setosa'],\n",
        " ['1.6', '0.2', 'Iris-setosa'],\n",
        " ['1.4', '0.1', 'Iris-setosa'],\n",
        " ['1.1', '0.1', 'Iris-setosa'],\n",
        " ['1.2', '0.2', 'Iris-setosa'],\n",
        " ['1.5', '0.4', 'Iris-setosa'],\n",
        " ['1.3', '0.4', 'Iris-setosa'],\n",
        " ['1.4', '0.3', 'Iris-setosa'],\n",
        " ['1.7', '0.3', 'Iris-setosa'],\n",
        " ['1.5', '0.3', 'Iris-setosa'],\n",
        " ['1.7', '0.2', 'Iris-setosa'],\n",
        " ['1.5', '0.4', 'Iris-setosa'],\n",
        " ['1', '0.2', 'Iris-setosa'],\n",
        " ['1.7', '0.5', 'Iris-setosa'],\n",
        " ['1.9', '0.2', 'Iris-setosa'],\n",
        " ['1.6', '0.2', 'Iris-setosa'],\n",
        " ['1.6', '0.4', 'Iris-setosa'],\n",
        " ['1.5', '0.2', 'Iris-setosa'],\n",
        " ['1.4', '0.2', 'Iris-setosa'],\n",
        " ['1.6', '0.2', 'Iris-setosa'],\n",
        " ['1.6', '0.2', 'Iris-setosa'],\n",
        " ['1.5', '0.4', 'Iris-setosa'],\n",
        " ['1.5', '0.1', 'Iris-setosa'],\n",
        " ['1.4', '0.2', 'Iris-setosa'],\n",
        " ['1.5', '0.1', 'Iris-setosa'],\n",
        " ['1.2', '0.2', 'Iris-setosa'],\n",
        " ['1.3', '0.2', 'Iris-setosa'],\n",
        " ['1.5', '0.1', 'Iris-setosa'],\n",
        " ['1.3', '0.2', 'Iris-setosa'],\n",
        " ['1.5', '0.2', 'Iris-setosa'],\n",
        " ['1.3', '0.3', 'Iris-setosa'],\n",
        " ['1.3', '0.3', 'Iris-setosa'],\n",
        " ['1.3', '0.2', 'Iris-setosa'],\n",
        " ['1.6', '0.6', 'Iris-setosa'],\n",
        " ['1.9', '0.4', 'Iris-setosa'],\n",
        " ['1.4', '0.3', 'Iris-setosa'],\n",
        " ['1.6', '0.2', 'Iris-setosa'],\n",
        " ['1.4', '0.2', 'Iris-setosa'],\n",
        " ['1.5', '0.2', 'Iris-setosa'],\n",
        " ['1.4', '0.2', 'Iris-setosa'],\n",
        " ['4.7', '1.4', 'Iris-versicolor'],\n",
        " ['4.5', '1.5', 'Iris-versicolor'],\n",
        " ['4.9', '1.5', 'Iris-versicolor'],\n",
        " ['4', '1.3', 'Iris-versicolor'],\n",
        " ['4.6', '1.5', 'Iris-versicolor'],\n",
        " ['4.5', '1.3', 'Iris-versicolor'],\n",
        " ['4.7', '1.6', 'Iris-versicolor'],\n",
        " ['3.3', '1', 'Iris-versicolor'],\n",
        " ['4.6', '1.3', 'Iris-versicolor'],\n",
        " ['3.9', '1.4', 'Iris-versicolor'],\n",
        " ['3.5', '1', 'Iris-versicolor'],\n",
        " ['4.2', '1.5', 'Iris-versicolor'],\n",
        " ['4', '1', 'Iris-versicolor'],\n",
        " ['4.7', '1.4', 'Iris-versicolor'],\n",
        " ['3.6', '1.3', 'Iris-versicolor'],\n",
        " ['4.4', '1.4', 'Iris-versicolor'],\n",
        " ['4.5', '1.5', 'Iris-versicolor'],\n",
        " ['4.1', '1', 'Iris-versicolor'],\n",
        " ['4.5', '1.5', 'Iris-versicolor'],\n",
        " ['3.9', '1.1', 'Iris-versicolor'],\n",
        " ['4.8', '1.8', 'Iris-versicolor'],\n",
        " ['4', '1.3', 'Iris-versicolor'],\n",
        " ['4.9', '1.5', 'Iris-versicolor'],\n",
        " ['4.7', '1.2', 'Iris-versicolor'],\n",
        " ['4.3', '1.3', 'Iris-versicolor'],\n",
        " ['4.4', '1.4', 'Iris-versicolor'],\n",
        " ['4.8', '1.4', 'Iris-versicolor'],\n",
        " ['5', '1.7', 'Iris-versicolor'],\n",
        " ['4.5', '1.5', 'Iris-versicolor'],\n",
        " ['3.5', '1', 'Iris-versicolor'],\n",
        " ['3.8', '1.1', 'Iris-versicolor'],\n",
        " ['3.7', '1', 'Iris-versicolor'],\n",
        " ['3.9', '1.2', 'Iris-versicolor'],\n",
        " ['5.1', '1.6', 'Iris-versicolor'],\n",
        " ['4.5', '1.5', 'Iris-versicolor'],\n",
        " ['4.5', '1.6', 'Iris-versicolor'],\n",
        " ['4.7', '1.5', 'Iris-versicolor'],\n",
        " ['4.4', '1.3', 'Iris-versicolor'],\n",
        " ['4.1', '1.3', 'Iris-versicolor'],\n",
        " ['4', '1.3', 'Iris-versicolor'],\n",
        " ['4.4', '1.2', 'Iris-versicolor'],\n",
        " ['4.6', '1.4', 'Iris-versicolor'],\n",
        " ['4', '1.2', 'Iris-versicolor'],\n",
        " ['3.3', '1', 'Iris-versicolor'],\n",
        " ['4.2', '1.3', 'Iris-versicolor'],\n",
        " ['4.2', '1.2', 'Iris-versicolor'],\n",
        " ['4.2', '1.3', 'Iris-versicolor'],\n",
        " ['4.3', '1.3', 'Iris-versicolor'],\n",
        " ['3', '1.1', 'Iris-versicolor'],\n",
        " ['4.1', '1.3', 'Iris-versicolor']]\n"
       ]
      }
     ],
     "prompt_number": 56
    },
    {
     "cell_type": "code",
     "collapsed": false,
     "input": [
      "ints1 = []\n",
      "ints2 = []\n",
      "labels = []\n",
      "for i in DATA :\n",
      "    ints1.append( float(i[0]) )\n",
      "    ints2.append( float(i[1]) )\n",
      "    if i[2] == 'Iris-setosa' :\n",
      "        labels.append( -1 )\n",
      "    else :\n",
      "        labels.append( +1 )\n",
      "print labels\n",
      "DataTuple = zip(ints1, ints2)"
     ],
     "language": "python",
     "metadata": {},
     "outputs": [
      {
       "output_type": "stream",
       "stream": "stdout",
       "text": [
        "[-1, -1, -1, -1, -1, -1, -1, -1, -1, -1, -1, -1, -1, -1, -1, -1, -1, -1, -1, -1, -1, -1, -1, -1, -1, -1, -1, -1, -1, -1, -1, -1, -1, -1, -1, -1, -1, -1, -1, -1, -1, -1, -1, -1, -1, -1, -1, -1, -1, -1, 1, 1, 1, 1, 1, 1, 1, 1, 1, 1, 1, 1, 1, 1, 1, 1, 1, 1, 1, 1, 1, 1, 1, 1, 1, 1, 1, 1, 1, 1, 1, 1, 1, 1, 1, 1, 1, 1, 1, 1, 1, 1, 1, 1, 1, 1, 1, 1, 1, 1]\n"
       ]
      }
     ],
     "prompt_number": 8
    },
    {
     "cell_type": "code",
     "collapsed": false,
     "input": [
      "import matplotlib.pyplot as plt\n",
      "from random import randint\n",
      "from math import exp\n",
      "from numpy import arange\n",
      "import numpy as np\n",
      "\n",
      "# Plot results\n",
      "plt.figure(0)\n",
      "plt.plot(ints1,ints2, 'o')\n",
      "# plt.xlabel(\"time 't' in seconds\")\n",
      "# plt.ylabel(\"voltage V in Volts\")\n",
      "# plt.title('Spiking Integrate-and-Fire Model')\n",
      "# plt.axis([ 0, 1, -0.075, -0.035 ])\n",
      "# plt.savefig(\"figure1.png\", dpi=300, pad_inches=0.2)\n",
      "\n",
      "Hno = 3\n",
      "X = arange(0, 6, 0.01)\n",
      "Y = []\n",
      "for x in X :\n",
      "    Y.append(  (T[Hno] - x*H[Hno][0] )/ H[Hno][1]   )\n",
      "\n",
      "plt.plot(X,Y)\n",
      "plt.show()"
     ],
     "language": "python",
     "metadata": {},
     "outputs": [
      {
       "output_type": "display_data",
       "png": "[encoded data removed]"
      }
     ],
     "prompt_number": 98
    },
    {
     "cell_type": "markdown",
     "metadata": {},
     "source": [
      "* logistic loss $L_{\\text{log}} (z) = \\log_2 (1 + \\exp(-z))$\n",
      "* exponential loss $L_{\\text{exp}} (z) = \\exp(-z)$\n",
      "* squared loss $L_{\\text{sq}} (z) = (1 - z)^2$; which sometimes is equated to $0$ for $z>1$"
     ]
    },
    {
     "cell_type": "code",
     "collapsed": false,
     "input": [
      "print hypothesis( (4.5, 1.6) )"
     ],
     "language": "python",
     "metadata": {},
     "outputs": [
      {
       "output_type": "stream",
       "stream": "stdout",
       "text": [
        "1.085\n"
       ]
      }
     ],
     "prompt_number": 10
    },
    {
     "cell_type": "code",
     "collapsed": false,
     "input": [
      "from math import exp\n",
      "from math import log\n",
      "from numpy import dot\n",
      "\n",
      "# hypothesis space --- hypothesis 4 is all right\n",
      "H = [(0,0), (1,1), (1,5), (-4,20), (0.33,1)]\n",
      "T = [ 0   ,  1   ,  3   ,  9     ,  2]\n",
      "\n",
      "\n",
      "# define loss function\n",
      "def logLoss( z ) :\n",
      "    return log( 1+exp(-z) , 2 )\n",
      "\n",
      "def sqrLoss( z ) :\n",
      "    return (1-z)**2\n",
      "\n",
      "def expLoss( z ) :\n",
      "    return exp(-z)\n",
      "\n",
      "# define current, linear hypotheisis\n",
      "def hypothesis( x ) :\n",
      "    return dot( H[Hno] , x ) - T[Hno]\n",
      "\n",
      "# define marigin\n",
      "def marigin( x, y ) :\n",
      "    return y * hypothesis( x )\n",
      "\n",
      "# check whether point was querried --- RETURN INDEX\n",
      "def querried( x ) :\n",
      "    if x in Querried :\n",
      "        return (True, Querried.index(x))\n",
      "    else :\n",
      "        return (False, None)\n",
      "\n",
      "def label( x ) :\n",
      "    # check whether point was querried\n",
      "    ( q, l ) = querried( x )\n",
      "    if q :\n",
      "        return l\n",
      "    else :\n",
      "        return sign( hypothesis( x ) )\n",
      "        \n",
      "# access to oracle which returns true class\n",
      "def oracle( x ) :\n",
      "    i = DataTuple.index(x)\n",
      "    return labels[i]"
     ],
     "language": "python",
     "metadata": {},
     "outputs": [],
     "prompt_number": 117
    },
    {
     "cell_type": "code",
     "collapsed": false,
     "input": [
      "# hypothesis choice\n",
      "Hno = 0\n",
      "# list of querried points\n",
      "Querried = []\n",
      "\n",
      "# Define main loop --- querry 25%\n",
      "pool = DataTuple\n",
      "N = len(pool)\n",
      "budget = 0.25 * N\n",
      "p_min = 0.005\n",
      "\n",
      "# set current hypothesis!!!!!!\n",
      "Hno = 0\n",
      "\n",
      "oracleQuerries = 0\n",
      "h_1 = 0\n",
      "t = 1\n",
      "\n",
      "Q = []\n",
      "P = []\n",
      "Y = []\n",
      "\n",
      "res = []\n",
      "while oracleQuerries <=budget :\n",
      "    p_t = []\n",
      "    \n",
      "    ys = []\n",
      "    for i in pool :\n",
      "        if i in Querried :\n",
      "            y = oracle( i )\n",
      "        else :\n",
      "            y = sign( hypothesis( i ) )\n",
      "        ys.append(y)\n",
      "#    print Y\n",
      "            \n",
      "    summed = 0\n",
      "    for i, z in enumerate(pool) :\n",
      "        summed += logLoss( marigin(z, ys[i]) )\n",
      "#    print summed\n",
      "    Y.append( ys )\n",
      "    \n",
      "#    for x in pool :\n",
      "#        print hypothesis(x)\n",
      "    \n",
      "    \n",
      "    for i, x in enumerate(pool):\n",
      "        p_t.append(  max(0.005, p_min + (1.0-N*p_min)*( logLoss( marigin(x, ys[i]) ) / summed ) ) )\n",
      "        \n",
      "#    print p_t\n",
      "#    print max(p_t)\n",
      "\n",
      "    # Create sampling distribution\n",
      "#    print p_t\n",
      "    probabilities = (numpy.random.multinomial(1, p_t)).tolist()\n",
      "#    print probabilities[5]\n",
      "    querry_x = probabilities.index(1)\n",
      "#    print querry_x\n",
      "    \n",
      "    Q.append( querry_x )\n",
      "    P.append( p_t )\n",
      "    \n",
      "    \n",
      "    if pool[querry_x] in Querried :\n",
      "        # Reuse label\n",
      "        pass\n",
      "    else :\n",
      "        # Querry oracle\n",
      "        Querried.append( pool[querry_x] )\n",
      "        oracleQuerries += 1\n",
      "\n",
      "    # Do Thompson sampling\n",
      "    sample = []\n",
      "    for i in range(1, len(H)) :\n",
      "        # choose hypothesis\n",
      "        Hno = i\n",
      "        \n",
      "        # Get mean\n",
      "        sup = 0\n",
      "        for j, k in enumerate( Q ) :\n",
      "            sup += (1.0/P[j][k])* logLoss( marigin( pool[k],Y[j][k] ) )\n",
      "        L = float(1.0/(N*t)) * sup\n",
      "        \n",
      "        # Get sigma\n",
      "        s_s_1 = 0\n",
      "        s_s_2 = 0\n",
      "        for j, k in enumerate( Q ) :\n",
      "            s_s_1 += ( (1.0/P[j][k])* logLoss( marigin( pool[k],Y[j][k] ) )  )**2\n",
      "        for j, k in enumerate( Q ) :\n",
      "            s_s_2 += logLoss( marigin( pool[k],Y[j][k] ) )\n",
      "        s_s_2 = s_s_2**2\n",
      "        s_s = max( 0, s_s_1 - s_s_2 )\n",
      "        s = ( math.sqrt( math.log(t) ) / 10.0 ) * math.sqrt( s_s )\n",
      "        \n",
      "        # simuate normal and sample\n",
      "#        print L, s\n",
      "\n",
      "        if oracleQuerries > budget :\n",
      "            res.append(L)\n",
      "\n",
      "        if s == 0 :\n",
      "            sample.append(L)\n",
      "        else :\n",
      "            sample.append( np.random.normal(L, s, 1) )\n",
      "        \n",
      "#    print sample\n",
      "    # set the hypothesis that minimizes\n",
      "    minim = 1000000\n",
      "    minIndex = -1\n",
      "    for i in range(len(sample)):\n",
      "        if sample[i] < minim :\n",
      "            minim = sample[i]\n",
      "            minIndex = i\n",
      "        elif sample[i] == minim :\n",
      "            # Toss a coin to decide\n",
      "            if bool(random.getrandbits(1)) :\n",
      "                minim = sample[i]\n",
      "            \n",
      "            \n",
      "            \n",
      "    Hno = minIndex+1\n",
      "#    print Hno\n",
      "        \n",
      "    t += 1\n",
      "\n",
      "    if Hno == 0 :\n",
      "        print \"Error!\"\n",
      "        break\n",
      "    \n",
      "            \n",
      "            \n",
      "#print \"\\n        \", Hno\n",
      "\n",
      "# Get result\n",
      "    minim = 1000000\n",
      "    minIndex = -1\n",
      "    for i in range(len(res)):\n",
      "        if res[i] < minim :\n",
      "            minim = res[i]\n",
      "            minIndex = i\n",
      "print \"\\n        \", minIndex+1"
     ],
     "language": "python",
     "metadata": {},
     "outputs": [
      {
       "output_type": "stream",
       "stream": "stdout",
       "text": [
        "\n",
        "         4\n"
       ]
      }
     ],
     "prompt_number": 118
    },
    {
     "cell_type": "code",
     "collapsed": false,
     "input": [
      "# test for duplicates\n",
      "a = zip(ints1, ints2, labels)\n",
      "print a\n",
      "import collections\n",
      "print [x for x, y in collections.Counter(a).items() if y > 1]"
     ],
     "language": "python",
     "metadata": {},
     "outputs": [
      {
       "output_type": "stream",
       "stream": "stdout",
       "text": [
        "[(1.4, 0.2, -1), (1.4, 0.2, -1), (1.3, 0.2, -1), (1.5, 0.2, -1), (1.4, 0.2, -1), (1.7, 0.4, -1), (1.4, 0.3, -1), (1.5, 0.2, -1), (1.4, 0.2, -1), (1.5, 0.1, -1), (1.5, 0.2, -1), (1.6, 0.2, -1), (1.4, 0.1, -1), (1.1, 0.1, -1), (1.2, 0.2, -1), (1.5, 0.4, -1), (1.3, 0.4, -1), (1.4, 0.3, -1), (1.7, 0.3, -1), (1.5, 0.3, -1), (1.7, 0.2, -1), (1.5, 0.4, -1), (1.0, 0.2, -1), (1.7, 0.5, -1), (1.9, 0.2, -1), (1.6, 0.2, -1), (1.6, 0.4, -1), (1.5, 0.2, -1), (1.4, 0.2, -1), (1.6, 0.2, -1), (1.6, 0.2, -1), (1.5, 0.4, -1), (1.5, 0.1, -1), (1.4, 0.2, -1), (1.5, 0.1, -1), (1.2, 0.2, -1), (1.3, 0.2, -1), (1.5, 0.1, -1), (1.3, 0.2, -1), (1.5, 0.2, -1), (1.3, 0.3, -1), (1.3, 0.3, -1), (1.3, 0.2, -1), (1.6, 0.6, -1), (1.9, 0.4, -1), (1.4, 0.3, -1), (1.6, 0.2, -1), (1.4, 0.2, -1), (1.5, 0.2, -1), (1.4, 0.2, -1), (4.7, 1.4, 1), (4.5, 1.5, 1), (4.9, 1.5, 1), (4.0, 1.3, 1), (4.6, 1.5, 1), (4.5, 1.3, 1), (4.7, 1.6, 1), (3.3, 1.0, 1), (4.6, 1.3, 1), (3.9, 1.4, 1), (3.5, 1.0, 1), (4.2, 1.5, 1), (4.0, 1.0, 1), (4.7, 1.4, 1), (3.6, 1.3, 1), (4.4, 1.4, 1), (4.5, 1.5, 1), (4.1, 1.0, 1), (4.5, 1.5, 1), (3.9, 1.1, 1), (4.8, 1.8, 1), (4.0, 1.3, 1), (4.9, 1.5, 1), (4.7, 1.2, 1), (4.3, 1.3, 1), (4.4, 1.4, 1), (4.8, 1.4, 1), (5.0, 1.7, 1), (4.5, 1.5, 1), (3.5, 1.0, 1), (3.8, 1.1, 1), (3.7, 1.0, 1), (3.9, 1.2, 1), (5.1, 1.6, 1), (4.5, 1.5, 1), (4.5, 1.6, 1), (4.7, 1.5, 1), (4.4, 1.3, 1), (4.1, 1.3, 1), (4.0, 1.3, 1), (4.4, 1.2, 1), (4.6, 1.4, 1), (4.0, 1.2, 1), (3.3, 1.0, 1), (4.2, 1.3, 1), (4.2, 1.2, 1), (4.2, 1.3, 1), (4.3, 1.3, 1), (3.0, 1.1, 1), (4.1, 1.3, 1)]\n",
        "[(3.5, 1.0, 1), (4.3, 1.3, 1), (4.9, 1.5, 1), (1.3, 0.2, -1), (4.2, 1.3, 1), (4.4, 1.4, 1), (1.4, 0.2, -1), (4.5, 1.5, 1), (1.4, 0.3, -1), (4.0, 1.3, 1), (4.1, 1.3, 1), (1.5, 0.2, -1), (1.3, 0.3, -1), (3.3, 1.0, 1), (1.6, 0.2, -1), (1.5, 0.4, -1), (1.5, 0.1, -1), (1.2, 0.2, -1), (4.7, 1.4, 1)]\n"
       ]
      }
     ],
     "prompt_number": 37
    },
    {
     "cell_type": "code",
     "collapsed": false,
     "input": [
      "a = [(1,2),(3,1),(2,3),(1,2),3]\n",
      "print a.index((2,3))\n",
      "\n",
      "print zip( [2,3], [7,5] )"
     ],
     "language": "python",
     "metadata": {},
     "outputs": [
      {
       "output_type": "stream",
       "stream": "stdout",
       "text": [
        "2\n",
        "[(2, 7), (3, 5)]\n"
       ]
      }
     ],
     "prompt_number": 15
    },
    {
     "cell_type": "code",
     "collapsed": false,
     "input": [
      "for i,j in enumerate(['a', 'b', 'a']) :\n",
      "    print i, \" \", j\n",
      "    "
     ],
     "language": "python",
     "metadata": {},
     "outputs": [
      {
       "output_type": "stream",
       "stream": "stdout",
       "text": [
        "0   a\n",
        "1   b\n",
        "2   a\n"
       ]
      }
     ],
     "prompt_number": 49
    },
    {
     "cell_type": "code",
     "collapsed": false,
     "input": [
      "s = np.random.normal(5, 0.1, 10)\n",
      "print s"
     ],
     "language": "python",
     "metadata": {},
     "outputs": [
      {
       "output_type": "stream",
       "stream": "stdout",
       "text": [
        "[ 5.04633201  4.9301412   5.07743465  4.82969012  4.81423641  4.91506999\n",
        "  5.0078496   5.08361301  5.08260366  5.06701626]\n"
       ]
      }
     ],
     "prompt_number": 40
    },
    {
     "cell_type": "code",
     "collapsed": false,
     "input": [
      "bool(random.getrandbits(1))"
     ],
     "language": "python",
     "metadata": {},
     "outputs": [
      {
       "output_type": "pyout",
       "prompt_number": 101,
       "text": [
        "True"
       ]
      }
     ],
     "prompt_number": 101
    },
    {
     "cell_type": "code",
     "collapsed": false,
     "input": [
      "range(1, len(H))"
     ],
     "language": "python",
     "metadata": {},
     "outputs": [
      {
       "output_type": "pyout",
       "prompt_number": 104,
       "text": [
        "[1, 2, 3, 4]"
       ]
      }
     ],
     "prompt_number": 104
    },
    {
     "cell_type": "code",
     "collapsed": false,
     "input": [],
     "language": "python",
     "metadata": {},
     "outputs": []
    }
   ],
   "metadata": {}
  }
 ]
}