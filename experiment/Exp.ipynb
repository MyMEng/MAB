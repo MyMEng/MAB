{
 "metadata": {
  "name": "Exp"
 },
 "nbformat": 3,
 "nbformat_minor": 0,
 "worksheets": [
  {
   "cells": [
    {
     "cell_type": "markdown",
     "metadata": {},
     "source": [
      "$$\n",
      "U(\\hat{L}_t(h)) = \\frac{ \\sqrt{ \\log(t) } }\n",
      "                       { 10 }\n",
      "                  \\sqrt{ V^\\prime_t }\n",
      "$$\n",
      "and\n",
      "$$\n",
      "V^\\prime_t = \\left[\n",
      "  \\sum_{i = 1:n \\text{~} \\tau = 1:t} \\frac{Q^\\tau_i}{(p^\\tau_i)^2} L^2(z(x_i))\n",
      "  -\n",
      "  \\left( \\sum_{\\mathscr{Q}_t} L(z(x_i)) \\right)^2\n",
      "\\right]_+\n",
      "$$"
     ]
    },
    {
     "cell_type": "code",
     "collapsed": false,
     "input": [
      "# define dataset\n",
      "DATA = []\n",
      "\n",
      "import csv\n",
      "with open('iris.data', 'rb') as f:\n",
      "    reader = csv.reader(f)\n",
      "    for row in reader:\n",
      "        DATA.append(row)"
     ],
     "language": "python",
     "metadata": {},
     "outputs": [],
     "prompt_number": 1
    },
    {
     "cell_type": "code",
     "collapsed": false,
     "input": [
      "from pprint import pprint\n",
      "pprint( DATA )"
     ],
     "language": "python",
     "metadata": {},
     "outputs": [
      {
       "output_type": "stream",
       "stream": "stdout",
       "text": [
        "[['1.4', '0.2', 'Iris-setosa'],\n",
        " ['1.4', '0.2', 'Iris-setosa'],\n",
        " ['1.3', '0.2', 'Iris-setosa'],\n",
        " ['1.5', '0.2', 'Iris-setosa'],\n",
        " ['1.4', '0.2', 'Iris-setosa'],\n",
        " ['1.7', '0.4', 'Iris-setosa'],\n",
        " ['1.4', '0.3', 'Iris-setosa'],\n",
        " ['1.5', '0.2', 'Iris-setosa'],\n",
        " ['1.4', '0.2', 'Iris-setosa'],\n",
        " ['1.5', '0.1', 'Iris-setosa'],\n",
        " ['1.5', '0.2', 'Iris-setosa'],\n",
        " ['1.6', '0.2', 'Iris-setosa'],\n",
        " ['1.4', '0.1', 'Iris-setosa'],\n",
        " ['1.1', '0.1', 'Iris-setosa'],\n",
        " ['1.2', '0.2', 'Iris-setosa'],\n",
        " ['1.5', '0.4', 'Iris-setosa'],\n",
        " ['1.3', '0.4', 'Iris-setosa'],\n",
        " ['1.4', '0.3', 'Iris-setosa'],\n",
        " ['1.7', '0.3', 'Iris-setosa'],\n",
        " ['1.5', '0.3', 'Iris-setosa'],\n",
        " ['1.7', '0.2', 'Iris-setosa'],\n",
        " ['1.5', '0.4', 'Iris-setosa'],\n",
        " ['1', '0.2', 'Iris-setosa'],\n",
        " ['1.7', '0.5', 'Iris-setosa'],\n",
        " ['1.9', '0.2', 'Iris-setosa'],\n",
        " ['1.6', '0.2', 'Iris-setosa'],\n",
        " ['1.6', '0.4', 'Iris-setosa'],\n",
        " ['1.5', '0.2', 'Iris-setosa'],\n",
        " ['1.4', '0.2', 'Iris-setosa'],\n",
        " ['1.6', '0.2', 'Iris-setosa'],\n",
        " ['1.6', '0.2', 'Iris-setosa'],\n",
        " ['1.5', '0.4', 'Iris-setosa'],\n",
        " ['1.5', '0.1', 'Iris-setosa'],\n",
        " ['1.4', '0.2', 'Iris-setosa'],\n",
        " ['1.5', '0.1', 'Iris-setosa'],\n",
        " ['1.2', '0.2', 'Iris-setosa'],\n",
        " ['1.3', '0.2', 'Iris-setosa'],\n",
        " ['1.5', '0.1', 'Iris-setosa'],\n",
        " ['1.3', '0.2', 'Iris-setosa'],\n",
        " ['1.5', '0.2', 'Iris-setosa'],\n",
        " ['1.3', '0.3', 'Iris-setosa'],\n",
        " ['1.3', '0.3', 'Iris-setosa'],\n",
        " ['1.3', '0.2', 'Iris-setosa'],\n",
        " ['1.6', '0.6', 'Iris-setosa'],\n",
        " ['1.9', '0.4', 'Iris-setosa'],\n",
        " ['1.4', '0.3', 'Iris-setosa'],\n",
        " ['1.6', '0.2', 'Iris-setosa'],\n",
        " ['1.4', '0.2', 'Iris-setosa'],\n",
        " ['1.5', '0.2', 'Iris-setosa'],\n",
        " ['1.4', '0.2', 'Iris-setosa'],\n",
        " ['4.7', '1.4', 'Iris-versicolor'],\n",
        " ['4.5', '1.5', 'Iris-versicolor'],\n",
        " ['4.9', '1.5', 'Iris-versicolor'],\n",
        " ['4', '1.3', 'Iris-versicolor'],\n",
        " ['4.6', '1.5', 'Iris-versicolor'],\n",
        " ['4.5', '1.3', 'Iris-versicolor'],\n",
        " ['4.7', '1.6', 'Iris-versicolor'],\n",
        " ['3.3', '1', 'Iris-versicolor'],\n",
        " ['4.6', '1.3', 'Iris-versicolor'],\n",
        " ['3.9', '1.4', 'Iris-versicolor'],\n",
        " ['3.5', '1', 'Iris-versicolor'],\n",
        " ['4.2', '1.5', 'Iris-versicolor'],\n",
        " ['4', '1', 'Iris-versicolor'],\n",
        " ['4.7', '1.4', 'Iris-versicolor'],\n",
        " ['3.6', '1.3', 'Iris-versicolor'],\n",
        " ['4.4', '1.4', 'Iris-versicolor'],\n",
        " ['4.5', '1.5', 'Iris-versicolor'],\n",
        " ['4.1', '1', 'Iris-versicolor'],\n",
        " ['4.5', '1.5', 'Iris-versicolor'],\n",
        " ['3.9', '1.1', 'Iris-versicolor'],\n",
        " ['4.8', '1.8', 'Iris-versicolor'],\n",
        " ['4', '1.3', 'Iris-versicolor'],\n",
        " ['4.9', '1.5', 'Iris-versicolor'],\n",
        " ['4.7', '1.2', 'Iris-versicolor'],\n",
        " ['4.3', '1.3', 'Iris-versicolor'],\n",
        " ['4.4', '1.4', 'Iris-versicolor'],\n",
        " ['4.8', '1.4', 'Iris-versicolor'],\n",
        " ['5', '1.7', 'Iris-versicolor'],\n",
        " ['4.5', '1.5', 'Iris-versicolor'],\n",
        " ['3.5', '1', 'Iris-versicolor'],\n",
        " ['3.8', '1.1', 'Iris-versicolor'],\n",
        " ['3.7', '1', 'Iris-versicolor'],\n",
        " ['3.9', '1.2', 'Iris-versicolor'],\n",
        " ['5.1', '1.6', 'Iris-versicolor'],\n",
        " ['4.5', '1.5', 'Iris-versicolor'],\n",
        " ['4.5', '1.6', 'Iris-versicolor'],\n",
        " ['4.7', '1.5', 'Iris-versicolor'],\n",
        " ['4.4', '1.3', 'Iris-versicolor'],\n",
        " ['4.1', '1.3', 'Iris-versicolor'],\n",
        " ['4', '1.3', 'Iris-versicolor'],\n",
        " ['4.4', '1.2', 'Iris-versicolor'],\n",
        " ['4.6', '1.4', 'Iris-versicolor'],\n",
        " ['4', '1.2', 'Iris-versicolor'],\n",
        " ['3.3', '1', 'Iris-versicolor'],\n",
        " ['4.2', '1.3', 'Iris-versicolor'],\n",
        " ['4.2', '1.2', 'Iris-versicolor'],\n",
        " ['4.2', '1.3', 'Iris-versicolor'],\n",
        " ['4.3', '1.3', 'Iris-versicolor'],\n",
        " ['3', '1.1', 'Iris-versicolor'],\n",
        " ['4.1', '1.3', 'Iris-versicolor']]\n"
       ]
      }
     ],
     "prompt_number": 2
    },
    {
     "cell_type": "code",
     "collapsed": false,
     "input": [
      "ints1 = []\n",
      "ints2 = []\n",
      "labels = []\n",
      "for i in DATA :\n",
      "    ints1.append( float(i[0]) )\n",
      "    ints2.append( float(i[1]) )\n",
      "    if i[2] == 'Iris-setosa' :\n",
      "        labels.append( -1 )\n",
      "    else :\n",
      "        labels.append( +1 )\n",
      "print labels\n",
      "DataTuple = zip(ints1, ints2)"
     ],
     "language": "python",
     "metadata": {},
     "outputs": [
      {
       "output_type": "stream",
       "stream": "stdout",
       "text": [
        "[-1, -1, -1, -1, -1, -1, -1, -1, -1, -1, -1, -1, -1, -1, -1, -1, -1, -1, -1, -1, -1, -1, -1, -1, -1, -1, -1, -1, -1, -1, -1, -1, -1, -1, -1, -1, -1, -1, -1, -1, -1, -1, -1, -1, -1, -1, -1, -1, -1, -1, 1, 1, 1, 1, 1, 1, 1, 1, 1, 1, 1, 1, 1, 1, 1, 1, 1, 1, 1, 1, 1, 1, 1, 1, 1, 1, 1, 1, 1, 1, 1, 1, 1, 1, 1, 1, 1, 1, 1, 1, 1, 1, 1, 1, 1, 1, 1, 1, 1, 1]\n"
       ]
      }
     ],
     "prompt_number": 18
    },
    {
     "cell_type": "code",
     "collapsed": false,
     "input": [
      "import matplotlib.pyplot as plt\n",
      "from random import randint\n",
      "from math import exp\n",
      "from numpy import arange\n",
      "import numpy as np\n",
      "\n",
      "# Plot results\n",
      "plt.figure(0)\n",
      "plt.plot(ints1,ints2, 'o')\n",
      "# plt.xlabel(\"time 't' in seconds\")\n",
      "# plt.ylabel(\"voltage V in Volts\")\n",
      "# plt.title('Spiking Integrate-and-Fire Model')\n",
      "# plt.axis([ 0, 1, -0.075, -0.035 ])\n",
      "# plt.savefig(\"figure1.png\", dpi=300, pad_inches=0.2)\n",
      "\n",
      "Hno = 4\n",
      "X = arange(0, 6, 0.01)\n",
      "Y = []\n",
      "for x in X :\n",
      "    Y.append(  (T[Hno] - x*H[Hno][0] )/ H[Hno][1]   )\n",
      "\n",
      "plt.plot(X,Y)\n",
      "plt.show()"
     ],
     "language": "python",
     "metadata": {},
     "outputs": [
      {
       "output_type": "display_data",
       "png": "[encoded data removed]"
      }
     ],
     "prompt_number": 44
    },
    {
     "cell_type": "markdown",
     "metadata": {},
     "source": [
      "* logistic loss $L_{\\text{log}} (z) = \\log_2 (1 + \\exp(-z))$\n",
      "* exponential loss $L_{\\text{exp}} (z) = \\exp(-z)$\n",
      "* squared loss $L_{\\text{sq}} (z) = (1 - z)^2$; which sometimes is equated to $0$ for $z>1$"
     ]
    },
    {
     "cell_type": "code",
     "collapsed": false,
     "input": [
      "print hypothesis( (4.5, 1.6) )"
     ],
     "language": "python",
     "metadata": {},
     "outputs": [
      {
       "output_type": "stream",
       "stream": "stdout",
       "text": [
        "1.085\n"
       ]
      }
     ],
     "prompt_number": 46
    },
    {
     "cell_type": "code",
     "collapsed": false,
     "input": [
      "from math import exp\n",
      "from math import log\n",
      "from numpy import dot\n",
      "\n",
      "# hypothesis space --- hypothesis 4 is all right\n",
      "H = [(0,0), (1,1), (1,5), (-4,20), (0.33,1)]\n",
      "T = [ 0   ,  1   ,  3   ,  9     ,  2]\n",
      "# hypothesis choice\n",
      "Hno = 0\n",
      "# list of querried points\n",
      "Querried = []\n",
      "\n",
      "# define loss function\n",
      "def logLoss( z ) :\n",
      "    return log( 1+exp(-z) , 2 )\n",
      "\n",
      "def sqrLoss( z ) :\n",
      "    return (1-z)**2\n",
      "\n",
      "def expLoss( z ) :\n",
      "    return exp(-z)\n",
      "\n",
      "# define current, linear hypotheisis\n",
      "def hypothesis( x ) :\n",
      "    return dot( H[Hno] , x ) - T[Hno]\n",
      "\n",
      "# define marigin\n",
      "def marigin( x, y ) :\n",
      "    return y * hypothesis( x )\n",
      "\n",
      "# check whether point was querried --- RETURN INDEX\n",
      "def querried( x ) :\n",
      "    if x in Querried :\n",
      "        return (True, Querried.index(x))\n",
      "    else :\n",
      "        return (False, None)\n",
      "\n",
      "def label( x ) :\n",
      "    # check whether point was querried\n",
      "    ( q, l ) = querried( x )\n",
      "    if q :\n",
      "        return l\n",
      "    else :\n",
      "        return sign( hypothesis( x ) )\n",
      "        \n",
      "# access to oracle which returns true class\n",
      "def oracle( x ) :\n",
      "    i = DataTuple.index(x)\n",
      "    return labels[i]"
     ],
     "language": "python",
     "metadata": {},
     "outputs": [],
     "prompt_number": 43
    },
    {
     "cell_type": "code",
     "collapsed": false,
     "input": [
      "# Define main loop --- querry 10%\n",
      "pool = DataTuple\n",
      "N = len(pool)\n",
      "budget = 0.1 * N\n",
      "p_min = 0.33\n",
      "\n",
      "oracleQuerries = 0\n",
      "h_1 = 0\n",
      "t = 1\n",
      "while oracleQuerries <=budget :\n",
      "    p_t = []\n",
      "    # set current hypothesis!!!!!!\n",
      "    Hno = 0\n",
      "    \n",
      "    for i in pool :\n",
      "        if i in Querried :\n",
      "            y = oracle( i )\n",
      "        else :\n",
      "            y = sign( hypothesis( x ) )\n",
      "        p_t.append( p_min + (1-N*p_min)*( / ) )\n",
      "            \n",
      "            \n",
      "        "
     ],
     "language": "python",
     "metadata": {},
     "outputs": []
    },
    {
     "cell_type": "code",
     "collapsed": false,
     "input": [
      "# test for duplicates\n",
      "a = zip(ints1, ints2, labels)\n",
      "print a\n",
      "import collections\n",
      "print [x for x, y in collections.Counter(a).items() if y > 1]"
     ],
     "language": "python",
     "metadata": {},
     "outputs": [
      {
       "output_type": "stream",
       "stream": "stdout",
       "text": [
        "[(1.4, 0.2, 'Iris-setosa'), (1.4, 0.2, 'Iris-setosa'), (1.3, 0.2, 'Iris-setosa'), (1.5, 0.2, 'Iris-setosa'), (1.4, 0.2, 'Iris-setosa'), (1.7, 0.4, 'Iris-setosa'), (1.4, 0.3, 'Iris-setosa'), (1.5, 0.2, 'Iris-setosa'), (1.4, 0.2, 'Iris-setosa'), (1.5, 0.1, 'Iris-setosa'), (1.5, 0.2, 'Iris-setosa'), (1.6, 0.2, 'Iris-setosa'), (1.4, 0.1, 'Iris-setosa'), (1.1, 0.1, 'Iris-setosa'), (1.2, 0.2, 'Iris-setosa'), (1.5, 0.4, 'Iris-setosa'), (1.3, 0.4, 'Iris-setosa'), (1.4, 0.3, 'Iris-setosa'), (1.7, 0.3, 'Iris-setosa'), (1.5, 0.3, 'Iris-setosa'), (1.7, 0.2, 'Iris-setosa'), (1.5, 0.4, 'Iris-setosa'), (1.0, 0.2, 'Iris-setosa'), (1.7, 0.5, 'Iris-setosa'), (1.9, 0.2, 'Iris-setosa'), (1.6, 0.2, 'Iris-setosa'), (1.6, 0.4, 'Iris-setosa'), (1.5, 0.2, 'Iris-setosa'), (1.4, 0.2, 'Iris-setosa'), (1.6, 0.2, 'Iris-setosa'), (1.6, 0.2, 'Iris-setosa'), (1.5, 0.4, 'Iris-setosa'), (1.5, 0.1, 'Iris-setosa'), (1.4, 0.2, 'Iris-setosa'), (1.5, 0.1, 'Iris-setosa'), (1.2, 0.2, 'Iris-setosa'), (1.3, 0.2, 'Iris-setosa'), (1.5, 0.1, 'Iris-setosa'), (1.3, 0.2, 'Iris-setosa'), (1.5, 0.2, 'Iris-setosa'), (1.3, 0.3, 'Iris-setosa'), (1.3, 0.3, 'Iris-setosa'), (1.3, 0.2, 'Iris-setosa'), (1.6, 0.6, 'Iris-setosa'), (1.9, 0.4, 'Iris-setosa'), (1.4, 0.3, 'Iris-setosa'), (1.6, 0.2, 'Iris-setosa'), (1.4, 0.2, 'Iris-setosa'), (1.5, 0.2, 'Iris-setosa'), (1.4, 0.2, 'Iris-setosa'), (4.7, 1.4, 'Iris-versicolor'), (4.5, 1.5, 'Iris-versicolor'), (4.9, 1.5, 'Iris-versicolor'), (4.0, 1.3, 'Iris-versicolor'), (4.6, 1.5, 'Iris-versicolor'), (4.5, 1.3, 'Iris-versicolor'), (4.7, 1.6, 'Iris-versicolor'), (3.3, 1.0, 'Iris-versicolor'), (4.6, 1.3, 'Iris-versicolor'), (3.9, 1.4, 'Iris-versicolor'), (3.5, 1.0, 'Iris-versicolor'), (4.2, 1.5, 'Iris-versicolor'), (4.0, 1.0, 'Iris-versicolor'), (4.7, 1.4, 'Iris-versicolor'), (3.6, 1.3, 'Iris-versicolor'), (4.4, 1.4, 'Iris-versicolor'), (4.5, 1.5, 'Iris-versicolor'), (4.1, 1.0, 'Iris-versicolor'), (4.5, 1.5, 'Iris-versicolor'), (3.9, 1.1, 'Iris-versicolor'), (4.8, 1.8, 'Iris-versicolor'), (4.0, 1.3, 'Iris-versicolor'), (4.9, 1.5, 'Iris-versicolor'), (4.7, 1.2, 'Iris-versicolor'), (4.3, 1.3, 'Iris-versicolor'), (4.4, 1.4, 'Iris-versicolor'), (4.8, 1.4, 'Iris-versicolor'), (5.0, 1.7, 'Iris-versicolor'), (4.5, 1.5, 'Iris-versicolor'), (3.5, 1.0, 'Iris-versicolor'), (3.8, 1.1, 'Iris-versicolor'), (3.7, 1.0, 'Iris-versicolor'), (3.9, 1.2, 'Iris-versicolor'), (5.1, 1.6, 'Iris-versicolor'), (4.5, 1.5, 'Iris-versicolor'), (4.5, 1.6, 'Iris-versicolor'), (4.7, 1.5, 'Iris-versicolor'), (4.4, 1.3, 'Iris-versicolor'), (4.1, 1.3, 'Iris-versicolor'), (4.0, 1.3, 'Iris-versicolor'), (4.4, 1.2, 'Iris-versicolor'), (4.6, 1.4, 'Iris-versicolor'), (4.0, 1.2, 'Iris-versicolor'), (3.3, 1.0, 'Iris-versicolor'), (4.2, 1.3, 'Iris-versicolor'), (4.2, 1.2, 'Iris-versicolor'), (4.2, 1.3, 'Iris-versicolor'), (4.3, 1.3, 'Iris-versicolor'), (3.0, 1.1, 'Iris-versicolor'), (4.1, 1.3, 'Iris-versicolor')]\n",
        "[(4.1, 1.3, 'Iris-versicolor'), (3.5, 1.0, 'Iris-versicolor'), (1.5, 0.2, 'Iris-setosa'), (1.5, 0.4, 'Iris-setosa'), (1.2, 0.2, 'Iris-setosa'), (1.4, 0.2, 'Iris-setosa'), (1.3, 0.2, 'Iris-setosa'), (4.0, 1.3, 'Iris-versicolor'), (1.4, 0.3, 'Iris-setosa'), (1.6, 0.2, 'Iris-setosa'), (1.3, 0.3, 'Iris-setosa'), (4.5, 1.5, 'Iris-versicolor'), (1.5, 0.1, 'Iris-setosa'), (4.4, 1.4, 'Iris-versicolor'), (4.2, 1.3, 'Iris-versicolor'), (4.9, 1.5, 'Iris-versicolor'), (3.3, 1.0, 'Iris-versicolor'), (4.7, 1.4, 'Iris-versicolor'), (4.3, 1.3, 'Iris-versicolor')]\n"
       ]
      }
     ],
     "prompt_number": 10
    },
    {
     "cell_type": "code",
     "collapsed": false,
     "input": [
      "a = [(1,2),(3,1),(2,3),(1,2),3]\n",
      "print a.index((2,3))\n",
      "\n",
      "print zip( [2,3], [7,5] )"
     ],
     "language": "python",
     "metadata": {},
     "outputs": [
      {
       "output_type": "stream",
       "stream": "stdout",
       "text": [
        "2\n",
        "[(2, 7), (3, 5)]\n"
       ]
      }
     ],
     "prompt_number": 15
    },
    {
     "cell_type": "code",
     "collapsed": false,
     "input": [],
     "language": "python",
     "metadata": {},
     "outputs": []
    }
   ],
   "metadata": {}
  }
 ]
}