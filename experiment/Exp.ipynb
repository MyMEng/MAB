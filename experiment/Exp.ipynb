{
 "metadata": {
  "name": "Exp"
 },
 "nbformat": 3,
 "nbformat_minor": 0,
 "worksheets": [
  {
   "cells": [
    {
     "cell_type": "markdown",
     "metadata": {},
     "source": [
      "$$\n",
      "U(\\hat{L}_t(h)) = \\frac{ \\sqrt{ \\log(t) } }\n",
      "                       { 10 }\n",
      "                  \\sqrt{ V^\\prime_t }\n",
      "$$\n",
      "and\n",
      "$$\n",
      "V^\\prime_t = \\left[\n",
      "  \\sum_{i = 1:n \\text{~} \\tau = 1:t} \\frac{Q^\\tau_i}{(p^\\tau_i)^2} L^2(z(x_i))\n",
      "  -\n",
      "  \\left( \\sum_{\\mathscr{Q}_t} L(z(x_i)) \\right)^2\n",
      "\\right]_+\n",
      "$$"
     ]
    },
    {
     "cell_type": "code",
     "collapsed": false,
     "input": [
      "# define dataset\n",
      "DATA = []\n",
      "\n",
      "import csv\n",
      "with open('iris.data', 'rb') as f:\n",
      "    reader = csv.reader(f)\n",
      "    for row in reader:\n",
      "        DATA.append(row)"
     ],
     "language": "python",
     "metadata": {},
     "outputs": [],
     "prompt_number": 2
    },
    {
     "cell_type": "code",
     "collapsed": false,
     "input": [
      "from pprint import pprint\n",
      "pprint( DATA )\n",
      "import random"
     ],
     "language": "python",
     "metadata": {},
     "outputs": [
      {
       "output_type": "stream",
       "stream": "stdout",
       "text": [
        "[['1.4', '0.2', 'Iris-setosa'],\n",
        " ['1.4', '0.2', 'Iris-setosa'],\n",
        " ['1.3', '0.2', 'Iris-setosa'],\n",
        " ['1.5', '0.2', 'Iris-setosa'],\n",
        " ['1.4', '0.2', 'Iris-setosa'],\n",
        " ['1.7', '0.4', 'Iris-setosa'],\n",
        " ['1.4', '0.3', 'Iris-setosa'],\n",
        " ['1.5', '0.2', 'Iris-setosa'],\n",
        " ['1.4', '0.2', 'Iris-setosa'],\n",
        " ['1.5', '0.1', 'Iris-setosa'],\n",
        " ['1.5', '0.2', 'Iris-setosa'],\n",
        " ['1.6', '0.2', 'Iris-setosa'],\n",
        " ['1.4', '0.1', 'Iris-setosa'],\n",
        " ['1.1', '0.1', 'Iris-setosa'],\n",
        " ['1.2', '0.2', 'Iris-setosa'],\n",
        " ['1.5', '0.4', 'Iris-setosa'],\n",
        " ['1.3', '0.4', 'Iris-setosa'],\n",
        " ['1.4', '0.3', 'Iris-setosa'],\n",
        " ['1.7', '0.3', 'Iris-setosa'],\n",
        " ['1.5', '0.3', 'Iris-setosa'],\n",
        " ['1.7', '0.2', 'Iris-setosa'],\n",
        " ['1.5', '0.4', 'Iris-setosa'],\n",
        " ['1', '0.2', 'Iris-setosa'],\n",
        " ['1.7', '0.5', 'Iris-setosa'],\n",
        " ['1.9', '0.2', 'Iris-setosa'],\n",
        " ['1.6', '0.2', 'Iris-setosa'],\n",
        " ['1.6', '0.4', 'Iris-setosa'],\n",
        " ['1.5', '0.2', 'Iris-setosa'],\n",
        " ['1.4', '0.2', 'Iris-setosa'],\n",
        " ['1.6', '0.2', 'Iris-setosa'],\n",
        " ['1.6', '0.2', 'Iris-setosa'],\n",
        " ['1.5', '0.4', 'Iris-setosa'],\n",
        " ['1.5', '0.1', 'Iris-setosa'],\n",
        " ['1.4', '0.2', 'Iris-setosa'],\n",
        " ['1.5', '0.1', 'Iris-setosa'],\n",
        " ['1.2', '0.2', 'Iris-setosa'],\n",
        " ['1.3', '0.2', 'Iris-setosa'],\n",
        " ['1.5', '0.1', 'Iris-setosa'],\n",
        " ['1.3', '0.2', 'Iris-setosa'],\n",
        " ['1.5', '0.2', 'Iris-setosa'],\n",
        " ['1.3', '0.3', 'Iris-setosa'],\n",
        " ['1.3', '0.3', 'Iris-setosa'],\n",
        " ['1.3', '0.2', 'Iris-setosa'],\n",
        " ['1.6', '0.6', 'Iris-setosa'],\n",
        " ['1.9', '0.4', 'Iris-setosa'],\n",
        " ['1.4', '0.3', 'Iris-setosa'],\n",
        " ['1.6', '0.2', 'Iris-setosa'],\n",
        " ['1.4', '0.2', 'Iris-setosa'],\n",
        " ['1.5', '0.2', 'Iris-setosa'],\n",
        " ['1.4', '0.2', 'Iris-setosa'],\n",
        " ['4.7', '1.4', 'Iris-versicolor'],\n",
        " ['4.5', '1.5', 'Iris-versicolor'],\n",
        " ['4.9', '1.5', 'Iris-versicolor'],\n",
        " ['4', '1.3', 'Iris-versicolor'],\n",
        " ['4.6', '1.5', 'Iris-versicolor'],\n",
        " ['4.5', '1.3', 'Iris-versicolor'],\n",
        " ['4.7', '1.6', 'Iris-versicolor'],\n",
        " ['3.3', '1', 'Iris-versicolor'],\n",
        " ['4.6', '1.3', 'Iris-versicolor'],\n",
        " ['3.9', '1.4', 'Iris-versicolor'],\n",
        " ['3.5', '1', 'Iris-versicolor'],\n",
        " ['4.2', '1.5', 'Iris-versicolor'],\n",
        " ['4', '1', 'Iris-versicolor'],\n",
        " ['4.7', '1.4', 'Iris-versicolor'],\n",
        " ['3.6', '1.3', 'Iris-versicolor'],\n",
        " ['4.4', '1.4', 'Iris-versicolor'],\n",
        " ['4.5', '1.5', 'Iris-versicolor'],\n",
        " ['4.1', '1', 'Iris-versicolor'],\n",
        " ['4.5', '1.5', 'Iris-versicolor'],\n",
        " ['3.9', '1.1', 'Iris-versicolor'],\n",
        " ['4.8', '1.8', 'Iris-versicolor'],\n",
        " ['4', '1.3', 'Iris-versicolor'],\n",
        " ['4.9', '1.5', 'Iris-versicolor'],\n",
        " ['4.7', '1.2', 'Iris-versicolor'],\n",
        " ['4.3', '1.3', 'Iris-versicolor'],\n",
        " ['4.4', '1.4', 'Iris-versicolor'],\n",
        " ['4.8', '1.4', 'Iris-versicolor'],\n",
        " ['5', '1.7', 'Iris-versicolor'],\n",
        " ['4.5', '1.5', 'Iris-versicolor'],\n",
        " ['3.5', '1', 'Iris-versicolor'],\n",
        " ['3.8', '1.1', 'Iris-versicolor'],\n",
        " ['3.7', '1', 'Iris-versicolor'],\n",
        " ['3.9', '1.2', 'Iris-versicolor'],\n",
        " ['5.1', '1.6', 'Iris-versicolor'],\n",
        " ['4.5', '1.5', 'Iris-versicolor'],\n",
        " ['4.5', '1.6', 'Iris-versicolor'],\n",
        " ['4.7', '1.5', 'Iris-versicolor'],\n",
        " ['4.4', '1.3', 'Iris-versicolor'],\n",
        " ['4.1', '1.3', 'Iris-versicolor'],\n",
        " ['4', '1.3', 'Iris-versicolor'],\n",
        " ['4.4', '1.2', 'Iris-versicolor'],\n",
        " ['4.6', '1.4', 'Iris-versicolor'],\n",
        " ['4', '1.2', 'Iris-versicolor'],\n",
        " ['3.3', '1', 'Iris-versicolor'],\n",
        " ['4.2', '1.3', 'Iris-versicolor'],\n",
        " ['4.2', '1.2', 'Iris-versicolor'],\n",
        " ['4.2', '1.3', 'Iris-versicolor'],\n",
        " ['4.3', '1.3', 'Iris-versicolor'],\n",
        " ['3', '1.1', 'Iris-versicolor'],\n",
        " ['4.1', '1.3', 'Iris-versicolor']]\n"
       ]
      }
     ],
     "prompt_number": 56
    },
    {
     "cell_type": "code",
     "collapsed": false,
     "input": [
      "ints1 = []\n",
      "ints2 = []\n",
      "labels = []\n",
      "for i in DATA :\n",
      "    ints1.append( float(i[0]) )\n",
      "    ints2.append( float(i[1]) )\n",
      "    if i[2] == 'Iris-setosa' :\n",
      "        labels.append( -1 )\n",
      "    else :\n",
      "        labels.append( +1 )\n",
      "print labels\n",
      "DataTuple = zip(ints1, ints2)"
     ],
     "language": "python",
     "metadata": {},
     "outputs": [
      {
       "output_type": "stream",
       "stream": "stdout",
       "text": [
        "[-1, -1, -1, -1, -1, -1, -1, -1, -1, -1, -1, -1, -1, -1, -1, -1, -1, -1, -1, -1, -1, -1, -1, -1, -1, -1, -1, -1, -1, -1, -1, -1, -1, -1, -1, -1, -1, -1, -1, -1, -1, -1, -1, -1, -1, -1, -1, -1, -1, -1, 1, 1, 1, 1, 1, 1, 1, 1, 1, 1, 1, 1, 1, 1, 1, 1, 1, 1, 1, 1, 1, 1, 1, 1, 1, 1, 1, 1, 1, 1, 1, 1, 1, 1, 1, 1, 1, 1, 1, 1, 1, 1, 1, 1, 1, 1, 1, 1, 1, 1]\n"
       ]
      }
     ],
     "prompt_number": 8
    },
    {
     "cell_type": "code",
     "collapsed": false,
     "input": [
      "import matplotlib.pyplot as plt\n",
      "from random import randint\n",
      "from math import exp\n",
      "from numpy import arange\n",
      "import numpy as np\n",
      "\n",
      "# Plot results\n",
      "plt.figure(0)\n",
      "plt.plot(ints1,ints2, 'o')\n",
      "# plt.xlabel(\"time 't' in seconds\")\n",
      "# plt.ylabel(\"voltage V in Volts\")\n",
      "# plt.title('Spiking Integrate-and-Fire Model')\n",
      "# plt.axis([ 0, 1, -0.075, -0.035 ])\n",
      "# plt.savefig(\"figure1.png\", dpi=300, pad_inches=0.2)\n",
      "\n",
      "Hno = 3\n",
      "X = arange(0, 6, 0.01)\n",
      "Y = []\n",
      "for x in X :\n",
      "    Y.append(  (T[Hno] - x*H[Hno][0] )/ H[Hno][1]   )\n",
      "\n",
      "plt.plot(X,Y)\n",
      "plt.show()"
     ],
     "language": "python",
     "metadata": {},
     "outputs": [
      {
       "output_type": "display_data",
       "png": "[encoded data removed]"
      }
     ],
     "prompt_number": 98
    },
    {
     "cell_type": "markdown",
     "metadata": {},
     "source": [
      "* logistic loss $L_{\\text{log}} (z) = \\log_2 (1 + \\exp(-z))$\n",
      "* exponential loss $L_{\\text{exp}} (z) = \\exp(-z)$\n",
      "* squared loss $L_{\\text{sq}} (z) = (1 - z)^2$; which sometimes is equated to $0$ for $z>1$"
     ]
    },
    {
     "cell_type": "code",
     "collapsed": false,
     "input": [
      "print hypothesis( (4.5, 1.6) )"
     ],
     "language": "python",
     "metadata": {},
     "outputs": [
      {
       "output_type": "stream",
       "stream": "stdout",
       "text": [
        "1.085\n"
       ]
      }
     ],
     "prompt_number": 10
    },
    {
     "cell_type": "code",
     "collapsed": false,
     "input": [
      "from math import exp\n",
      "from math import log\n",
      "from numpy import dot\n",
      "\n",
      "# hypothesis space --- hypothesis 4 is all right\n",
      "H = [(0,0), (1,1), (1,5), (-4,20), (0.33,1)]\n",
      "T = [ 0   ,  1   ,  3   ,  9     ,  2]\n",
      "\n",
      "\n",
      "# define loss function\n",
      "def logLoss( z ) :\n",
      "    return log( 1+exp(-z) , 2 )\n",
      "\n",
      "def sqrLoss( z ) :\n",
      "    return (1-z)**2\n",
      "\n",
      "def expLoss( z ) :\n",
      "    return exp(-z)\n",
      "\n",
      "# define current, linear hypotheisis\n",
      "def hypothesis( x ) :\n",
      "    return dot( H[Hno] , x ) - T[Hno]\n",
      "\n",
      "# define marigin\n",
      "def marigin( x, y ) :\n",
      "    return y * hypothesis( x )\n",
      "\n",
      "# check whether point was querried --- RETURN INDEX\n",
      "def querried( x ) :\n",
      "    if x in Querried :\n",
      "        return (True, Querried.index(x))\n",
      "    else :\n",
      "        return (False, None)\n",
      "\n",
      "def label( x ) :\n",
      "    # check whether point was querried\n",
      "    ( q, l ) = querried( x )\n",
      "    if q :\n",
      "        return l\n",
      "    else :\n",
      "        return sign( hypothesis( x ) )\n",
      "        \n",
      "# access to oracle which returns true class\n",
      "def oracle( x ) :\n",
      "    i = DataTuple.index(x)\n",
      "    return labels[i]"
     ],
     "language": "python",
     "metadata": {},
     "outputs": [],
     "prompt_number": 11
    },
    {
     "cell_type": "code",
     "collapsed": false,
     "input": [
      "# hypothesis choice\n",
      "Hno = 0\n",
      "# list of querried points\n",
      "Querried = []\n",
      "\n",
      "# Define main loop --- querry 25%\n",
      "pool = DataTuple\n",
      "N = len(pool)\n",
      "budget = 0.75 * N\n",
      "p_min = 0.005\n",
      "\n",
      "# set current hypothesis!!!!!!\n",
      "Hno = 0\n",
      "\n",
      "oracleQuerries = 0\n",
      "h_1 = 0\n",
      "t = 1\n",
      "\n",
      "Q = []\n",
      "P = []\n",
      "Y = []\n",
      "while oracleQuerries <=budget :\n",
      "    p_t = []\n",
      "    \n",
      "    ys = []\n",
      "    for i in pool :\n",
      "        if i in Querried :\n",
      "            y = oracle( i )\n",
      "        else :\n",
      "            y = sign( hypothesis( i ) )\n",
      "        ys.append(y)\n",
      "#    print Y\n",
      "            \n",
      "    summed = 0\n",
      "    for i, z in enumerate(pool) :\n",
      "        summed += logLoss( marigin(z, ys[i]) )\n",
      "#    print summed\n",
      "    Y.append( ys )\n",
      "    \n",
      "#    for x in pool :\n",
      "#        print hypothesis(x)\n",
      "    \n",
      "    \n",
      "    for i, x in enumerate(pool):\n",
      "        p_t.append(  max(0.005, p_min + (1.0-N*p_min)*( logLoss( marigin(x, ys[i]) ) / summed ) ) )\n",
      "        \n",
      "#    print p_t\n",
      "#    print max(p_t)\n",
      "\n",
      "    # Create sampling distribution\n",
      "#    print p_t\n",
      "    probabilities = (numpy.random.multinomial(1, p_t)).tolist()\n",
      "#    print probabilities[5]\n",
      "    querry_x = probabilities.index(1)\n",
      "#    print querry_x\n",
      "    \n",
      "    Q.append( querry_x )\n",
      "    P.append( p_t )\n",
      "    \n",
      "    \n",
      "    if pool[querry_x] in Querried :\n",
      "        # Reuse label\n",
      "        pass\n",
      "    else :\n",
      "        # Querry oracle\n",
      "        Querried.append( pool[querry_x] )\n",
      "        oracleQuerries += 1\n",
      "\n",
      "    # Do Thompson sampling\n",
      "    sample = []\n",
      "    for i in range(1, len(H)) :\n",
      "        # choose hypothesis\n",
      "        Hno = i\n",
      "        \n",
      "        # Get mean\n",
      "        sup = 0\n",
      "        for j, k in enumerate( Q ) :\n",
      "            sup += (1.0/P[j][k])* logLoss( marigin( pool[k],Y[j][k] ) )\n",
      "        L = float(1.0/(N*t)) * sup\n",
      "        \n",
      "        # Get sigma\n",
      "        s_s_1 = 0\n",
      "        s_s_2 = 0\n",
      "        for j, k in enumerate( Q ) :\n",
      "            s_s_1 += ( (1.0/P[j][k])* logLoss( marigin( pool[k],Y[j][k] ) )  )**2\n",
      "        for j, k in enumerate( Q ) :\n",
      "            s_s_2 += logLoss( marigin( pool[k],Y[j][k] ) )\n",
      "        s_s_2 = s_s_2**2\n",
      "        s_s = max( 0, s_s_1 - s_s_2 )\n",
      "        s = ( math.sqrt( math.log(t) ) / 10.0 ) * math.sqrt( s_s )\n",
      "        \n",
      "        # simuate normal and sample\n",
      "        print L, s\n",
      "        if s == 0 :\n",
      "            sample.append(L)\n",
      "        else :\n",
      "            sample.append( np.random.normal(L, s, 1) )\n",
      "        \n",
      "    # set the hypothesis that minimizes\n",
      "    minim = 0\n",
      "    minIndex = -1\n",
      "    for i in range(len(sample)):\n",
      "        if sample[i] < minim :\n",
      "            minim = sample[i]\n",
      "            minIndex = i\n",
      "        elif sample[i] == minim :\n",
      "            # Toss a coin to decide\n",
      "            if bool(random.getrandbits(1)) :\n",
      "                minim = sample[i]\n",
      "            \n",
      "            \n",
      "            \n",
      "    Hno = maxIndex+1\n",
      "    print Hno\n",
      "        \n",
      "    t += 1\n",
      "\n",
      "    if Hno == 0 :\n",
      "        print \"Error!\"\n",
      "        break\n",
      "    \n",
      "            \n",
      "            \n",
      "print \"\\n        \", Hno"
     ],
     "language": "python",
     "metadata": {},
     "outputs": [
      {
       "output_type": "stream",
       "stream": "stdout",
       "text": [
        "1.0 0.0\n",
        "1.0 0.0\n",
        "1.0 0.0\n",
        "1.0 0.0\n",
        "3\n",
        "1.5174855227 18.8666016619\n",
        "2.2216488171 29.8343752241\n",
        "0.632016794373 8.6094628305\n",
        "0.74629796416 9.27829568252\n",
        "3\n",
        "1.01257926735 23.752150251\n",
        "1.4811244854 37.5600734963\n",
        "0.512100275328 11.2063547735\n",
        "0.547098845562 11.7832115125\n",
        "3\n",
        "0.760691658125 26.6813911552\n",
        "1.11089488306 42.1921745488\n",
        "0.452142015806"
       ]
      },
      {
       "output_type": "stream",
       "stream": "stdout",
       "text": [
        " 12.9872365085\n",
        "0.456736875729 13.413600862\n",
        "3\n",
        "0.61525185904 28.7515419824\n",
        "0.889335904743 45.4612332739\n",
        "0.409335143467 14.3138779015\n",
        "0.464073644557 15.7462812409\n",
        "3\n",
        "0.514038141857 30.3365222834\n",
        "0.741149691982 47.9671528218\n",
        "0.3768335901 15.3714008722\n",
        "0.444302747541 17.2431398237\n",
        "3\n",
        "0.95217172342"
       ]
      },
      {
       "output_type": "stream",
       "stream": "stdout",
       "text": [
        " 59.1116837553\n",
        "0.863760305787 54.7375301599\n",
        "0.323003313235 16.0189846291\n",
        "0.485682802623 20.6798587989\n",
        "3\n",
        "0.83443075911 61.1063180627\n",
        "0.755842802402 56.584454949\n",
        "0.312391355845 16.9091683729\n",
        "0.465869834789 21.888648685\n",
        "3\n",
        "1.09768280262 78.722783106\n",
        "1.26311979269 97.9638359712\n",
        "0.304137611208 17.7333626339\n",
        "0.49742720466 25.0874588612\n",
        "3\n",
        "0.9882117088"
       ]
      },
      {
       "output_type": "stream",
       "stream": "stdout",
       "text": [
        " 80.588099947\n",
        "1.13681595771 100.285096604\n",
        "0.302968970914 18.6820450519\n",
        "0.463656906373 25.7927546116\n",
        "3\n",
        "1.15387559075 93.0390106021\n",
        "1.10883737877 103.139420797\n",
        "0.275427221675 19.0647746254\n",
        "0.477380075354 27.9868375916\n",
        "3\n",
        "1.42769539422 117.755546923\n",
        "1.31441917905 119.159098235\n",
        "0.252519150542 19.4075897258\n",
        "0.514569111804 31.9919160222\n",
        "3\n",
        "1.31810127654"
       ]
      },
      {
       "output_type": "stream",
       "stream": "stdout",
       "text": [
        " 119.637033258\n",
        "1.21331627627 121.063036193\n",
        "0.25559084729 20.2591785736\n",
        "0.487273351034 32.6002539261\n",
        "3\n",
        "1.47785573258 134.38477699\n",
        "1.32591909007 130.888085148\n",
        "0.237520818138 20.5497963707\n",
        "0.510993723049 35.6433691167\n",
        "3\n",
        "1.59122052366 145.825632772\n",
        "1.36129349483 136.057278368\n",
        "0.221721454801 20.816679401\n",
        "0.525831079822"
       ]
      },
      {
       "output_type": "stream",
       "stream": "stdout",
       "text": [
        " 38.0682018615\n",
        "3\n",
        "1.49199746118 147.552987766\n",
        "1.27622662692 137.668990241\n",
        "0.22800010228 21.7165119286\n",
        "0.500120601502 38.5612646813\n",
        "3\n",
        "1.40468462926 149.157420113\n",
        "1.20117299385 139.165962538\n",
        "0.230783595652 22.4291294577\n",
        "0.486213619175 39.2276671869\n",
        "3\n",
        "1.32684945674"
       ]
      },
      {
       "output_type": "stream",
       "stream": "stdout",
       "text": [
        " 150.654408024\n",
        "1.13445358354 140.562741187\n",
        "0.235861163363 23.2824164644\n",
        "0.465560830705 39.6634413915\n",
        "3\n",
        "1.41456801148 160.492285543\n",
        "1.12231736466 142.713993531\n",
        "0.223447761176 23.4991676266\n",
        "0.474380277297"
       ]
      },
      {
       "output_type": "stream",
       "stream": "stdout",
       "text": [
        " 41.4779394267\n",
        "3\n",
        "1.50275599085 170.968760135\n",
        "1.15902825449 147.489124039\n",
        "0.212301891521 23.702964251\n",
        "0.487338967165 43.7186018913\n",
        "3\n",
        "1.43289351738"
       ]
      },
      {
       "output_type": "stream",
       "stream": "stdout",
       "text": [
        " 172.35621516\n",
        "1.10399353371 148.685294341\n",
        "0.21425905792 24.2942438209\n",
        "0.489137843246 45.0071988187\n",
        "3\n",
        "1.36789707861 173.667983918\n",
        "1.0538157114 149.816935082\n",
        "0.217813246572 25.0001948784\n",
        "0.474164496816 45.4321751215\n",
        "3\n",
        "1.30878970168"
       ]
      },
      {
       "output_type": "stream",
       "stream": "stdout",
       "text": [
        " 174.912280237\n",
        "1.00800768866 150.890333949\n",
        "0.218196970866 25.4920867556\n",
        "0.469431012934 46.2076344327\n",
        "3\n",
        "1.41207143352"
       ]
      },
      {
       "output_type": "stream",
       "stream": "stdout",
       "text": [
        " 188.588004032\n",
        "1.06191970352 157.349053891\n",
        "0.209112093846 25.6645108441\n",
        "0.48324704243 48.6586349231\n",
        "3\n",
        "1.45739471205 195.172084367\n",
        "1.19155108913 176.085295206\n",
        "0.212445658423"
       ]
      },
      {
       "output_type": "stream",
       "stream": "stdout",
       "text": [
        " 26.3421596245\n",
        "0.48937289226 50.2644449131\n",
        "3\n",
        "1.40142318683 196.357488383\n",
        "1.14572445086 177.154809859\n",
        "0.216188213455 27.0654386068\n",
        "0.475291413326 50.6136194924\n",
        "3\n",
        "1.34959770051"
       ]
      },
      {
       "output_type": "stream",
       "stream": "stdout",
       "text": [
        " 197.491429476\n",
        "1.10329237838 178.177894824\n",
        "0.219653542188 27.7751518922\n",
        "0.462253006906 50.9498732364\n",
        "3\n",
        "1.48751451646 220.160192685\n",
        "1.35983647375 234.424644059\n",
        "0.217671026692 28.0853176724\n",
        "0.486950106195 55.3788156818\n",
        "3\n",
        "1.43646576283"
       ]
      },
      {
       "output_type": "stream",
       "stream": "stdout",
       "text": [
        " 221.316125035\n",
        "1.31297922123 235.655718593\n",
        "0.225748014337 29.3567860775\n",
        "0.47455041628 55.7077461325\n",
        "3\n",
        "1.47636810773 227.660284827\n",
        "1.30489381227"
       ]
      },
      {
       "output_type": "stream",
       "stream": "stdout",
       "text": [
        " 237.656428197\n",
        "0.218228411935 29.5041947038\n",
        "0.479848792797 57.1897359103\n",
        "3\n",
        "1.69094620063 273.859877984\n",
        "1.68053840391 338.492902934\n",
        "0.21586393332 29.7651223555\n",
        "0.523441721381 66.7224881411\n",
        "3\n",
        "1.63835769566"
       ]
      },
      {
       "output_type": "stream",
       "stream": "stdout",
       "text": [
        " 275.122671801\n",
        "1.62805643702 340.054015988\n",
        "0.225255613167 31.3309441934\n",
        "0.511632146279 67.0743627808\n",
        "3\n",
        "1.58971837537 276.341938857\n",
        "1.57874911385 341.560316806\n",
        "0.220884715057 31.5049534507\n",
        "0.526603812267 69.9401990417\n",
        "3\n",
        "1.5432801292"
       ]
      },
      {
       "output_type": "stream",
       "stream": "stdout",
       "text": [
        " 277.519094973\n",
        "1.53232836215 343.015323653\n",
        "0.225795397638 32.4505318544\n",
        "0.522041406053 70.5766889632\n",
        "3\n",
        "1.49934766148 278.657330595\n",
        "1.48855415635 344.422269033\n",
        "0.232211984301 33.6424434285\n",
        "0.513525250205 70.9850718494\n",
        "3\n",
        "1.45904995435"
       ]
      },
      {
       "output_type": "stream",
       "stream": "stdout",
       "text": [
        " 279.760254398\n",
        "1.44733045984 345.784069052\n",
        "0.235365101377 34.3918406472\n",
        "0.519161495183 72.5333647729\n",
        "3\n",
        "1.50051274191"
       ]
      },
      {
       "output_type": "stream",
       "stream": "stdout",
       "text": [
        " 286.520587044\n",
        "1.44232588853 347.927117594\n",
        "0.229005825185 34.5230664345\n",
        "0.523297213471 73.9178914158\n",
        "3\n",
        "1.55706138125 295.841826424\n",
        "1.56536934599"
       ]
      },
      {
       "output_type": "stream",
       "stream": "stdout",
       "text": [
        " 368.123437291\n",
        "0.233185880386 35.4144383772\n",
        "0.532062974608 75.9496558541\n",
        "3\n",
        "1.59793633334 302.950126218\n",
        "1.58780639623"
       ]
      },
      {
       "output_type": "stream",
       "stream": "stdout",
       "text": [
        " 372.368058174\n",
        "0.227355244276 35.5407525537\n",
        "0.538200845804 77.6324494699\n",
        "3\n",
        "1.63749281007 310.059847206\n",
        "1.59455189105 375.345388181\n",
        "0.221684630163 35.663341317\n",
        "0.543095453694 79.1608379995\n",
        "3\n",
        "1.59836872003"
       ]
      },
      {
       "output_type": "stream",
       "stream": "stdout",
       "text": [
        " 311.096386509\n",
        "1.5556827903 376.599532525\n",
        "0.21826230142 35.8155644828\n",
        "0.554485352368 81.7682843627\n",
        "3\n",
        "1.63148978391 317.39988197\n",
        "1.55967838756 379.279633053\n",
        "0.213084420138 35.9315735651\n",
        "0.558248821328"
       ]
      },
      {
       "output_type": "stream",
       "stream": "stdout",
       "text": [
        " 83.1772582842\n",
        "3\n",
        "1.5939005947 318.397408579\n",
        "1.52342125637 380.471631666\n",
        "0.216320796179 36.6739725072\n",
        "0.556522520421 83.9570242646\n",
        "3\n",
        "1.55786523826"
       ]
      },
      {
       "output_type": "stream",
       "stream": "stdout",
       "text": [
        " 319.368665598\n",
        "1.48882411877 381.63258329\n",
        "0.223474660075 38.116147978\n",
        "0.547276014281 84.2510957824\n",
        "3\n",
        "1.52332707637"
       ]
      },
      {
       "output_type": "stream",
       "stream": "stdout",
       "text": [
        " 320.31538824\n",
        "1.45574655344 382.764073327\n",
        "0.23044130776 39.5209204727\n",
        "0.537429071402 84.5150913485\n",
        "3\n",
        "1.49030682081"
       ]
      },
      {
       "output_type": "stream",
       "stream": "stdout",
       "text": [
        " 321.238724851\n",
        "1.42410250776 383.867482679\n",
        "0.23483451221 40.5005162261\n",
        "0.530881233023 84.8780771227\n",
        "3\n",
        "1.45965237648"
       ]
      },
      {
       "output_type": "stream",
       "stream": "stdout",
       "text": [
        " 322.140703991\n",
        "1.3939000294 384.944068109\n",
        "0.237332684076 41.1833318516\n",
        "0.535116745019 86.2995664237\n",
        "3\n",
        "1.42955867381"
       ]
      },
      {
       "output_type": "stream",
       "stream": "stdout",
       "text": [
        " 323.020267766\n",
        "1.36487339851 385.995104691\n",
        "0.239726765447 41.8585862025\n",
        "0.53405218538 87.048664064\n",
        "3\n",
        "1.46934100983"
       ]
      },
      {
       "output_type": "stream",
       "stream": "stdout",
       "text": [
        " 330.655619461\n",
        "1.36722631446 388.11618466\n",
        "0.23483504169 41.9699139147\n",
        "0.537701272782 88.4007009774\n",
        "3\n",
        "1.4400677282"
       ]
      },
      {
       "output_type": "stream",
       "stream": "stdout",
       "text": [
        " 331.512599802\n",
        "1.33988874093 389.122239818\n",
        "0.24015603102 43.1667095456\n",
        "0.530506313078 88.689766895\n",
        "3\n",
        "1.41191728883"
       ]
      },
      {
       "output_type": "stream",
       "stream": "stdout",
       "text": [
        " 332.350545257\n",
        "1.31361877448 390.105861552\n",
        "0.243928044382 44.0884203911\n",
        "0.524736159998 89.0301648494\n",
        "3\n",
        "1.38483518622"
       ]
      },
      {
       "output_type": "stream",
       "stream": "stdout",
       "text": [
        " 333.170040206\n",
        "1.28836329188 391.067963923\n",
        "0.249563539796 45.3330526457\n",
        "0.516648225859 89.2622783562\n",
        "3\n",
        "1.35885086424 333.972010796\n",
        "1.26406341454 392.009451861\n",
        "0.25398465844"
       ]
      },
      {
       "output_type": "stream",
       "stream": "stdout",
       "text": [
        " 46.3989518687\n",
        "0.511115375651 89.5770004151\n",
        "3\n",
        "1.39262874336 340.728005035\n",
        "1.26598414441 393.874432013\n",
        "0.249282131182 46.508045849\n",
        "0.514469941275"
       ]
      },
      {
       "output_type": "stream",
       "stream": "stdout",
       "text": [
        " 90.8404481287\n",
        "3\n",
        "1.36745994641 341.510425735\n",
        "1.24298710909 394.779240191\n",
        "0.254405925299 47.6856086936\n",
        "0.507837328711 91.0833537958\n",
        "3\n",
        "1.34314239252"
       ]
      },
      {
       "output_type": "stream",
       "stream": "stdout",
       "text": [
        " 342.277204774\n",
        "1.22079711853 395.665774081\n",
        "0.258807328565 48.7630149302\n",
        "0.501946542263 91.3466071178\n",
        "3\n",
        "1.31965560178"
       ]
      },
      {
       "output_type": "stream",
       "stream": "stdout",
       "text": [
        " 343.028826355\n",
        "1.19938173842 396.534694519\n",
        "0.261855072143 49.6033171396\n",
        "0.497284822328 91.6624701438\n",
        "3\n",
        "1.34535240026"
       ]
      },
      {
       "output_type": "stream",
       "stream": "stdout",
       "text": [
        " 348.387676286\n",
        "1.19875675842 398.072735654\n",
        "0.257342178294 49.7098882794\n",
        "0.499962930976 92.7904722436\n",
        "3\n",
        "1.37017812083"
       ]
      },
      {
       "output_type": "stream",
       "stream": "stdout",
       "text": [
        " 353.690955652\n",
        "1.19815296417 399.596104382\n",
        "0.252982263899 49.8144153657\n",
        "0.502550256279 93.9092970971\n",
        "3\n",
        "1.34760164783"
       ]
      },
      {
       "output_type": "stream",
       "stream": "stdout",
       "text": [
        " 354.419208268\n",
        "1.17818852276 400.418799648\n",
        "0.250645825547 49.9662708031\n",
        "0.506452026514 95.2681878929\n",
        "3\n",
        "1.32560948498"
       ]
      },
      {
       "output_type": "stream",
       "stream": "stdout",
       "text": [
        " 355.133848888\n",
        "1.15887668901 401.226249974\n",
        "0.253029959303 50.6813604016\n",
        "0.50313612347 95.6510843094\n",
        "3\n",
        "1.35251132581"
       ]
      },
      {
       "output_type": "stream",
       "stream": "stdout",
       "text": [
        " 360.983466427\n",
        "1.15476370939 402.434568785\n",
        "0.248948936118 50.781496154\n",
        "0.505232877746 96.693930524\n",
        "3\n",
        "1.33111265906"
       ]
      },
      {
       "output_type": "stream",
       "stream": "stdout",
       "text": [
        " 361.682474746\n",
        "1.13643603864 403.213904447\n",
        "0.251862900822 51.6007304279\n",
        "0.500962967083 96.9923170007\n",
        "3\n",
        "1.31037102303"
       ]
      },
      {
       "output_type": "stream",
       "stream": "stdout",
       "text": [
        " 362.369018021\n",
        "1.11868443928 403.979481384\n",
        "0.256317758714 52.6842503398\n",
        "0.494762976734 97.1866003968\n",
        "3\n",
        "1.29033985208"
       ]
      },
      {
       "output_type": "stream",
       "stream": "stdout",
       "text": [
        " 363.0434736\n",
        "1.1014915587 404.731735919\n",
        "0.26054503639 53.739768369\n",
        "0.489453950172 97.3988209786\n",
        "3\n",
        "1.38009216603"
       ]
      },
      {
       "output_type": "stream",
       "stream": "stdout",
       "text": [
        " 392.490129575\n",
        "1.26318543948 471.601741606\n",
        "0.260387078668 54.0708176643\n",
        "0.507516164135 103.443550234\n",
        "3\n",
        "1.35954655256"
       ]
      },
      {
       "output_type": "stream",
       "stream": "stdout",
       "text": [
        " 393.193746025\n",
        "1.24433515329 472.447332379\n",
        "0.264947475971 55.2683331081\n",
        "0.50185501651 103.650971446\n",
        "3\n",
        "1.33964314778"
       ]
      },
      {
       "output_type": "stream",
       "stream": "stdout",
       "text": [
        " 393.885688747\n",
        "1.22604161377 473.278916044\n",
        "0.268985581687 56.3755707341\n",
        "0.4972937113 103.895828979\n",
        "3\n",
        "1.32035891277"
       ]
      },
      {
       "output_type": "stream",
       "stream": "stdout",
       "text": [
        " 394.56611844\n",
        "1.20829088764 474.096887086\n",
        "0.273416962831 57.5392224505\n",
        "0.492434105057 104.111420679\n",
        "3\n",
        "1.42047833162"
       ]
      },
      {
       "output_type": "stream",
       "stream": "stdout",
       "text": [
        " 430.870139714\n",
        "1.37656240947 545.095685531\n",
        "0.271148800531 57.6818844928\n",
        "0.511477624373 110.848407795\n",
        "3\n",
        "1.4006300258"
       ]
      },
      {
       "output_type": "stream",
       "stream": "stdout",
       "text": [
        " 431.588476331\n",
        "1.35719598656 546.004841959\n",
        "0.277412759909 59.475844419\n",
        "0.507115373467 111.094310503\n",
        "3\n",
        "1.49518317912"
       ]
      },
      {
       "output_type": "stream",
       "stream": "stdout",
       "text": [
        " 464.387468873\n",
        "1.52162202782 611.139694857\n",
        "0.276615938584 59.7392655354\n",
        "0.525831768364 117.6785918\n",
        "3\n",
        "1.47479244378"
       ]
      },
      {
       "output_type": "stream",
       "stream": "stdout",
       "text": [
        " 465.135543088\n",
        "1.5007862421 612.124421711\n",
        "0.283319993626 61.7375940943\n",
        "0.521049163674 117.911156016\n",
        "3\n",
        "1.4550067152"
       ]
      },
      {
       "output_type": "stream",
       "stream": "stdout",
       "text": [
        " 465.872391832\n",
        "1.48051124377 613.094215193\n",
        "0.287282220902 62.9379146245\n",
        "0.519320326277 118.368463209\n",
        "3\n",
        "1.43568474028"
       ]
      },
      {
       "output_type": "stream",
       "stream": "stdout",
       "text": [
        " 466.598227724\n",
        "1.46077323455 614.049492871\n",
        "0.291138788784 64.1206921333\n",
        "0.516594361364 118.724571204\n",
        "3\n",
        "1.41689924504"
       ]
      },
      {
       "output_type": "stream",
       "stream": "stdout",
       "text": [
        " 467.31325711\n",
        "1.4415589697 614.990655123\n",
        "0.296580578831 65.7772202794\n",
        "0.513091405745 119.008036741\n",
        "3\n",
        "1.44486635586"
       ]
      },
      {
       "output_type": "stream",
       "stream": "stdout",
       "text": [
        " 473.882652204\n",
        "1.45922807038 618.670251562\n",
        "0.292762934574 65.8763737059\n",
        "0.517115909121 120.407644401\n",
        "3\n",
        "1.42642780642"
       ]
      },
      {
       "output_type": "stream",
       "stream": "stdout",
       "text": [
        " 474.58576164\n",
        "1.44052783448 619.5884399\n",
        "0.298830229728 67.7154765835\n",
        "0.51275162344 120.628167918\n",
        "3\n",
        "1.40854433163"
       ]
      },
      {
       "output_type": "stream",
       "stream": "stdout",
       "text": [
        " 475.279091131\n",
        "1.42229803912 620.493615278\n",
        "0.299688596662 68.2296769996\n",
        "0.513741460141 121.42449489\n",
        "3\n",
        "1.39100362106"
       ]
      },
      {
       "output_type": "stream",
       "stream": "stdout",
       "text": [
        " 475.962520605\n",
        "1.40452535923 621.386095225\n",
        "0.305671374624 70.0442043308\n",
        "0.509206926555 121.625702773\n",
        "3\n",
        "1.37396220017"
       ]
      },
      {
       "output_type": "stream",
       "stream": "stdout",
       "text": [
        " 476.636616125\n",
        "1.3871909272 622.266244594\n",
        "0.309015244222 71.1316254973\n",
        "0.507773695317 122.064895485\n",
        "3\n",
        "1.35730036069"
       ]
      },
      {
       "output_type": "stream",
       "stream": "stdout",
       "text": [
        " 477.301262895\n",
        "1.37028682319 623.134334981\n",
        "0.314858350179 72.8942145253\n",
        "0.503531804063 122.263510923\n",
        "3\n",
        "1.34169674017"
       ]
      },
      {
       "output_type": "stream",
       "stream": "stdout",
       "text": [
        " 477.958534931\n",
        "1.35384670548 623.990727563\n",
        "0.316392517408 73.5594019792\n",
        "0.508505408304 123.918822399\n",
        "3\n",
        "1.32581572377"
       ]
      },
      {
       "output_type": "stream",
       "stream": "stdout",
       "text": [
        " 478.605473504\n",
        "1.33774203515 624.835699018\n",
        "0.322008677113 75.2648797528\n",
        "0.504355803592 124.114102611\n",
        "3\n",
        "1.35470695659"
       ]
      },
      {
       "output_type": "stream",
       "stream": "stdout",
       "text": [
        " 485.812022281\n",
        "1.35715063482 628.818982437\n",
        "0.318241040679 75.3652866868\n",
        "0.508395589274 125.548993097\n",
        "3\n",
        "1.33901603252"
       ]
      },
      {
       "output_type": "stream",
       "stream": "stdout",
       "text": [
        " 486.450893196\n",
        "1.34137543729 629.646157035\n",
        "0.323590689434 77.0162570353\n",
        "0.504239579785 125.739071522\n",
        "3\n",
        "1.37167130994"
       ]
      },
      {
       "output_type": "stream",
       "stream": "stdout",
       "text": [
        " 495.009871927\n",
        "1.37400359512 636.604970677\n",
        "0.319970514534 77.1161031591\n",
        "0.509280326956 127.458972484\n",
        "3\n",
        "1.35619126437"
       ]
      },
      {
       "output_type": "stream",
       "stream": "stdout",
       "text": [
        " 495.642857074\n",
        "1.358390801 637.419017102\n",
        "0.316549852023 77.2152011737\n",
        "0.510885626448 128.355296517\n",
        "3\n",
        "1.34103958007"
       ]
      },
      {
       "output_type": "stream",
       "stream": "stdout",
       "text": [
        " 496.267568688\n",
        "1.34313983018 638.222799642\n",
        "0.321848729333 78.8431482365\n",
        "0.506942401572 128.543132691\n",
        "3\n",
        "1.36580988227"
       ]
      },
      {
       "output_type": "stream",
       "stream": "stdout",
       "text": [
        " 502.609064825\n",
        "1.35935027342 641.764308611\n",
        "0.318301765353 78.9411594247\n",
        "0.510453910062 129.872954618\n",
        "3\n",
        "1.38168278383"
       ]
      },
      {
       "output_type": "stream",
       "stream": "stdout",
       "text": [
        " 506.741329757\n",
        "1.35719483002 643.022009906\n",
        "0.314805122168 79.038021738\n",
        "0.512016565295"
       ]
      },
      {
       "output_type": "stream",
       "stream": "stdout",
       "text": [
        " 130.76219403\n",
        "3\n",
        "1.39920045868 511.319411107\n",
        "1.35616247942 644.354806402\n",
        "0.311384108727"
       ]
      },
      {
       "output_type": "stream",
       "stream": "stdout",
       "text": [
        " 79.1337097732\n",
        "0.513757837012 131.691461202\n",
        "3\n",
        "1.38423799528 511.929952209\n",
        "1.34159142478"
       ]
      },
      {
       "output_type": "stream",
       "stream": "stdout",
       "text": [
        " 645.124578252\n",
        "0.316510622962 80.7261449484\n",
        "0.509953329222 131.873754262\n",
        "3\n",
        "1.36955819633"
       ]
      },
      {
       "output_type": "stream",
       "stream": "stdout",
       "text": [
        " 512.533521658\n",
        "1.3273204396 645.885257959\n",
        "0.319837029092 81.857480337\n",
        "0.507191741782"
       ]
      },
      {
       "output_type": "stream",
       "stream": "stdout",
       "text": [
        " 132.127188466\n",
        "3\n",
        "1.3553420505 513.130058763\n",
        "1.31335686137"
       ]
      },
      {
       "output_type": "stream",
       "stream": "stdout",
       "text": [
        " 646.637002913\n",
        "0.321124999631 82.4670803031\n",
        "0.508248780537 132.901497326\n",
        "3\n",
        "1.37049727835"
       ]
      },
      {
       "output_type": "stream",
       "stream": "stdout",
       "text": [
        " 517.204211094\n",
        "1.31179277868 647.852219391\n",
        "0.317781064589 82.5618361071\n",
        "0.509753017576 133.77574149\n",
        "3\n",
        "1.38722729476"
       ]
      },
      {
       "output_type": "stream",
       "stream": "stdout",
       "text": [
        " 521.721185233\n",
        "1.31128170442 649.143831222\n",
        "0.314505712228 82.6555040252\n",
        "0.511427868563"
       ]
      },
      {
       "output_type": "stream",
       "stream": "stdout",
       "text": [
        " 134.68975546\n",
        "3\n",
        "1.37311616822 522.305646586\n",
        "1.29790249129"
       ]
      },
      {
       "output_type": "stream",
       "stream": "stdout",
       "text": [
        " 649.871112177\n",
        "0.317716804952 83.7686447808\n",
        "0.508763952657 134.937164504\n",
        "3\n",
        "1.35938931254"
       ]
      },
      {
       "output_type": "stream",
       "stream": "stdout",
       "text": [
        " 522.883602538\n",
        "1.28479499217 650.590209215\n",
        "0.316193151695 83.9313570733\n",
        "0.510881982776"
       ]
      },
      {
       "output_type": "stream",
       "stream": "stdout",
       "text": [
        " 135.951796411\n",
        "3\n",
        "1.34626218656 523.455816566\n",
        "1.2719662527 651.301290017\n",
        "0.314699971504"
       ]
      },
      {
       "output_type": "stream",
       "stream": "stdout",
       "text": [
        " 84.0931257508\n",
        "0.516921303796 138.171970181\n",
        "3\n",
        "1.36257181729 527.9393957\n",
        "1.26832178839"
       ]
      },
      {
       "output_type": "stream",
       "stream": "stdout",
       "text": [
        " 652.289989317\n",
        "0.311584194775 84.1839259894\n",
        "0.518071956957 138.981372318\n",
        "3\n",
        "1.34927855927"
       ]
      },
      {
       "output_type": "stream",
       "stream": "stdout",
       "text": [
        " 528.502379808\n",
        "1.25589323821 652.985846807\n",
        "0.316039368911 85.6677923604\n",
        "0.514725189006"
       ]
      },
      {
       "output_type": "stream",
       "stream": "stdout",
       "text": [
        " 139.164593346\n",
        "3\n",
        "1.33631621846 529.059523033\n",
        "1.24370262501"
       ]
      },
      {
       "output_type": "stream",
       "stream": "stdout",
       "text": [
        " 653.674205041\n",
        "0.314591172442 85.8269665977\n",
        "0.516703089447 140.157420537\n",
        "3\n",
        "1.3235310577"
       ]
      },
      {
       "output_type": "stream",
       "stream": "stdout",
       "text": [
        " 529.610459955\n",
        "1.23174980814 654.355178702\n",
        "0.318931756905 87.283836544\n",
        "0.513433844607"
       ]
      },
      {
       "output_type": "stream",
       "stream": "stdout",
       "text": [
        " 140.3379337\n",
        "3\n",
        "1.31100107237 530.155734243\n",
        "1.22002091555 655.028956811\n",
        "0.320785086307"
       ]
      },
      {
       "output_type": "stream",
       "stream": "stdout",
       "text": [
        " 88.0340595867\n",
        "0.512300039954 140.72889711\n",
        "3\n",
        "1.2986959632"
       ]
      },
      {
       "output_type": "stream",
       "stream": "stdout",
       "text": [
        " 530.695109474\n",
        "1.20851703588 655.695646557\n",
        "0.324985339801 89.4559549436\n",
        "0.509134017181"
       ]
      },
      {
       "output_type": "stream",
       "stream": "stdout",
       "text": [
        " 140.906317446\n",
        "3\n",
        "1.28667110536 531.22871487\n",
        "1.19723794818"
       ]
      },
      {
       "output_type": "stream",
       "stream": "stdout",
       "text": [
        " 656.355372313\n",
        "0.329107083883 90.8543398364\n",
        "0.506393359109 141.103636247\n",
        "3\n",
        "1.27483143866"
       ]
      },
      {
       "output_type": "stream",
       "stream": "stdout",
       "text": [
        " 531.75705954\n",
        "1.18615694038 657.008353729\n",
        "0.332584933406 92.0935535141\n",
        "0.504022769991"
       ]
      },
      {
       "output_type": "stream",
       "stream": "stdout",
       "text": [
        " 141.332145021\n",
        "3\n",
        "1.26318424644 532.279957703\n",
        "1.17527920375"
       ]
      },
      {
       "output_type": "stream",
       "stream": "stdout",
       "text": [
        " 657.654668477\n",
        "0.336674161848 93.465065558\n",
        "0.500783834241 141.491305882\n",
        "3\n",
        "1.25226620654"
       ]
      },
      {
       "output_type": "stream",
       "stream": "stdout",
       "text": [
        " 532.79893401\n",
        "1.16464718419 658.294437964\n",
        "0.337633435197 94.0164569324\n",
        "0.504561626257"
       ]
      },
      {
       "output_type": "stream",
       "stream": "stdout",
       "text": [
        " 142.993368842\n",
        "3\n",
        "1.24105382056 533.311231191\n",
        "1.1541643663"
       ]
      },
      {
       "output_type": "stream",
       "stream": "stdout",
       "text": [
        " 658.927792929\n",
        "0.341692142381 95.3605084464\n",
        "0.501456914421 143.151594901\n",
        "3\n",
        "1.23004165575"
       ]
      },
      {
       "output_type": "stream",
       "stream": "stdout",
       "text": [
        " 533.81844397\n",
        "1.14386874159 659.554866856\n",
        "0.345678372651 96.6803262048\n",
        "0.498407643868"
       ]
      },
      {
       "output_type": "stream",
       "stream": "stdout",
       "text": [
        " 143.308230652\n",
        "3\n",
        "1.21920312328 534.320803675\n",
        "1.13375028943 660.175806544\n",
        "0.349506978501"
       ]
      },
      {
       "output_type": "stream",
       "stream": "stdout",
       "text": [
        " 97.9772766315\n",
        "0.495333052093 143.462298794\n",
        "3\n",
        "1.20854948914"
       ]
      },
      {
       "output_type": "stream",
       "stream": "stdout",
       "text": [
        " 534.818342635\n",
        "1.12380762696 660.790709988\n",
        "0.353023844525"
       ]
      },
      {
       "output_type": "stream",
       "stream": "stdout",
       "text": [
        " 99.2246676399\n",
        "0.492479421143 143.627712193\n",
        "3\n",
        "1.19814502554"
       ]
      },
      {
       "output_type": "stream",
       "stream": "stdout",
       "text": [
        " 535.310823079\n",
        "1.114049775 661.399629762\n",
        "0.356615045499 100.476239288\n",
        "0.49007424012"
       ]
      },
      {
       "output_type": "stream",
       "stream": "stdout",
       "text": [
        " 143.813406078\n",
        "3\n",
        "1.20766839643 538.136009426\n",
        "1.10992836726 662.145372973\n",
        "0.353541056331"
       ]
      },
      {
       "output_type": "stream",
       "stream": "stdout",
       "text": [
        " 100.56786571\n",
        "0.490693871915 144.45793824\n",
        "3\n",
        "1.19746296824"
       ]
      },
      {
       "output_type": "stream",
       "stream": "stdout",
       "text": [
        " 538.621632537\n",
        "1.10044499661 662.742931618\n",
        "0.35365302352 100.95367133\n",
        "0.491550750983"
       ]
      },
      {
       "output_type": "stream",
       "stream": "stdout",
       "text": [
        " 145.149280548\n",
        "3\n",
        "1.18746035106 539.102765968\n",
        "1.09112098173"
       ]
      },
      {
       "output_type": "stream",
       "stream": "stdout",
       "text": [
        " 663.334874857\n",
        "0.350816575979 101.044003327\n",
        "0.494347409376 146.372308299\n",
        "3\n",
        "1.17754794939"
       ]
      },
      {
       "output_type": "stream",
       "stream": "stdout",
       "text": [
        " 539.579262268\n",
        "1.08195461162 663.921297667\n",
        "0.353155871972 101.983341784\n",
        "0.492822667857"
       ]
      },
      {
       "output_type": "stream",
       "stream": "stdout",
       "text": [
        " 146.646730717\n",
        "3\n",
        "1.19115374918 543.527988556\n",
        "1.08263169755"
       ]
      },
      {
       "output_type": "stream",
       "stream": "stdout",
       "text": [
        " 664.984742074\n",
        "0.350213800002 102.072585427\n",
        "0.494154608426 147.459790698\n",
        "3\n",
        "1.18137306829"
       ]
      },
      {
       "output_type": "stream",
       "stream": "stdout",
       "text": [
        " 543.998504624\n",
        "1.07369304219 665.560797955\n",
        "0.353833106883 103.296590311\n",
        "0.491392492757"
       ]
      },
      {
       "output_type": "stream",
       "stream": "stdout",
       "text": [
        " 147.606120495\n",
        "3\n",
        "1.17175429395 544.465046592\n",
        "1.06489405075 666.131666128\n",
        "0.355142108829"
       ]
      },
      {
       "output_type": "stream",
       "stream": "stdout",
       "text": [
        " 103.950704044\n",
        "0.490597344096 147.972826371\n",
        "3\n",
        "1.16226309558 544.927381606\n",
        "1.05623734154"
       ]
      },
      {
       "output_type": "stream",
       "stream": "stdout",
       "text": [
        " 666.697391619\n",
        "0.357370163222 104.867875004\n",
        "0.488644228371 148.188335771\n",
        "3\n",
        "1.15295357544"
       ]
      },
      {
       "output_type": "stream",
       "stream": "stdout",
       "text": [
        " 545.385588193\n",
        "1.0477210411 667.258062046\n",
        "0.358629527584 105.514526723\n",
        "0.487884068111"
       ]
      },
      {
       "output_type": "stream",
       "stream": "stdout",
       "text": [
        " 148.552780409\n",
        "3\n",
        "1.17398251095 552.111049331\n",
        "1.06323905682 671.01996274\n",
        "0.355774568005"
       ]
      },
      {
       "output_type": "stream",
       "stream": "stdout",
       "text": [
        " 105.602344556\n",
        "0.490762896258 149.827756393\n",
        "3\n",
        "1.16472623199"
       ]
      },
      {
       "output_type": "stream",
       "stream": "stdout",
       "text": [
        " 552.566066391\n",
        "1.05480901985 671.573377968\n",
        "0.359206118518"
       ]
      },
      {
       "output_type": "stream",
       "stream": "stdout",
       "text": [
        " 106.783159784\n",
        "0.488137306704 149.968986555\n",
        "3\n",
        "1.15561804987"
       ]
      },
      {
       "output_type": "stream",
       "stream": "stdout",
       "text": [
        " 553.017312195\n",
        "1.04650728824 672.122005483\n",
        "0.361926659572 107.851384149\n",
        "0.486265121095"
       ]
      },
      {
       "output_type": "stream",
       "stream": "stdout",
       "text": [
        " 150.174656595\n",
        "3\n",
        "1.14665218309 553.464653267\n",
        "1.03833527119"
       ]
      },
      {
       "output_type": "stream",
       "stream": "stdout",
       "text": [
        " 672.665887661\n",
        "0.364604692172 108.909992544\n",
        "0.484422188386 150.379209289\n",
        "3\n",
        "1.13782302944"
       ]
      },
      {
       "output_type": "stream",
       "stream": "stdout",
       "text": [
        " 553.907953663\n",
        "1.03029433419 673.205064791\n",
        "0.36788798861 110.047378965\n",
        "0.481906811829"
       ]
      },
      {
       "output_type": "stream",
       "stream": "stdout",
       "text": [
        " 150.516783899\n",
        "3\n",
        "1.12916313056 554.347427447\n",
        "1.02238172124"
       ]
      },
      {
       "output_type": "stream",
       "stream": "stdout",
       "text": [
        " 673.739640974\n",
        "0.370950480671 111.173767173\n",
        "0.479860479457"
       ]
      },
      {
       "output_type": "stream",
       "stream": "stdout",
       "text": [
        " 150.685826203\n",
        "3\n",
        "1.12059440055 554.783356946\n",
        "1.0145819346"
       ]
      },
      {
       "output_type": "stream",
       "stream": "stdout",
       "text": [
        " 674.269738443\n",
        "0.373966217129 112.286622546\n",
        "0.477546289736"
       ]
      },
      {
       "output_type": "stream",
       "stream": "stdout",
       "text": [
        " 150.833532336\n",
        "3\n",
        "1.13770320179 560.198168051\n",
        "1.01810929789"
       ]
      },
      {
       "output_type": "stream",
       "stream": "stdout",
       "text": [
        " 675.581398432\n",
        "0.371133384438 112.374162589\n",
        "0.479329050911"
       ]
      },
      {
       "output_type": "stream",
       "stream": "stdout",
       "text": [
        " 151.760884623\n",
        "3\n",
        "1.12922903355 560.630769528\n",
        "1.01045924276"
       ]
      },
      {
       "output_type": "stream",
       "stream": "stdout",
       "text": [
        " 676.10329799\n",
        "0.373391921702 113.322454668\n",
        "0.478056186738"
       ]
      },
      {
       "output_type": "stream",
       "stream": "stdout",
       "text": [
        " 152.013444889\n",
        "3\n",
        "1.12084141006 561.059738491\n",
        "1.00292211145"
       ]
      },
      {
       "output_type": "stream",
       "stream": "stdout",
       "text": [
        " 676.620881926\n",
        "0.376413704627 114.412570032\n",
        "0.475615310518"
       ]
      },
      {
       "output_type": "stream",
       "stream": "stdout",
       "text": [
        " 152.145381216\n",
        "3\n",
        "1.11266240642 561.48545534\n",
        "0.995495328696"
       ]
      },
      {
       "output_type": "stream",
       "stream": "stdout",
       "text": [
        " 677.134244933\n",
        "0.374519193885 114.525081051\n",
        "0.477929132413"
       ]
      },
      {
       "output_type": "stream",
       "stream": "stdout",
       "text": [
        " 153.244777482\n",
        "3\n",
        "1.10456956648 561.907254166\n",
        "0.988187676657"
       ]
      },
      {
       "output_type": "stream",
       "stream": "stdout",
       "text": [
        " 677.643376115\n",
        "0.377397817141 115.602129437\n",
        "0.476002327053"
       ]
      },
      {
       "output_type": "stream",
       "stream": "stdout",
       "text": [
        " 153.407905651\n",
        "3\n",
        "1.12264660255 567.891846214\n",
        "0.992649745567"
       ]
      },
      {
       "output_type": "stream",
       "stream": "stdout",
       "text": [
        " 679.069068821\n",
        "0.374643246599 115.688292821\n",
        "0.477885477498 154.372608615\n",
        "3\n",
        "1.13757630039"
       ]
      },
      {
       "output_type": "stream",
       "stream": "stdout",
       "text": [
        " 572.671376271\n",
        "0.995368377033 680.242854977\n",
        "0.371928789652"
       ]
      },
      {
       "output_type": "stream",
       "stream": "stdout",
       "text": [
        " 115.773765075\n",
        "0.479439069562 155.23915725\n",
        "3\n",
        "1.12942603083"
       ]
      },
      {
       "output_type": "stream",
       "stream": "stdout",
       "text": [
        " 573.090651955\n",
        "0.988209516535 680.741066915\n",
        "0.374651817821"
       ]
      },
      {
       "output_type": "stream",
       "stream": "stdout",
       "text": [
        " 116.829177309\n",
        "0.477213026787 155.380393373\n",
        "3\n",
        "1.1214945902"
       ]
      },
      {
       "output_type": "stream",
       "stream": "stdout",
       "text": [
        " 573.506746107\n",
        "0.981156452185 681.235349456\n",
        "0.375134263624 117.290582817\n",
        "0.478144436764"
       ]
      },
      {
       "output_type": "stream",
       "stream": "stdout",
       "text": [
        " 156.060827511\n",
        "3\n",
        "1.11359527652 573.919225164\n",
        "0.974205373788"
       ]
      },
      {
       "output_type": "stream",
       "stream": "stdout",
       "text": [
        " 681.725715717\n",
        "0.378063452766 118.326155708\n",
        "0.475887657869"
       ]
      },
      {
       "output_type": "stream",
       "stream": "stdout",
       "text": [
        " 156.187688876\n",
        "3\n",
        "1.10580722079"
       ]
      },
      {
       "output_type": "stream",
       "stream": "stdout",
       "text": [
        " 574.328492073\n",
        "0.967352197903 682.212267221\n",
        "0.380951385723"
       ]
      },
      {
       "output_type": "stream",
       "stream": "stdout",
       "text": [
        " 119.3468072\n",
        "0.473662664592 156.313443171\n",
        "3\n",
        "1.09810709219"
       ]
      },
      {
       "output_type": "stream",
       "stream": "stdout",
       "text": [
        " 574.734820857\n",
        "0.960589502587 682.695101751\n",
        "0.383535150195"
       ]
      },
      {
       "output_type": "stream",
       "stream": "stdout",
       "text": [
        " 120.364466303\n",
        "0.471539283188 156.450964453\n",
        "3\n",
        "1.18206048303"
       ]
      },
      {
       "output_type": "stream",
       "stream": "stdout",
       "text": [
        " 645.857709267\n",
        "1.09761969715 824.25494214\n",
        "0.381284579719"
       ]
      },
      {
       "output_type": "stream",
       "stream": "stdout",
       "text": [
        " 120.453592667\n",
        "0.489492945484 170.703902654\n",
        "3\n",
        "1.17396897352"
       ]
      },
      {
       "output_type": "stream",
       "stream": "stdout",
       "text": [
        " 646.307064588\n",
        "1.09005361904 824.828617957\n",
        "0.384004667749 121.617069362\n",
        "0.488017740791"
       ]
      },
      {
       "output_type": "stream",
       "stream": "stdout",
       "text": [
        " 170.914509448\n",
        "3\n",
        "1.16604412672 646.753208825\n",
        "1.08258963066"
       ]
      },
      {
       "output_type": "stream",
       "stream": "stdout",
       "text": [
        " 825.397965081\n",
        "0.38221405467 121.725962961\n",
        "0.490158189042"
       ]
      },
      {
       "output_type": "stream",
       "stream": "stdout",
       "text": [
        " 171.950794937\n",
        "3\n",
        "1.17722942556 650.220951126\n",
        "1.0831381442"
       ]
      },
      {
       "output_type": "stream",
       "stream": "stdout",
       "text": [
        " 826.367135057\n",
        "0.379614688564 121.809293045\n",
        "0.491263674997"
       ]
      },
      {
       "output_type": "stream",
       "stream": "stdout",
       "text": [
        " 172.675983195\n",
        "3\n",
        "1.19930213469 658.182277603\n",
        "1.10000385854"
       ]
      },
      {
       "output_type": "stream",
       "stream": "stdout",
       "text": [
        " 830.776071899\n",
        "0.377053311472 121.891984693\n",
        "0.494191206518 174.011932516\n",
        "3\n",
        "1.19135612704"
       ]
      },
      {
       "output_type": "stream",
       "stream": "stdout",
       "text": [
        " 658.625524473\n",
        "1.09262550548 831.335637202\n",
        "0.378215514446"
       ]
      },
      {
       "output_type": "stream",
       "stream": "stdout",
       "text": [
        " 122.541225344\n",
        "0.494411426563 174.510787143\n",
        "3\n",
        "1.25920104093"
       ]
      },
      {
       "output_type": "stream",
       "stream": "stdout",
       "text": [
        " 706.434242102\n",
        "1.19855546683 914.564009874\n",
        "0.375820737479"
       ]
      },
      {
       "output_type": "stream",
       "stream": "stdout",
       "text": [
        " 122.623033967\n",
        "0.507447164441 183.001191809\n",
        "3\n",
        "1.32861806006"
       ]
      },
      {
       "output_type": "stream",
       "stream": "stdout",
       "text": [
        " 754.187772133\n",
        "1.30588430367 994.687104361\n",
        "0.373416980827"
       ]
      },
      {
       "output_type": "stream",
       "stream": "stdout",
       "text": [
        " 122.704108981\n",
        "0.520806210715 191.622041018\n",
        "3\n",
        "1.38720730536"
       ]
      },
      {
       "output_type": "stream",
       "stream": "stdout",
       "text": [
        " 788.729005954\n",
        "1.40039800421 1055.44723121\n",
        "0.371360251971 122.789703191\n",
        "0.532018340498"
       ]
      },
      {
       "output_type": "stream",
       "stream": "stdout",
       "text": [
        " 198.097646309\n",
        "3\n",
        "1.3782943902 789.243585393\n",
        "1.39125138597"
       ]
      },
      {
       "output_type": "stream",
       "stream": "stdout",
       "text": [
        " 1056.13581002\n",
        "0.372507909164 123.443212072\n",
        "0.533453225528"
       ]
      },
      {
       "output_type": "stream",
       "stream": "stdout",
       "text": [
        " 198.926255744\n",
        "3\n",
        "1.36939513101 789.754417821\n",
        "1.3822186756"
       ]
      },
      {
       "output_type": "stream",
       "stream": "stdout",
       "text": [
        " 1056.81946259\n",
        "0.375078674639 124.649986139\n",
        "0.532714373827"
       ]
      },
      {
       "output_type": "stream",
       "stream": "stdout",
       "text": [
        " 199.265501484\n",
        "3\n",
        "1.36065188893 790.261597667\n",
        "1.373304888"
       ]
      },
      {
       "output_type": "stream",
       "stream": "stdout",
       "text": [
        " 1057.49824946\n",
        "0.377616268947 125.847238207\n",
        "0.532657849831"
       ]
      },
      {
       "output_type": "stream",
       "stream": "stdout",
       "text": [
        " 199.725045141\n",
        "3\n",
        "1.3519808926"
       ]
      },
      {
       "output_type": "stream",
       "stream": "stdout",
       "text": [
        " 790.765058213\n",
        "1.36450632852 1058.17222677\n",
        "0.382722088618"
       ]
      },
      {
       "output_type": "stream",
       "stream": "stdout",
       "text": [
        " 128.34777254\n",
        "0.530703374347 199.898248326\n",
        "3\n",
        "1.34342035481"
       ]
      },
      {
       "output_type": "stream",
       "stream": "stdout",
       "text": [
        " 791.264982531\n",
        "1.35581985259 1058.84147242\n",
        "0.387762866001"
       ]
      },
      {
       "output_type": "stream",
       "stream": "stdout",
       "text": [
        " 130.800229959\n",
        "0.528773796639 200.070464114\n",
        "3\n",
        "1.33496746004"
       ]
      },
      {
       "output_type": "stream",
       "stream": "stdout",
       "text": [
        " 791.76133722\n",
        "1.34724552088 1059.50603187\n",
        "0.393096897963"
       ]
      },
      {
       "output_type": "stream",
       "stream": "stdout",
       "text": [
        " 133.327515676\n",
        "0.526626784634 200.218823745\n",
        "3\n",
        "1.32662160469"
       ]
      },
      {
       "output_type": "stream",
       "stream": "stdout",
       "text": [
        " 792.254330602\n",
        "1.33877686734 1060.16600366\n",
        "0.398009018967"
       ]
      },
      {
       "output_type": "stream",
       "stream": "stdout",
       "text": [
        " 135.687004504\n",
        "0.524747117273 200.389069886\n",
        "3\n",
        "1.3461096322"
       ]
      },
      {
       "output_type": "stream",
       "stream": "stdout",
       "text": [
        " 799.023090859\n",
        "1.35278351346 1063.86901094\n",
        "0.395524781127"
       ]
      },
      {
       "output_type": "stream",
       "stream": "stdout",
       "text": [
        " 135.770871102\n",
        "0.527246742923 201.579718646\n",
        "3\n",
        "1.33777273301"
       ]
      },
      {
       "output_type": "stream",
       "stream": "stdout",
       "text": [
        " 799.513193873\n",
        "1.34438440672 1064.52181681\n",
        "0.400969339446"
       ]
      },
      {
       "output_type": "stream",
       "stream": "stdout",
       "text": [
        " 138.199964698\n",
        "0.524749896442 201.702398067\n",
        "3\n",
        "1.32954315941"
       ]
      },
      {
       "output_type": "stream",
       "stream": "stdout",
       "text": [
        " 799.99994261\n",
        "1.33608959537 1065.17018136\n",
        "0.406296114552"
       ]
      },
      {
       "output_type": "stream",
       "stream": "stdout",
       "text": [
        " 140.581972002\n",
        "0.522361356877 201.827705333\n",
        "3\n",
        "1.34563112041"
       ]
      },
      {
       "output_type": "stream",
       "stream": "stdout",
       "text": [
        " 805.418248397\n",
        "1.35744961763 1071.32664903\n",
        "0.404347424965"
       ]
      },
      {
       "output_type": "stream",
       "stream": "stdout",
       "text": [
        " 140.677126319\n",
        "0.524944594526 203.055358464\n",
        "3\n",
        "1.35683465833"
       ]
      },
      {
       "output_type": "stream",
       "stream": "stdout",
       "text": [
        " 809.086550328\n",
        "1.35751303116 1072.40933109\n",
        "0.40188218572"
       ]
      },
      {
       "output_type": "stream",
       "stream": "stdout",
       "text": [
        " 140.761556649\n",
        "0.525965027681 203.768375532\n",
        "3\n",
        "1.4074236933"
       ]
      },
      {
       "output_type": "stream",
       "stream": "stdout",
       "text": [
        " 838.675028724\n",
        "1.44636263169 1132.35721948\n",
        "0.402088097675"
       ]
      },
      {
       "output_type": "stream",
       "stream": "stdout",
       "text": [
        " 141.162005744\n",
        "0.536961507281 210.590927904\n",
        "3\n",
        "1.42422513324"
       ]
      },
      {
       "output_type": "stream",
       "stream": "stdout",
       "text": [
        " 844.498382047\n",
        "1.46292949971 1136.97613004\n",
        "0.399718105709"
       ]
      },
      {
       "output_type": "stream",
       "stream": "stdout",
       "text": [
        " 141.245266234\n",
        "0.539428558412 211.786574418\n",
        "3\n",
        "1.4158072886"
       ]
      },
      {
       "output_type": "stream",
       "stream": "stdout",
       "text": [
        " 844.993948302\n",
        "1.45418462668 1137.64378936\n",
        "0.404353868389"
       ]
      },
      {
       "output_type": "stream",
       "stream": "stdout",
       "text": [
        " 143.517874576\n",
        "0.538179496281 212.017718856\n",
        "3\n",
        "1.40745112021"
       ]
      },
      {
       "output_type": "stream",
       "stream": "stdout",
       "text": [
        " 845.48629221\n",
        "1.44553853419 1138.30708356\n",
        "0.409248745899"
       ]
      },
      {
       "output_type": "stream",
       "stream": "stdout",
       "text": [
        " 145.885997934\n",
        "0.536457784115 212.19180713\n",
        "3\n",
        "1.39958339716"
       ]
      },
      {
       "output_type": "stream",
       "stream": "stdout",
       "text": [
        " 845.977026087\n",
        "1.43702766421 1138.96606911\n",
        "0.41010018307"
       ]
      },
      {
       "output_type": "stream",
       "stream": "stdout",
       "text": [
        " 146.468193001\n",
        "0.540066038025 213.870473556\n",
        "3\n",
        "1.39180823555"
       ]
      },
      {
       "output_type": "stream",
       "stream": "stdout",
       "text": [
        " 846.464592702\n",
        "1.42861692212 1139.62078883\n",
        "0.410941603333"
       ]
      },
      {
       "output_type": "stream",
       "stream": "stdout",
       "text": [
        " 147.048655616\n",
        "0.543631841889 215.538681639\n",
        "3\n",
        "1.38371539904"
       ]
      },
      {
       "output_type": "stream",
       "stream": "stdout",
       "text": [
        " 846.947726158\n",
        "1.42026370858 1140.2713289\n",
        "0.413103810002"
       ]
      },
      {
       "output_type": "stream",
       "stream": "stdout",
       "text": [
        " 148.119709946\n",
        "0.542946118421 215.86534725\n",
        "3\n",
        "1.38905943621"
       ]
      },
      {
       "output_type": "stream",
       "stream": "stdout",
       "text": [
        " 849.026175906\n",
        "1.41570389514 1141.00641129\n",
        "0.410702231469"
       ]
      },
      {
       "output_type": "stream",
       "stream": "stdout",
       "text": [
        " 148.203672582\n",
        "0.543056662862 216.355946194\n",
        "3\n",
        "1.38113680986"
       ]
      },
      {
       "output_type": "stream",
       "stream": "stdout",
       "text": [
        " 849.503739284\n",
        "1.40753529287 1141.64867632\n",
        "0.415113724197"
       ]
      },
      {
       "output_type": "stream",
       "stream": "stdout",
       "text": [
        " 150.378952553\n",
        "0.541829949103 216.581986017\n",
        "3\n",
        "1.39378061372"
       ]
      },
      {
       "output_type": "stream",
       "stream": "stdout",
       "text": [
        " 853.844942078\n",
        "1.40863857755 1142.85813346\n",
        "0.412728137582"
       ]
      },
      {
       "output_type": "stream",
       "stream": "stdout",
       "text": [
        " 150.463023876\n",
        "0.542934381275 217.33322318\n",
        "3\n",
        "1.3858622448"
       ]
      },
      {
       "output_type": "stream",
       "stream": "stdout",
       "text": [
        " 854.31872028\n",
        "1.40059551835 1143.49266184\n",
        "0.417582949563"
       ]
      },
      {
       "output_type": "stream",
       "stream": "stdout",
       "text": [
        " 152.783727947\n",
        "0.540942991513 217.475023895\n",
        "3\n",
        "1.37809282908"
       ]
      },
      {
       "output_type": "stream",
       "stream": "stdout",
       "text": [
        " 854.789457211\n",
        "1.39265199667 1144.12320763\n",
        "0.421880151403"
       ]
      },
      {
       "output_type": "stream",
       "stream": "stdout",
       "text": [
        " 154.894897861\n",
        "0.539749197144 217.698530302\n",
        "3\n",
        "1.38721889488"
       ]
      },
      {
       "output_type": "stream",
       "stream": "stdout",
       "text": [
        " 857.950611461\n",
        "1.39191531722 1145.10497094\n",
        "0.419497053869"
       ]
      },
      {
       "output_type": "stream",
       "stream": "stdout",
       "text": [
        " 154.979737251\n",
        "0.540497707232 218.344542793\n",
        "3\n",
        "1.39730157761"
       ]
      },
      {
       "output_type": "stream",
       "stream": "stdout",
       "text": [
        " 861.452549136\n",
        "1.39453738374 1146.50139135\n",
        "0.417143311826"
       ]
      },
      {
       "output_type": "stream",
       "stream": "stdout",
       "text": [
        " 155.064033163\n",
        "0.541586972845 219.091620117\n",
        "3\n",
        "1.38952336547"
       ]
      },
      {
       "output_type": "stream",
       "stream": "stdout",
       "text": [
        " 861.918004759\n",
        "1.38674781514 1147.12098708\n",
        "0.420915829114"
       ]
      },
      {
       "output_type": "stream",
       "stream": "stdout",
       "text": [
        " 156.928862071\n",
        "0.539938124709 219.266880758\n",
        "3\n",
        "1.38188389842"
       ]
      },
      {
       "output_type": "stream",
       "stream": "stdout",
       "text": [
        " 862.380621915\n",
        "1.37904694332 1147.73679762\n",
        "0.422914513084"
       ]
      },
      {
       "output_type": "stream",
       "stream": "stdout",
       "text": [
        " 157.943323682\n",
        "0.539895812088 219.702919413\n",
        "3\n",
        "1.39291772038"
       ]
      },
      {
       "output_type": "stream",
       "stream": "stdout",
       "text": [
        " 866.256836961\n",
        "1.37960588605 1148.83868211\n",
        "0.420578147279"
       ]
      },
      {
       "output_type": "stream",
       "stream": "stdout",
       "text": [
        " 158.027551876\n",
        "0.540851532519 220.409995041\n",
        "3\n",
        "1.39791756693"
       ]
      },
      {
       "output_type": "stream",
       "stream": "stdout",
       "text": [
        " 868.295205875\n",
        "1.37552000644 1149.53628267\n",
        "0.418267455824"
       ]
      },
      {
       "output_type": "stream",
       "stream": "stdout",
       "text": [
        " 158.111271491\n",
        "0.540967511803 220.891020071\n",
        "3\n",
        "1.40984784624"
       ]
      },
      {
       "output_type": "stream",
       "stream": "stdout",
       "text": [
        " 872.571363901\n",
        "1.37674397813"
       ]
      },
      {
       "output_type": "stream",
       "stream": "stdout",
       "text": [
        " 1150.71403274\n",
        "0.415981959635 158.194488873\n",
        "0.542022340411"
       ]
      },
      {
       "output_type": "stream",
       "stream": "stdout",
       "text": [
        " 221.630830025\n",
        "3\n",
        "1.40221119183"
       ]
      },
      {
       "output_type": "stream",
       "stream": "stdout",
       "text": [
        " 873.027388189\n",
        "1.36926516063 1151.3157229\n",
        "0.420772588008"
       ]
      },
      {
       "output_type": "stream",
       "stream": "stdout",
       "text": [
        " 160.40221078\n",
        "0.53984539611 221.747583362\n",
        "3\n",
        "1.3946802732"
       ]
      },
      {
       "output_type": "stream",
       "stream": "stdout",
       "text": [
        " 873.480914515\n",
        "1.36186461947 1151.91386815\n",
        "0.420875327215"
       ]
      },
      {
       "output_type": "stream",
       "stream": "stdout",
       "text": [
        " 160.771904999\n",
        "0.539980706255 222.226069729\n",
        "3\n",
        "1.40534868933"
       ]
      },
      {
       "output_type": "stream",
       "stream": "stdout",
       "text": [
        " 877.32210658\n",
        "1.36250091494 1152.99901809\n",
        "0.418612730308"
       ]
      },
      {
       "output_type": "stream",
       "stream": "stdout",
       "text": [
        " 160.854893459\n",
        "0.540910278856 222.926891384\n",
        "3\n",
        "1.39793209248"
       ]
      },
      {
       "output_type": "stream",
       "stream": "stdout",
       "text": [
        " 877.771666724\n",
        "1.3552283737 1153.5903332\n",
        "0.42265164872"
       ]
      },
      {
       "output_type": "stream",
       "stream": "stdout",
       "text": [
        " 162.871342163\n",
        "0.539786882619 223.142295093\n",
        "3\n",
        "1.39055995901"
       ]
      },
      {
       "output_type": "stream",
       "stream": "stdout",
       "text": [
        " 878.218631838\n",
        "1.34802844133 1154.17820353\n",
        "0.426928465961"
       ]
      },
      {
       "output_type": "stream",
       "stream": "stdout",
       "text": [
        " 164.969786613\n",
        "0.538239781395 223.30252773\n",
        "3\n",
        "1.38328344492"
       ]
      },
      {
       "output_type": "stream",
       "stream": "stdout",
       "text": [
        " 878.663215638\n",
        "1.34090097623 1154.76269411\n",
        "0.429778868238"
       ]
      },
      {
       "output_type": "stream",
       "stream": "stdout",
       "text": [
        " 166.396043073\n",
        "0.53775089162 223.628304252\n",
        "3\n",
        "1.37602776065"
       ]
      },
      {
       "output_type": "stream",
       "stream": "stdout",
       "text": [
        " 879.105141159\n",
        "1.33384697929 1155.34378924\n",
        "0.434345598301"
       ]
      },
      {
       "output_type": "stream",
       "stream": "stdout",
       "text": [
        " 168.476030142\n",
        "0.535665174238 223.740949037\n",
        "3\n",
        "1.42964524119"
       ]
      },
      {
       "output_type": "stream",
       "stream": "stdout",
       "text": [
        " 918.891473226\n",
        "1.42450306015 1232.32057772\n",
        "0.433016778053"
       ]
      },
      {
       "output_type": "stream",
       "stream": "stdout",
       "text": [
        " 168.601824503\n",
        "0.546995705739 232.201851744\n",
        "3\n",
        "1.4222248372"
       ]
      },
      {
       "output_type": "stream",
       "stream": "stdout",
       "text": [
        " 919.347899357\n",
        "1.41708727413 1232.93299853\n",
        "0.437841248042"
       ]
      },
      {
       "output_type": "stream",
       "stream": "stdout",
       "text": [
        " 170.896650528\n",
        "0.544918691846 232.319150407\n",
        "3\n",
        "1.41495547078"
       ]
      },
      {
       "output_type": "stream",
       "stream": "stdout",
       "text": [
        " 919.801567741\n",
        "1.40975855555 1233.54190774\n",
        "0.441916152212"
       ]
      },
      {
       "output_type": "stream",
       "stream": "stdout",
       "text": [
        " 172.973496607\n",
        "0.543883058025 232.541132893\n",
        "3\n",
        "1.40772636629"
       ]
      },
      {
       "output_type": "stream",
       "stream": "stdout",
       "text": [
        " 920.252698232\n",
        "1.4025005984 1234.14738142\n",
        "0.446245676303"
       ]
      },
      {
       "output_type": "stream",
       "stream": "stdout",
       "text": [
        " 175.145518296\n",
        "0.542420379916 232.705490462\n",
        "3\n",
        "1.40059243146"
       ]
      },
      {
       "output_type": "stream",
       "stream": "stdout",
       "text": [
        " 920.701630745\n",
        "1.39531062423 1234.74949232\n",
        "0.446247847322"
       ]
      },
      {
       "output_type": "stream",
       "stream": "stdout",
       "text": [
        " 175.502047568\n",
        "0.543330720324 233.390027053\n",
        "3\n",
        "1.39357037013"
       ]
      },
      {
       "output_type": "stream",
       "stream": "stdout",
       "text": [
        " 921.148063364\n",
        "1.38819677235 1235.34822838\n",
        "0.44684905838"
       ]
      },
      {
       "output_type": "stream",
       "stream": "stdout",
       "text": [
        " 176.023771501\n",
        "0.544513208668 234.162759201\n",
        "3\n",
        "1.38657679014"
       ]
      },
      {
       "output_type": "stream",
       "stream": "stdout",
       "text": [
        " 921.591869769\n",
        "1.38115501413 1235.94362413\n",
        "0.449654426776"
       ]
      },
      {
       "output_type": "stream",
       "stream": "stdout",
       "text": [
        " 177.465683695\n",
        "0.544091664653 234.494984024\n",
        "3\n",
        "1.37965776127"
       ]
      },
      {
       "output_type": "stream",
       "stream": "stdout",
       "text": [
        " 922.033341575\n",
        "1.37418178494 1236.53572976\n",
        "0.44963934899"
       ]
      },
      {
       "output_type": "stream",
       "stream": "stdout",
       "text": [
        " 177.818805818\n",
        "0.544979771192 235.175415579\n",
        "3\n",
        "1.37281385662"
       ]
      },
      {
       "output_type": "stream",
       "stream": "stdout",
       "text": [
        " 922.472411627\n",
        "1.36727798521 1237.12457239\n",
        "0.448024147647"
       ]
      },
      {
       "output_type": "stream",
       "stream": "stdout",
       "text": [
        " 177.921589719\n",
        "0.546448976379 236.061079185\n",
        "3\n",
        "1.36601233334"
       ]
      },
      {
       "output_type": "stream",
       "stream": "stdout",
       "text": [
        " 922.90869659\n",
        "1.36045016963 1237.71013892\n",
        "0.452193246038"
       ]
      },
      {
       "output_type": "stream",
       "stream": "stdout",
       "text": [
        " 180.03812041\n",
        "0.545017349022 236.221830647\n",
        "3\n",
        "1.37319829783"
       ]
      },
      {
       "output_type": "stream",
       "stream": "stdout",
       "text": [
        " 925.594378635\n",
        "1.35946915327 1238.57748639\n",
        "0.449944061934"
       ]
      },
      {
       "output_type": "stream",
       "stream": "stdout",
       "text": [
        " 180.122834558\n",
        "0.545553032553 236.800621855\n",
        "3\n",
        "1.36679308481"
       ]
      },
      {
       "output_type": "stream",
       "stream": "stdout",
       "text": [
        " 926.028524881\n",
        "1.35277546433 1239.15683905\n",
        "0.450509117146"
       ]
      },
      {
       "output_type": "stream",
       "stream": "stdout",
       "text": [
        " 180.634081118\n",
        "0.548639060317 238.409008451\n",
        "3\n",
        "1.36008062108"
       ]
      },
      {
       "output_type": "stream",
       "stream": "stdout",
       "text": [
        " 926.458933468\n",
        "1.34611434092 1239.73307218\n",
        "0.455032692108"
       ]
      },
      {
       "output_type": "stream",
       "stream": "stdout",
       "text": [
        " 182.742977559\n",
        "0.546600323267 238.516788355\n",
        "3\n",
        "1.35349497625"
       ]
      },
      {
       "output_type": "stream",
       "stream": "stdout",
       "text": [
        " 926.887220798\n",
        "1.33951797472 1240.30623184\n",
        "0.45499169374"
       ]
      },
      {
       "output_type": "stream",
       "stream": "stdout",
       "text": [
        " 183.088105521\n",
        "0.547450011679 239.18831084\n",
        "3\n",
        "1.36149521749"
       ]
      },
      {
       "output_type": "stream",
       "stream": "stdout",
       "text": [
        " 929.866619075\n",
        "1.33739290283 1241.04779962\n",
        "0.452772253878"
       ]
      },
      {
       "output_type": "stream",
       "stream": "stdout",
       "text": [
        " 183.172260188\n",
        "0.547868008163 239.734025122\n",
        "3\n",
        "1.35490884301"
       ]
      },
      {
       "output_type": "stream",
       "stream": "stdout",
       "text": [
        " 930.29141493\n",
        "1.33090209884 1241.61493331\n",
        "0.456671513508"
       ]
      },
      {
       "output_type": "stream",
       "stream": "stdout",
       "text": [
        " 185.181273261\n",
        "0.546165533542 239.868221329\n",
        "3\n",
        "1.34840461102"
       ]
      },
      {
       "output_type": "stream",
       "stream": "stdout",
       "text": [
        " 930.713855618\n",
        "1.32447639063 1242.17905099\n",
        "0.460533099132"
       ]
      },
      {
       "output_type": "stream",
       "stream": "stdout",
       "text": [
        " 187.167538628\n",
        "0.544704086506 240.020139533\n",
        "3\n",
        "1.35910914299"
       ]
      },
      {
       "output_type": "stream",
       "stream": "stdout",
       "text": [
        " 934.771968115\n",
        "1.33159753566 1244.41780962\n",
        "0.458331619496"
       ]
      },
      {
       "output_type": "stream",
       "stream": "stdout",
       "text": [
        " 187.251981037\n",
        "0.546047018678 240.869333142\n",
        "3\n",
        "1.35269827206"
       ]
      },
      {
       "output_type": "stream",
       "stream": "stdout",
       "text": [
        " 935.191426917\n",
        "1.32523890911 1244.9767261\n",
        "0.461996529226"
       ]
      },
      {
       "output_type": "stream",
       "stream": "stdout",
       "text": [
        " 189.154583367\n",
        "0.545085269135 241.080422637\n",
        "3\n",
        "1.34637241557"
       ]
      },
      {
       "output_type": "stream",
       "stream": "stdout",
       "text": [
        " 935.609091602\n",
        "1.31893298885 1245.53277751\n",
        "0.462482665823"
       ]
      },
      {
       "output_type": "stream",
       "stream": "stdout",
       "text": [
        " 189.646195073\n",
        "0.54618056993 241.833835746\n",
        "3\n",
        "1.34001123325"
       ]
      },
      {
       "output_type": "stream",
       "stream": "stdout",
       "text": [
        " 936.024379805\n",
        "1.31268481077 1246.08592038\n",
        "0.466777984158"
       ]
      },
      {
       "output_type": "stream",
       "stream": "stdout",
       "text": [
        " 191.631409435\n",
        "0.54423078258 241.937335379\n",
        "3\n",
        "1.3337136693"
       ]
      },
      {
       "output_type": "stream",
       "stream": "stdout",
       "text": [
        " 936.437496735\n",
        "1.30649607178 1246.63620122\n",
        "0.470988064496"
       ]
      },
      {
       "output_type": "stream",
       "stream": "stdout",
       "text": [
        " 193.601245191\n",
        "0.542362755484 242.043727057\n",
        "3\n",
        "1.32753529871"
       ]
      },
      {
       "output_type": "stream",
       "stream": "stdout",
       "text": [
        " 936.848738684\n",
        "1.30036381622 1247.18367961\n",
        "0.469378797911"
       ]
      },
      {
       "output_type": "stream",
       "stream": "stdout",
       "text": [
        " 193.702345142\n",
        "0.543747679653 242.910561892\n",
        "3\n",
        "1.33620100143"
       ]
      },
      {
       "output_type": "stream",
       "stream": "stdout",
       "text": [
        " 940.13550465\n",
        "1.30297275994 1248.46317955\n",
        "0.467187920258"
       ]
      },
      {
       "output_type": "stream",
       "stream": "stdout",
       "text": [
        " 193.786915001\n",
        "0.544638581444 243.599795245\n",
        "3\n",
        "1.34570243631"
       ]
      },
      {
       "output_type": "stream",
       "stream": "stdout",
       "text": [
        " 943.780595823\n",
        "1.30379715294 1249.47012904\n",
        "0.465015103431"
       ]
      },
      {
       "output_type": "stream",
       "stream": "stdout",
       "text": [
        " 193.871077182\n",
        "0.545421109055 244.253678568\n",
        "3\n",
        "1.33949641057"
       ]
      },
      {
       "output_type": "stream",
       "stream": "stdout",
       "text": [
        " 944.188130778\n",
        "1.29776203999 1250.00979714\n",
        "0.468121273545"
       ]
      },
      {
       "output_type": "stream",
       "stream": "stdout",
       "text": [
        " 195.512999311\n",
        "0.544082408791 244.414704265\n",
        "3\n",
        "1.33343545204"
       ]
      },
      {
       "output_type": "stream",
       "stream": "stdout",
       "text": [
        " 944.593677435\n",
        "1.29178615803 1250.5467384\n",
        "0.468563503688"
       ]
      },
      {
       "output_type": "stream",
       "stream": "stdout",
       "text": [
        " 195.991098665\n",
        "0.545146998777 245.160026714\n",
        "3\n",
        "1.34281881924"
       ]
      },
      {
       "output_type": "stream",
       "stream": "stdout",
       "text": [
        " 948.226931994\n",
        "1.29265052086 1251.54611978\n",
        "0.466414277995"
       ]
      },
      {
       "output_type": "stream",
       "stream": "stdout",
       "text": [
        " 196.074827132\n",
        "0.54591642547 245.810657308\n",
        "3\n",
        "1.3366989331"
       ]
      },
      {
       "output_type": "stream",
       "stream": "stdout",
       "text": [
        " 948.629719404\n",
        "1.28674872143 1252.07789049\n",
        "0.470315569544"
       ]
      },
      {
       "output_type": "stream",
       "stream": "stdout",
       "text": [
        " 198.016143086\n",
        "0.544033604965 245.916879444\n",
        "3\n",
        "1.33063468229"
       ]
      },
      {
       "output_type": "stream",
       "stream": "stdout",
       "text": [
        " 949.030501308\n",
        "1.28090057473 1252.60701429\n",
        "0.474181394805"
       ]
      },
      {
       "output_type": "stream",
       "stream": "stdout",
       "text": [
        " 199.933132435\n",
        "0.54216790101 246.022515022\n",
        "3\n",
        "1.3246938952"
       ]
      },
      {
       "output_type": "stream",
       "stream": "stdout",
       "text": [
        " 949.429394894\n",
        "1.275106118 1253.13352056\n",
        "0.472615932756"
       ]
      },
      {
       "output_type": "stream",
       "stream": "stdout",
       "text": [
        " 200.03258268\n",
        "0.543503573872 246.878972672\n",
        "3\n",
        "1.33221065253"
       ]
      },
      {
       "output_type": "stream",
       "stream": "stdout",
       "text": [
        " 952.355654721\n",
        "1.27504826574 1253.99532464\n",
        "0.470487355978"
       ]
      },
      {
       "output_type": "stream",
       "stream": "stdout",
       "text": [
        " 200.116209005\n",
        "0.54408345497 247.465178518\n",
        "3\n",
        "1.34138912271"
       ]
      },
      {
       "output_type": "stream",
       "stream": "stdout",
       "text": [
        " 955.968370771\n",
        "1.27596830605 1254.98257139\n",
        "0.468377692061"
       ]
      },
      {
       "output_type": "stream",
       "stream": "stdout",
       "text": [
        " 200.199426668\n",
        "0.544840399198 248.111014401\n",
        "3\n",
        "1.33544828607"
       ]
      },
      {
       "output_type": "stream",
       "stream": "stdout",
       "text": [
        " 956.363782948\n",
        "1.27027228153 1255.50169491\n",
        "0.466291992867"
       ]
      },
      {
       "output_type": "stream",
       "stream": "stdout",
       "text": [
        " 200.28218393\n",
        "0.545286083117 248.655929801\n",
        "3\n",
        "1.34281760227"
       ]
      },
      {
       "output_type": "stream",
       "stream": "stdout",
       "text": [
        " 959.274523651\n",
        "1.26864386356 1256.19054945\n",
        "0.464219612996"
       ]
      },
      {
       "output_type": "stream",
       "stream": "stdout",
       "text": [
        " 200.364593246\n",
        "0.545676541818 249.184078349\n",
        "3\n",
        "1.35012112626"
       ]
      },
      {
       "output_type": "stream",
       "stream": "stdout",
       "text": [
        " 962.178482194\n",
        "1.26861562928 1257.04285457\n",
        "0.462165862001"
       ]
      },
      {
       "output_type": "stream",
       "stream": "stdout",
       "text": [
        " 200.446600296\n",
        "0.546236544632 249.766089354\n",
        "3\n",
        "1.34419516392"
       ]
      },
      {
       "output_type": "stream",
       "stream": "stdout",
       "text": [
        " 962.569975347\n",
        "1.26302997516 1257.55464948\n",
        "0.466118060917"
       ]
      },
      {
       "output_type": "stream",
       "stream": "stdout",
       "text": [
        " 202.313216009\n",
        "0.544483119494 249.866190704\n",
        "3\n",
        "1.33833534534"
       ]
      },
      {
       "output_type": "stream",
       "stream": "stdout",
       "text": [
        " 962.959786392\n",
        "1.25749135039 1258.06401638\n",
        "0.467594107026"
       ]
      },
      {
       "output_type": "stream",
       "stream": "stdout",
       "text": [
        " 203.173172906\n",
        "0.544017738977 250.16073143\n",
        "3\n",
        "1.34810220961"
       ]
      },
      {
       "output_type": "stream",
       "stream": "stdout",
       "text": [
        " 966.926199313\n",
        "1.26425197574 1260.25692187\n",
        "0.465563675707"
       ]
      },
      {
       "output_type": "stream",
       "stream": "stdout",
       "text": [
        " 203.254921782\n",
        "0.545240517314 250.984223635\n",
        "3\n",
        "1.36049193529"
       ]
      },
      {
       "output_type": "stream",
       "stream": "stdout",
       "text": [
        " 972.231538231\n",
        "1.27700626766 1264.53828907\n",
        "0.463577190457"
       ]
      },
      {
       "output_type": "stream",
       "stream": "stdout",
       "text": [
        " 203.336074266\n",
        "0.546986340628 252.038243989\n",
        "3\n",
        "1.37384407872"
       ]
      },
      {
       "output_type": "stream",
       "stream": "stdout",
       "text": [
        " 978.107050658\n",
        "1.28697570288 1267.7807182\n",
        "0.461572661408"
       ]
      },
      {
       "output_type": "stream",
       "stream": "stdout",
       "text": [
        " 203.417141393\n",
        "0.548621527411 253.04494298\n",
        "3\n",
        "1.38248703313"
       ]
      },
      {
       "output_type": "stream",
       "stream": "stdout",
       "text": [
        " 981.649323028\n",
        "1.2878086406 1268.74759592\n",
        "0.459583263309"
       ]
      },
      {
       "output_type": "stream",
       "stream": "stdout",
       "text": [
        " 203.497850159\n",
        "0.549329546766 253.679913907\n",
        "3\n",
        "1.37662966704"
       ]
      },
      {
       "output_type": "stream",
       "stream": "stdout",
       "text": [
        " 982.036812901\n",
        "1.28228296248"
       ]
      },
      {
       "output_type": "stream",
       "stream": "stdout",
       "text": [
        " 1269.24843644\n",
        "0.458161078839"
       ]
      },
      {
       "output_type": "stream",
       "stream": "stdout",
       "text": [
        " 203.593319556\n",
        "0.550565692932 254.517100604\n",
        "3\n",
        "1.37078309933"
       ]
      },
      {
       "output_type": "stream",
       "stream": "stdout",
       "text": [
        " 982.42224305\n",
        "1.27680645623 1269.74691621\n",
        "0.461570731227"
       ]
      },
      {
       "output_type": "stream",
       "stream": "stdout",
       "text": [
        " 205.398825995\n",
        "0.5492540703 254.656274777\n",
        "3\n",
        "1.36501557316"
       ]
      },
      {
       "output_type": "stream",
       "stream": "stdout",
       "text": [
        " 982.806115043\n",
        "1.27137444224 1270.24309544\n",
        "0.460379755505"
       ]
      },
      {
       "output_type": "stream",
       "stream": "stdout",
       "text": [
        " 205.512782991\n",
        "0.550245489977 255.396078489\n",
        "3\n",
        "1.35925248885"
       ]
      },
      {
       "output_type": "stream",
       "stream": "stdout",
       "text": [
        " 983.187957052\n",
        "1.26599011047 1270.73694509\n",
        "0.464188803219"
       ]
      },
      {
       "output_type": "stream",
       "stream": "stdout",
       "text": [
        " 207.323449794\n",
        "0.54854194569 255.493029937\n",
        "3\n",
        "1.36860141194"
       ]
      },
      {
       "output_type": "stream",
       "stream": "stdout",
       "text": [
        " 987.094733503\n",
        "1.27248666932 1272.90792886\n",
        "0.462241278036"
       ]
      },
      {
       "output_type": "stream",
       "stream": "stdout",
       "text": [
        " 207.403534051\n",
        "0.54970435933 256.303632467\n",
        "3\n",
        "1.36293181406"
       ]
      },
      {
       "output_type": "stream",
       "stream": "stdout",
       "text": [
        " 987.474227321\n",
        "1.26715119839 1273.39785625\n",
        "0.465443195998"
       ]
      },
      {
       "output_type": "stream",
       "stream": "stdout",
       "text": [
        " 209.121217063\n",
        "0.548844430779 256.49838081\n",
        "3\n",
        "1.3705472452"
       ]
      },
      {
       "output_type": "stream",
       "stream": "stdout",
       "text": [
        " 990.639215638\n",
        "1.26757254525 1274.28161067\n",
        "0.463495936554"
       ]
      },
      {
       "output_type": "stream",
       "stream": "stdout",
       "text": [
        " 209.201314131\n",
        "0.549444652761 257.096117928\n",
        "3\n",
        "1.376546595"
       ]
      },
      {
       "output_type": "stream",
       "stream": "stdout",
       "text": [
        " 993.18271911\n",
        "1.26713793415 1275.05293237\n",
        "0.461565150324"
       ]
      },
      {
       "output_type": "stream",
       "stream": "stdout",
       "text": [
        " 209.281043356\n",
        "0.54987484062 257.636794015\n",
        "3\n",
        "1.37091412897"
       ]
      },
      {
       "output_type": "stream",
       "stream": "stdout",
       "text": [
        " 993.559301745\n",
        "1.2618833537 1275.53650813\n",
        "0.462494645329"
       ]
      },
      {
       "output_type": "stream",
       "stream": "stdout",
       "text": [
        " 209.912373689\n",
        "0.55031786815"
       ]
      },
      {
       "output_type": "stream",
       "stream": "stdout",
       "text": [
        " 258.172844012\n",
        "3\n",
        "1.36528445415"
       ]
      },
      {
       "output_type": "stream",
       "stream": "stdout",
       "text": [
        " 993.934005702\n",
        "1.25667218488 1276.01788432\n",
        "0.465773674637"
       ]
      },
      {
       "output_type": "stream",
       "stream": "stdout",
       "text": [
        " 211.660782038\n",
        "0.549050629014 258.308443994\n",
        "3\n",
        "1.37276484675"
       ]
      },
      {
       "output_type": "stream",
       "stream": "stdout",
       "text": [
        " 997.084125454\n",
        "1.2571297195 1276.89347287\n",
        "0.463857108852"
       ]
      },
      {
       "output_type": "stream",
       "stream": "stdout",
       "text": [
        " 211.740272733\n",
        "0.549640122247 258.902810729\n",
        "3\n",
        "1.36715582257"
       ]
      },
      {
       "output_type": "stream",
       "stream": "stdout",
       "text": [
        " 997.456518824\n",
        "1.25197987398 1277.37067708\n",
        "0.467565870023"
       ]
      },
      {
       "output_type": "stream",
       "stream": "stdout",
       "text": [
        " 213.457231269\n",
        "0.547939857152 258.993121963\n",
        "3\n",
        "1.36162665268"
       ]
      },
      {
       "output_type": "stream",
       "stream": "stdout",
       "text": [
        " 997.827071313\n",
        "1.24687675151 1277.8457289\n",
        "0.470889453515"
       ]
      },
      {
       "output_type": "stream",
       "stream": "stdout",
       "text": [
        " 215.199086048\n",
        "0.546765096531 259.131203417\n",
        "3\n",
        "1.36825993468"
       ]
      },
      {
       "output_type": "stream",
       "stream": "stdout",
       "text": [
        " 1000.64745473\n",
        "1.2469392969 1278.65607091\n",
        "0.468975560973"
       ]
      },
      {
       "output_type": "stream",
       "stream": "stdout",
       "text": [
        " 215.278738153\n",
        "0.547275145642 259.695186909\n",
        "3\n",
        "1.39777321546"
       ]
      },
      {
       "output_type": "stream",
       "stream": "stdout",
       "text": [
        " 1021.35809833\n",
        "1.30021514413 1322.96284467\n",
        "0.469360620299"
       ]
      },
      {
       "output_type": "stream",
       "stream": "stdout",
       "text": [
        " 215.718791258\n",
        "0.553521760069 264.326860631\n",
        "3\n",
        "1.40576207699"
       ]
      },
      {
       "output_type": "stream",
       "stream": "stdout",
       "text": [
        " 1024.78907321\n",
        "1.30094096152 1323.89733444\n",
        "0.467468167405"
       ]
      },
      {
       "output_type": "stream",
       "stream": "stdout",
       "text": [
        " 215.797875759\n",
        "0.55416434292"
       ]
      },
      {
       "output_type": "stream",
       "stream": "stdout",
       "text": [
        " 264.941086552\n",
        "3\n",
        "1.40014663056"
       ]
      },
      {
       "output_type": "stream",
       "stream": "stdout",
       "text": [
        " 1025.1628042\n",
        "1.29571814509 1324.38038054\n",
        "0.470421685062"
       ]
      },
      {
       "output_type": "stream",
       "stream": "stdout",
       "text": [
        " 217.432689909\n",
        "0.553033283375 265.093550219\n",
        "3\n",
        "1.39456298743"
       ]
      },
      {
       "output_type": "stream",
       "stream": "stdout",
       "text": [
        " 1025.53481987\n",
        "1.29053758191 1324.86129553\n",
        "0.474111059134"
       ]
      },
      {
       "output_type": "stream",
       "stream": "stdout",
       "text": [
        " 219.166962106\n",
        "0.551369692761 265.183410687\n",
        "3\n",
        "1.38903405187"
       ]
      },
      {
       "output_type": "stream",
       "stream": "stdout",
       "text": [
        " 1025.90535994\n",
        "1.28539710661 1325.34014248\n",
        "0.476563186154"
       ]
      },
      {
       "output_type": "stream",
       "stream": "stdout",
       "text": [
        " 220.542940086\n",
        "0.5504151339 265.362045776\n",
        "3\n",
        "1.3954006498"
       ]
      },
      {
       "output_type": "stream",
       "stream": "stdout",
       "text": [
        " 1028.66816432\n",
        "1.2853053088 1326.14326805\n",
        "0.47467234767"
       ]
      },
      {
       "output_type": "stream",
       "stream": "stdout",
       "text": [
        " 220.622274124\n",
        "0.55089855712 265.916304655\n",
        "3\n",
        "1.38996245703"
       ]
      },
      {
       "output_type": "stream",
       "stream": "stdout",
       "text": [
        " 1029.03598049\n",
        "1.280235667 1326.61803651\n",
        "0.477710950996"
       ]
      },
      {
       "output_type": "stream",
       "stream": "stdout",
       "text": [
        " 222.290371641\n",
        "0.550106214603 266.107195495\n",
        "3\n",
        "1.38455592327"
       ]
      },
      {
       "output_type": "stream",
       "stream": "stdout",
       "text": [
        " 1029.40265484\n",
        "1.27519717307 1327.09082528\n",
        "0.477598670819"
       ]
      },
      {
       "output_type": "stream",
       "stream": "stdout",
       "text": [
        " 222.587950463\n",
        "0.550790847304 266.729097701\n",
        "3\n",
        "1.37914502759"
       ]
      },
      {
       "output_type": "stream",
       "stream": "stdout",
       "text": [
        " 1029.76765906\n",
        "1.27019754451 1327.56158371\n",
        "0.480730338388"
       ]
      },
      {
       "output_type": "stream",
       "stream": "stdout",
       "text": [
        " 224.288673989\n",
        "0.549416459073"
       ]
      },
      {
       "output_type": "stream",
       "stream": "stdout",
       "text": [
        " 266.844579214\n",
        "3\n",
        "1.38695700355"
       ]
      },
      {
       "output_type": "stream",
       "stream": "stdout",
       "text": [
        " 1033.18007933\n",
        "1.27101793635 1328.4807969\n",
        "0.478852611685"
       ]
      },
      {
       "output_type": "stream",
       "stream": "stdout",
       "text": [
        " 224.367868009\n",
        "0.550054997542 267.453856909\n",
        "3\n",
        "1.38163533642"
       ]
      },
      {
       "output_type": "stream",
       "stream": "stdout",
       "text": [
        " 1033.54310766\n",
        "1.26607541856 1328.94771483\n",
        "0.479680167848"
       ]
      },
      {
       "output_type": "stream",
       "stream": "stdout",
       "text": [
        " 224.972042607\n",
        "0.550491958778 267.981582902\n",
        "3\n",
        "1.37629959233"
       ]
      },
      {
       "output_type": "stream",
       "stream": "stdout",
       "text": [
        " 1033.90440526\n",
        "1.26117080001 1329.41262975\n",
        "0.483181220088"
       ]
      },
      {
       "output_type": "stream",
       "stream": "stdout",
       "text": [
        " 226.652571083\n",
        "0.548942711616 268.071605368\n",
        "3\n",
        "1.37102743221"
       ]
      },
      {
       "output_type": "stream",
       "stream": "stdout",
       "text": [
        " 1034.26417079\n",
        "1.25630523574 1329.87559313\n",
        "0.48611657827"
       ]
      },
      {
       "output_type": "stream",
       "stream": "stdout",
       "text": [
        " 228.272737834\n",
        "0.547930705933 268.22349318\n",
        "3\n",
        "1.37656346126"
       ]
      },
      {
       "output_type": "stream",
       "stream": "stdout",
       "text": [
        " 1036.72658861\n",
        "1.25594739811"
       ]
      },
      {
       "output_type": "stream",
       "stream": "stdout",
       "text": [
        " 1330.6139713\n",
        "0.484247311589 228.351870234\n",
        "0.548333628675"
       ]
      },
      {
       "output_type": "stream",
       "stream": "stdout",
       "text": [
        " 268.746169846\n",
        "3\n",
        "1.37130757644"
       ]
      },
      {
       "output_type": "stream",
       "stream": "stdout",
       "text": [
        " 1037.08421147\n",
        "1.25113645746 1331.07317367\n",
        "0.487281513081"
       ]
      },
      {
       "output_type": "stream",
       "stream": "stdout",
       "text": [
        " 230.00439951\n",
        "0.547000250206 268.85927937\n",
        "3\n",
        "1.36612210523"
       ]
      },
      {
       "output_type": "stream",
       "stream": "stdout",
       "text": [
        " 1037.44004498\n",
        "1.24636777999 1331.53041619\n",
        "0.490394340075"
       ]
      },
      {
       "output_type": "stream",
       "stream": "stdout",
       "text": [
        " 231.668967372\n",
        "0.545921564842 268.992631318\n",
        "3\n",
        "1.36097467996"
       ]
      },
      {
       "output_type": "stream",
       "stream": "stdout",
       "text": [
        " 1037.79464942\n",
        "1.24163161441 1331.98580285\n",
        "0.492672669357"
       ]
      },
      {
       "output_type": "stream",
       "stream": "stdout",
       "text": [
        " 232.972669977\n",
        "0.545317715551"
       ]
      },
      {
       "output_type": "stream",
       "stream": "stdout",
       "text": [
        " 269.2159808\n",
        "3\n",
        "1.35583756952"
       ]
      },
      {
       "output_type": "stream",
       "stream": "stdout",
       "text": [
        " 1038.14783479\n",
        "1.23692957"
       ]
      },
      {
       "output_type": "stream",
       "stream": "stdout",
       "text": [
        " 1332.43931043\n",
        "0.495640477052 234.588578101\n",
        "0.544010913024"
       ]
      },
      {
       "output_type": "stream",
       "stream": "stdout",
       "text": [
        " 269.327740177\n",
        "3\n",
        "1.35079492918"
       ]
      },
      {
       "output_type": "stream",
       "stream": "stdout",
       "text": [
        " 1038.49921485\n",
        "1.23227204685 1332.89089227\n",
        "0.49846235823"
       ]
      },
      {
       "output_type": "stream",
       "stream": "stdout",
       "text": [
        " 236.150040432\n",
        "0.543280441278"
       ]
      },
      {
       "output_type": "stream",
       "stream": "stdout",
       "text": [
        " 269.512802817\n",
        "3\n",
        "1.35437241416"
       ]
      },
      {
       "output_type": "stream",
       "stream": "stdout",
       "text": [
        " 1040.259666\n",
        "1.23103670748 1333.50741072\n",
        "0.496589777863"
       ]
      },
      {
       "output_type": "stream",
       "stream": "stdout",
       "text": [
        " 236.229712493\n",
        "0.543482405153 269.961907582\n",
        "3\n",
        "1.34935594958"
       ]
      },
      {
       "output_type": "stream",
       "stream": "stdout",
       "text": [
        " 1040.60902824\n",
        "1.22642838166 1333.95541655\n",
        "0.497766744146"
       ]
      },
      {
       "output_type": "stream",
       "stream": "stdout",
       "text": [
        " 236.994199779\n",
        "0.543517630718"
       ]
      },
      {
       "output_type": "stream",
       "stream": "stdout",
       "text": [
        " 270.347602719\n",
        "3\n",
        "1.34436137559"
       ]
      },
      {
       "output_type": "stream",
       "stream": "stdout",
       "text": [
        " 1040.95678453\n",
        "1.2218558491 1334.40157934\n",
        "0.500549103269"
       ]
      },
      {
       "output_type": "stream",
       "stream": "stdout",
       "text": [
        " 238.540158839\n",
        "0.54255985314 270.495519817\n",
        "3\n",
        "1.33941942391"
       ]
      },
      {
       "output_type": "stream",
       "stream": "stdout",
       "text": [
        " 1041.30331127\n",
        "1.21731591552 1334.84595068\n",
        "0.501702600192"
       ]
      },
      {
       "output_type": "stream",
       "stream": "stdout",
       "text": [
        " 239.298163856\n",
        "0.542598246366 270.880244435\n",
        "3\n",
        "1.34847679163"
       ]
      },
      {
       "output_type": "stream",
       "stream": "stdout",
       "text": [
        " 1045.46866958\n",
        "1.22388182031 1337.14736603\n",
        "0.49985096513"
       ]
      },
      {
       "output_type": "stream",
       "stream": "stdout",
       "text": [
        " 239.377416127\n",
        "0.543731163711 271.697443935\n",
        "3\n",
        "1.34351936199"
       ]
      },
      {
       "output_type": "stream",
       "stream": "stdout",
       "text": [
        " 1045.8134894\n",
        "1.2193681746"
       ]
      },
      {
       "output_type": "stream",
       "stream": "stdout",
       "text": [
        " 1337.58874535\n",
        "0.503109639229 240.920504531\n",
        "0.542281182261"
       ]
      },
      {
       "output_type": "stream",
       "stream": "stdout",
       "text": [
        " 271.782078696\n",
        "3\n",
        "1.3502785442"
       ]
      },
      {
       "output_type": "stream",
       "stream": "stdout",
       "text": [
        " 1048.84749948\n",
        "1.22171862315"
       ]
      },
      {
       "output_type": "stream",
       "stream": "stdout",
       "text": [
        " 1338.74306109\n",
        "0.501261923584"
       ]
      },
      {
       "output_type": "stream",
       "stream": "stdout",
       "text": [
        " 240.999662961\n",
        "0.542987521908"
       ]
      },
      {
       "output_type": "stream",
       "stream": "stdout",
       "text": [
        " 272.41358495\n",
        "3\n",
        "1.35989616271"
       ]
      },
      {
       "output_type": "stream",
       "stream": "stdout",
       "text": [
        " 1053.38271032\n",
        "1.23499819265 1344.06809319\n",
        "0.499752533087"
       ]
      },
      {
       "output_type": "stream",
       "stream": "stdout",
       "text": [
        " 241.082736486\n",
        "0.544475334669"
       ]
      },
      {
       "output_type": "stream",
       "stream": "stdout",
       "text": [
        " 273.410170186\n",
        "3\n",
        "1.35495229436"
       ]
      },
      {
       "output_type": "stream",
       "stream": "stdout",
       "text": [
        " 1053.72583556\n",
        "1.2304916877"
       ]
      },
      {
       "output_type": "stream",
       "stream": "stdout",
       "text": [
        " 1344.50605632\n",
        "0.502134485839 242.453233446\n",
        "0.543437012475"
       ]
      },
      {
       "output_type": "stream",
       "stream": "stdout",
       "text": [
        " 273.549451628\n",
        "3\n",
        "1.36091081211"
       ]
      },
      {
       "output_type": "stream",
       "stream": "stdout",
       "text": [
        " 1056.43453646\n",
        "1.2293040027"
       ]
      },
      {
       "output_type": "stream",
       "stream": "stdout",
       "text": [
        " 1345.10853209\n",
        "0.50030856597 242.531897947\n",
        "0.543763202767"
       ]
      },
      {
       "output_type": "stream",
       "stream": "stdout",
       "text": [
        " 274.037796862\n",
        "3\n",
        "1.36616256636"
       ]
      },
      {
       "output_type": "stream",
       "stream": "stdout",
       "text": [
        " 1058.85703819\n",
        "1.22906473983 1345.82007903\n",
        "0.49849624233"
       ]
      },
      {
       "output_type": "stream",
       "stream": "stdout",
       "text": [
        " 242.610246181\n",
        "0.544157867318 274.550823276\n",
        "3\n",
        "1.37074006462"
       ]
      },
      {
       "output_type": "stream",
       "stream": "stdout",
       "text": [
        " 1061.02211097\n",
        "1.22849287497 1346.48726453\n",
        "0.496697194446"
       ]
      },
      {
       "output_type": "stream",
       "stream": "stdout",
       "text": [
        " 242.688283072\n",
        "0.544480923655 275.038396065\n",
        "3\n",
        "1.37657703103"
       ]
      },
      {
       "output_type": "stream",
       "stream": "stdout",
       "text": [
        " 1063.71656778\n",
        "1.22861435404 1347.24528323\n",
        "0.494910772481"
       ]
      },
      {
       "output_type": "stream",
       "stream": "stdout",
       "text": [
        " 242.76601844\n",
        "0.544940480711 275.576040271\n",
        "3\n",
        "1.3716886335"
       ]
      },
      {
       "output_type": "stream",
       "stream": "stdout",
       "text": [
        " 1064.05537798\n",
        "1.22421696553 1347.67495897\n",
        "0.497806583997"
       ]
      },
      {
       "output_type": "stream",
       "stream": "stdout",
       "text": [
        " 244.334614516\n",
        "0.543934904382"
       ]
      },
      {
       "output_type": "stream",
       "stream": "stdout",
       "text": [
        " 275.702691029\n",
        "3\n",
        "1.36683515308"
       ]
      },
      {
       "output_type": "stream",
       "stream": "stdout",
       "text": [
        " 1064.39286625\n",
        "1.21985098694"
       ]
      },
      {
       "output_type": "stream",
       "stream": "stdout",
       "text": [
        " 1348.1029609\n",
        "0.500681711146"
       ]
      },
      {
       "output_type": "stream",
       "stream": "stdout",
       "text": [
        " 245.890375144\n",
        "0.54293651074"
       ]
      },
      {
       "output_type": "stream",
       "stream": "stdout",
       "text": [
        " 275.82885586\n",
        "3\n",
        "1.36203413599"
       ]
      },
      {
       "output_type": "stream",
       "stream": "stdout",
       "text": [
        " 1064.72949182\n",
        "1.21551104096"
       ]
      },
      {
       "output_type": "stream",
       "stream": "stdout",
       "text": [
        " 1348.52935634\n",
        "0.499356941039"
       ]
      },
      {
       "output_type": "stream",
       "stream": "stdout",
       "text": [
        " 245.979503612\n",
        "0.543989062967"
       ]
      },
      {
       "output_type": "stream",
       "stream": "stdout",
       "text": [
        " 276.617037859\n",
        "3\n",
        "1.35727351096"
       ]
      },
      {
       "output_type": "stream",
       "stream": "stdout",
       "text": [
        " 1065.06430956\n",
        "1.21121024271"
       ]
      },
      {
       "output_type": "stream",
       "stream": "stdout",
       "text": [
        " 1348.95403647\n",
        "0.501995529862 247.466084067\n",
        "0.543302704234"
       ]
      },
      {
       "output_type": "stream",
       "stream": "stdout",
       "text": [
        " 276.794701829\n",
        "3\n",
        "1.36240821582"
       ]
      },
      {
       "output_type": "stream",
       "stream": "stdout",
       "text": [
        " 1067.47163479\n",
        "1.21104083355 1349.65453645\n",
        "0.500222073012"
       ]
      },
      {
       "output_type": "stream",
       "stream": "stdout",
       "text": [
        " 247.543698298\n",
        "0.543689233968 277.303392445\n",
        "3\n",
        "1.35765577181"
       ]
      },
      {
       "output_type": "stream",
       "stream": "stdout",
       "text": [
        " 1067.80457916\n",
        "1.20678274244 1350.07605386\n",
        "0.503048200169"
       ]
      },
      {
       "output_type": "stream",
       "stream": "stdout",
       "text": [
        " 249.076019926\n",
        "0.542705767245 277.428003232\n",
        "3\n",
        "1.35291592757"
       ]
      },
      {
       "output_type": "stream",
       "stream": "stdout",
       "text": [
        " 1068.1366017\n",
        "1.20254939346 1350.49601047\n",
        "0.50510625891"
       ]
      },
      {
       "output_type": "stream",
       "stream": "stdout",
       "text": [
        " 250.291967289\n",
        "0.541895485321"
       ]
      },
      {
       "output_type": "stream",
       "stream": "stdout",
       "text": [
        " 277.593048343\n",
        "3\n",
        "1.34821546012"
       ]
      },
      {
       "output_type": "stream",
       "stream": "stdout",
       "text": [
        " 1068.46707561\n",
        "1.19834877955 1350.91432429\n",
        "0.508036314644"
       ]
      },
      {
       "output_type": "stream",
       "stream": "stdout",
       "text": [
        " 251.802423488\n",
        "0.540724117897 277.690806971\n",
        "3\n",
        "1.34355100805"
       ]
      },
      {
       "output_type": "stream",
       "stream": "stdout",
       "text": [
        " 1068.79667333\n",
        "1.19417362164 1351.33109527\n",
        "0.506332822187"
       ]
      },
      {
       "output_type": "stream",
       "stream": "stdout",
       "text": [
        " 251.879463002\n",
        "0.541128514381 278.203085427\n",
        "3\n",
        "1.33893004662"
       ]
      },
      {
       "output_type": "stream",
       "stream": "stdout",
       "text": [
        " 1069.12457038\n",
        "1.1900332374 1351.74623245\n",
        "0.509098479698"
       ]
      },
      {
       "output_type": "stream",
       "stream": "stdout",
       "text": [
        " 253.378871534\n",
        "0.540167598305"
       ]
      },
      {
       "output_type": "stream",
       "stream": "stdout",
       "text": [
        " 278.326051862\n",
        "3\n",
        "1.33432060066"
       ]
      },
      {
       "output_type": "stream",
       "stream": "stdout",
       "text": [
        " 1069.45158316\n",
        "1.18591643825"
       ]
      },
      {
       "output_type": "stream",
       "stream": "stdout",
       "text": [
        " 1352.15985564\n",
        "0.511107117974"
       ]
      },
      {
       "output_type": "stream",
       "stream": "stdout",
       "text": [
        " 254.573401213\n",
        "0.539377313947 278.489616568\n",
        "3\n",
        "1.32976207879"
       ]
      },
      {
       "output_type": "stream",
       "stream": "stdout",
       "text": [
        " 1069.77727485\n",
        "1.18182967891 1352.57191622\n",
        "0.513101903571"
       ]
      },
      {
       "output_type": "stream",
       "stream": "stdout",
       "text": [
        " 255.762643337\n",
        "0.53885225149 278.701409515\n",
        "3\n",
        "1.3252096777"
       ]
      },
      {
       "output_type": "stream",
       "stream": "stdout",
       "text": [
        " 1070.10165354\n",
        "1.17777075848 1352.98241141\n",
        "0.516091077944"
       ]
      },
      {
       "output_type": "stream",
       "stream": "stdout",
       "text": [
        " 257.161865006\n",
        "0.537518691144 278.779130666\n",
        "3\n",
        "1.32069702783"
       ]
      },
      {
       "output_type": "stream",
       "stream": "stdout",
       "text": [
        " 1070.42493486\n",
        "1.17373887119 1353.39139864\n",
        "0.518443142964"
       ]
      },
      {
       "output_type": "stream",
       "stream": "stdout",
       "text": [
        " 258.521031318\n",
        "0.536611197394 278.914576485\n",
        "3\n",
        "1.3251797328"
       ]
      },
      {
       "output_type": "stream",
       "stream": "stdout",
       "text": [
        " 1072.56970467\n",
        "1.17338705994 1354.03410316\n",
        "0.516674258443"
       ]
      },
      {
       "output_type": "stream",
       "stream": "stdout",
       "text": [
        " 258.598857519\n",
        "0.536942368981 279.394831771\n",
        "3\n",
        "1.32084557505"
       ]
      },
      {
       "output_type": "stream",
       "stream": "stdout",
       "text": [
        " 1072.89166511\n",
        "1.16940307809 1354.44012912\n",
        "0.515536276145"
       ]
      },
      {
       "output_type": "stream",
       "stream": "stdout",
       "text": [
        " 258.701408452\n",
        "0.539254041539"
       ]
      },
      {
       "output_type": "stream",
       "stream": "stdout",
       "text": [
        " 280.953142231\n",
        "3\n",
        "1.31641123113"
       ]
      },
      {
       "output_type": "stream",
       "stream": "stdout",
       "text": [
        " 1073.2116184\n",
        "1.1654449082"
       ]
      },
      {
       "output_type": "stream",
       "stream": "stdout",
       "text": [
        " 1354.84460906\n",
        "0.518205109736 260.151642686\n",
        "0.538322281007"
       ]
      },
      {
       "output_type": "stream",
       "stream": "stdout",
       "text": [
        " 281.073515662\n",
        "3\n",
        "1.31201609097"
       ]
      },
      {
       "output_type": "stream",
       "stream": "stdout",
       "text": [
        " 1073.53083807\n",
        "1.16150855317"
       ]
      },
      {
       "output_type": "stream",
       "stream": "stdout",
       "text": [
        " 1355.24765523\n",
        "0.517069644713 260.253817402\n",
        "0.539152370651"
       ]
      },
      {
       "output_type": "stream",
       "stream": "stdout",
       "text": [
        " 281.761385729\n",
        "3\n",
        "1.30766431248"
       ]
      },
      {
       "output_type": "stream",
       "stream": "stdout",
       "text": [
        " 1073.84838187\n",
        "1.15760679351 1355.64915555\n",
        "0.519515332741"
       ]
      },
      {
       "output_type": "stream",
       "stream": "stdout",
       "text": [
        " 261.647905752\n",
        "0.538516961659 281.93272947\n",
        "3\n",
        "1.30331761767"
       ]
      },
      {
       "output_type": "stream",
       "stream": "stdout",
       "text": [
        " 1074.1650857\n",
        "1.15372474464 1356.04924379\n",
        "0.521428351561"
       ]
      },
      {
       "output_type": "stream",
       "stream": "stdout",
       "text": [
        " 262.803888154\n",
        "0.538008881927 282.141182752\n",
        "3\n",
        "1.2990404409"
       ]
      },
      {
       "output_type": "stream",
       "stream": "stdout",
       "text": [
        " 1074.48077797\n",
        "1.14986948719"
       ]
      },
      {
       "output_type": "stream",
       "stream": "stdout",
       "text": [
        " 1356.44787938\n",
        "0.52158449287"
       ]
      },
      {
       "output_type": "stream",
       "stream": "stdout",
       "text": [
        " 263.180622577\n",
        "0.538820340982"
       ]
      },
      {
       "output_type": "stream",
       "stream": "stdout",
       "text": [
        " 282.814792875\n",
        "3\n",
        "1.30597367568"
       ]
      },
      {
       "output_type": "stream",
       "stream": "stdout",
       "text": [
        " 1077.79963683\n",
        "1.15097064842 1357.29825882\n",
        "0.519845985569"
       ]
      },
      {
       "output_type": "stream",
       "stream": "stdout",
       "text": [
        " 263.25768544\n",
        "0.539400547536 283.395615939\n",
        "3\n",
        "1.30166540328"
       ]
      },
      {
       "output_type": "stream",
       "stream": "stdout",
       "text": [
        " 1078.11394509\n",
        "1.14714738573"
       ]
      },
      {
       "output_type": "stream",
       "stream": "stdout",
       "text": [
        " 1357.69414802\n",
        "0.519611254009"
       ]
      },
      {
       "output_type": "stream",
       "stream": "stdout",
       "text": [
        " 263.517661426\n",
        "0.539525355205"
       ]
      },
      {
       "output_type": "stream",
       "stream": "stdout",
       "text": [
        " 283.797290158\n",
        "3\n",
        "1.29737622884"
       ]
      },
      {
       "output_type": "stream",
       "stream": "stdout",
       "text": [
        " 1078.42708972\n",
        "1.14334945913"
       ]
      },
      {
       "output_type": "stream",
       "stream": "stdout",
       "text": [
        " 1358.08860835\n",
        "0.520933852914"
       ]
      },
      {
       "output_type": "stream",
       "stream": "stdout",
       "text": [
        " 264.379652771\n",
        "0.538949763267"
       ]
      },
      {
       "output_type": "stream",
       "stream": "stdout",
       "text": [
        " 283.996364352\n",
        "3\n",
        "1.30297372224"
       ]
      },
      {
       "output_type": "stream",
       "stream": "stdout",
       "text": [
        " 1081.09083453\n",
        "1.14374191655"
       ]
      },
      {
       "output_type": "stream",
       "stream": "stdout",
       "text": [
        " 1358.81046574\n",
        "0.519214836529"
       ]
      },
      {
       "output_type": "stream",
       "stream": "stdout",
       "text": [
        " 264.456162905\n",
        "0.539389657729"
       ]
      },
      {
       "output_type": "stream",
       "stream": "stdout",
       "text": [
        " 284.519545078\n",
        "3\n",
        "1.3091547854"
       ]
      },
      {
       "output_type": "stream",
       "stream": "stdout",
       "text": [
        " 1084.05554914\n",
        "1.14609372005"
       ]
      },
      {
       "output_type": "stream",
       "stream": "stdout",
       "text": [
        " 1359.9193757\n",
        "0.517508639644"
       ]
      },
      {
       "output_type": "stream",
       "stream": "stdout",
       "text": [
        " 264.532373654\n",
        "0.540031157428"
       ]
      },
      {
       "output_type": "stream",
       "stream": "stdout",
       "text": [
        " 285.128444989\n",
        "3\n",
        "1.30488948999"
       ]
      },
      {
       "output_type": "stream",
       "stream": "stdout",
       "text": [
        " 1084.36677234\n",
        "1.14233677607"
       ]
      },
      {
       "output_type": "stream",
       "stream": "stdout",
       "text": [
        " 1360.30991161\n",
        "0.518470381074"
       ]
      },
      {
       "output_type": "stream",
       "stream": "stdout",
       "text": [
        " 265.222153533\n",
        "0.539712516495"
       ]
      },
      {
       "output_type": "stream",
       "stream": "stdout",
       "text": [
        " 285.388507051\n",
        "3\n",
        "1.30066278133"
       ]
      },
      {
       "output_type": "stream",
       "stream": "stdout",
       "text": [
        " 1084.67683286\n",
        "1.13860519086"
       ]
      },
      {
       "output_type": "stream",
       "stream": "stdout",
       "text": [
        " 1360.69905418\n",
        "0.519779419447 266.079723015\n",
        "0.539442360652"
       ]
      },
      {
       "output_type": "stream",
       "stream": "stdout",
       "text": [
        " 285.657050583\n",
        "3\n",
        "1.30679424389"
       ]
      },
      {
       "output_type": "stream",
       "stream": "stdout",
       "text": [
        " 1087.63633218\n",
        "1.13935192941 1361.47360275\n",
        "0.518086483843"
       ]
      },
      {
       "output_type": "stream",
       "stream": "stdout",
       "text": [
        " 266.155546952\n",
        "0.539940261445 286.204769551\n",
        "3\n",
        "1.30255986988"
       ]
      },
      {
       "output_type": "stream",
       "stream": "stdout",
       "text": [
        " 1087.94496525\n",
        "1.13565325136 1361.86010313\n",
        "0.520765106294"
       ]
      },
      {
       "output_type": "stream",
       "stream": "stdout",
       "text": [
        " 267.552417396\n",
        "0.538628229937 286.282561035\n",
        "3\n",
        "1.29837944998"
       ]
      },
      {
       "output_type": "stream",
       "stream": "stdout",
       "text": [
        " 1088.25230722\n",
        "1.13198120089 1362.2452219\n",
        "0.523103856724"
       ]
      },
      {
       "output_type": "stream",
       "stream": "stdout",
       "text": [
        " 268.907811638\n",
        "0.537813359418"
       ]
      },
      {
       "output_type": "stream",
       "stream": "stdout",
       "text": [
        " 286.41561109\n",
        "3\n",
        "1.29419953901"
       ]
      },
      {
       "output_type": "stream",
       "stream": "stdout",
       "text": [
        " 1088.55877134\n",
        "1.12833016181"
       ]
      },
      {
       "output_type": "stream",
       "stream": "stdout",
       "text": [
        " 1362.62900754\n",
        "0.525749012666 270.282557706\n",
        "0.536516653604"
       ]
      },
      {
       "output_type": "stream",
       "stream": "stdout",
       "text": [
        " 286.49269629\n",
        "3\n",
        "1.29007900711"
       ]
      },
      {
       "output_type": "stream",
       "stream": "stdout",
       "text": [
        " 1088.8637921\n",
        "1.12470769493"
       ]
      },
      {
       "output_type": "stream",
       "stream": "stdout",
       "text": [
        " 1363.01139818\n",
        "0.528247704541"
       ]
      },
      {
       "output_type": "stream",
       "stream": "stdout",
       "text": [
        " 271.659018388\n",
        "0.535641631196"
       ]
      },
      {
       "output_type": "stream",
       "stream": "stdout",
       "text": [
        " 286.607626546\n",
        "3\n",
        "1.28600675991"
       ]
      },
      {
       "output_type": "stream",
       "stream": "stdout",
       "text": [
        " 1089.16768534\n",
        "1.12111147134"
       ]
      },
      {
       "output_type": "stream",
       "stream": "stdout",
       "text": [
        " 1363.39244222\n",
        "0.530539984299 272.988312472\n",
        "0.535048023084"
       ]
      },
      {
       "output_type": "stream",
       "stream": "stdout",
       "text": [
        " 286.773322815\n",
        "3\n",
        "1.29206430036"
       ]
      },
      {
       "output_type": "stream",
       "stream": "stdout",
       "text": [
        " 1092.11767393\n",
        "1.12346795284"
       ]
      },
      {
       "output_type": "stream",
       "stream": "stdout",
       "text": [
        " 1364.4905903\n",
        "0.528846664808"
       ]
      },
      {
       "output_type": "stream",
       "stream": "stdout",
       "text": [
        " 273.064326632\n",
        "0.535684948141"
       ]
      },
      {
       "output_type": "stream",
       "stream": "stdout",
       "text": [
        " 287.378218031\n",
        "3\n",
        "1.28795774861"
       ]
      },
      {
       "output_type": "stream",
       "stream": "stdout",
       "text": [
        " 1092.42062115\n",
        "1.11989053608"
       ]
      },
      {
       "output_type": "stream",
       "stream": "stdout",
       "text": [
        " 1364.86925486\n",
        "0.531439835299"
       ]
      },
      {
       "output_type": "stream",
       "stream": "stdout",
       "text": [
        " 274.406976196\n",
        "0.534411539252"
       ]
      },
      {
       "output_type": "stream",
       "stream": "stdout",
       "text": [
        " 287.454059411\n",
        "3\n",
        "1.28398524556"
       ]
      },
      {
       "output_type": "stream",
       "stream": "stdout",
       "text": [
        " 1092.72276006\n",
        "1.11633852536"
       ]
      },
      {
       "output_type": "stream",
       "stream": "stdout",
       "text": [
        " 1365.24661223\n",
        "0.530035893973 274.485777742\n",
        "0.536230134893"
       ]
      },
      {
       "output_type": "stream",
       "stream": "stdout",
       "text": [
        " 288.733830291\n",
        "3\n",
        "1.2893903785"
       ]
      },
      {
       "output_type": "stream",
       "stream": "stdout",
       "text": [
        " 1095.35904547\n",
        "1.11826457509 1366.24094777\n",
        "0.528361071409"
       ]
      },
      {
       "output_type": "stream",
       "stream": "stdout",
       "text": [
        " 274.56134138\n",
        "0.536790038809 289.305404311\n",
        "3\n",
        "1.28535700229"
       ]
      },
      {
       "output_type": "stream",
       "stream": "stdout",
       "text": [
        " 1095.65930604\n",
        "1.11474004853"
       ]
      },
      {
       "output_type": "stream",
       "stream": "stdout",
       "text": [
        " 1366.61586252\n",
        "0.530616837711"
       ]
      },
      {
       "output_type": "stream",
       "stream": "stdout",
       "text": [
        " 275.874098127\n",
        "0.536001531557"
       ]
      },
      {
       "output_type": "stream",
       "stream": "stdout",
       "text": [
        " 289.435805408\n",
        "3\n",
        "1.28132319741"
       ]
      },
      {
       "output_type": "stream",
       "stream": "stdout",
       "text": [
        " 1095.95874322\n",
        "1.11123507696"
       ]
      },
      {
       "output_type": "stream",
       "stream": "stdout",
       "text": [
        " 1366.98951377\n",
        "0.533171823123"
       ]
      },
      {
       "output_type": "stream",
       "stream": "stdout",
       "text": [
        " 277.196125044\n",
        "0.534743144844"
       ]
      },
      {
       "output_type": "stream",
       "stream": "stdout",
       "text": [
        " 289.510798473\n",
        "3\n",
        "1.27733341384"
       ]
      },
      {
       "output_type": "stream",
       "stream": "stdout",
       "text": [
        " 1096.25685964\n",
        "1.10775526109 1367.36184869\n",
        "0.535710789818"
       ]
      },
      {
       "output_type": "stream",
       "stream": "stdout",
       "text": [
        " 278.50669708\n",
        "0.533715374491 289.597863606\n",
        "3\n",
        "1.27338033835"
       ]
      },
      {
       "output_type": "stream",
       "stream": "stdout",
       "text": [
        " 1096.55415863\n",
        "1.10429588912 1367.73295216\n",
        "0.537441677791"
       ]
      },
      {
       "output_type": "stream",
       "stream": "stdout",
       "text": [
        " 279.589972682\n",
        "0.5332572302 289.798264814\n",
        "3\n",
        "1.28179936657"
       ]
      },
      {
       "output_type": "stream",
       "stream": "stdout",
       "text": [
        " 1100.97445395\n",
        "1.11595553151 1373.02350031\n",
        "0.536045281031"
       ]
      },
      {
       "output_type": "stream",
       "stream": "stdout",
       "text": [
        " 279.668307222\n",
        "0.534552878721"
       ]
      },
      {
       "output_type": "stream",
       "stream": "stdout",
       "text": [
        " 290.75161003\n",
        "3\n",
        "1.27783346023"
       ]
      },
      {
       "output_type": "stream",
       "stream": "stdout",
       "text": [
        " 1101.27090885\n",
        "1.11249073759"
       ]
      },
      {
       "output_type": "stream",
       "stream": "stdout",
       "text": [
        " 1373.39342569\n",
        "0.538343817118"
       ]
      },
      {
       "output_type": "stream",
       "stream": "stdout",
       "text": [
        " 280.974145377\n",
        "0.533514894155"
       ]
      },
      {
       "output_type": "stream",
       "stream": "stdout",
       "text": [
        " 290.845114386\n",
        "3\n",
        "1.29692243808"
       ]
      },
      {
       "output_type": "stream",
       "stream": "stdout",
       "text": [
        " 1115.91405927\n",
        "1.14770924283"
       ]
      },
      {
       "output_type": "stream",
       "stream": "stdout",
       "text": [
        " 1406.05887557\n",
        "0.538818091818"
       ]
      },
      {
       "output_type": "stream",
       "stream": "stdout",
       "text": [
        " 281.467504371\n",
        "0.537433402001"
       ]
      },
      {
       "output_type": "stream",
       "stream": "stdout",
       "text": [
        " 294.053399369\n",
        "3\n",
        "\n",
        "         3\n"
       ]
      }
     ],
     "prompt_number": 99
    },
    {
     "cell_type": "code",
     "collapsed": false,
     "input": [
      "# test for duplicates\n",
      "a = zip(ints1, ints2, labels)\n",
      "print a\n",
      "import collections\n",
      "print [x for x, y in collections.Counter(a).items() if y > 1]"
     ],
     "language": "python",
     "metadata": {},
     "outputs": [
      {
       "output_type": "stream",
       "stream": "stdout",
       "text": [
        "[(1.4, 0.2, -1), (1.4, 0.2, -1), (1.3, 0.2, -1), (1.5, 0.2, -1), (1.4, 0.2, -1), (1.7, 0.4, -1), (1.4, 0.3, -1), (1.5, 0.2, -1), (1.4, 0.2, -1), (1.5, 0.1, -1), (1.5, 0.2, -1), (1.6, 0.2, -1), (1.4, 0.1, -1), (1.1, 0.1, -1), (1.2, 0.2, -1), (1.5, 0.4, -1), (1.3, 0.4, -1), (1.4, 0.3, -1), (1.7, 0.3, -1), (1.5, 0.3, -1), (1.7, 0.2, -1), (1.5, 0.4, -1), (1.0, 0.2, -1), (1.7, 0.5, -1), (1.9, 0.2, -1), (1.6, 0.2, -1), (1.6, 0.4, -1), (1.5, 0.2, -1), (1.4, 0.2, -1), (1.6, 0.2, -1), (1.6, 0.2, -1), (1.5, 0.4, -1), (1.5, 0.1, -1), (1.4, 0.2, -1), (1.5, 0.1, -1), (1.2, 0.2, -1), (1.3, 0.2, -1), (1.5, 0.1, -1), (1.3, 0.2, -1), (1.5, 0.2, -1), (1.3, 0.3, -1), (1.3, 0.3, -1), (1.3, 0.2, -1), (1.6, 0.6, -1), (1.9, 0.4, -1), (1.4, 0.3, -1), (1.6, 0.2, -1), (1.4, 0.2, -1), (1.5, 0.2, -1), (1.4, 0.2, -1), (4.7, 1.4, 1), (4.5, 1.5, 1), (4.9, 1.5, 1), (4.0, 1.3, 1), (4.6, 1.5, 1), (4.5, 1.3, 1), (4.7, 1.6, 1), (3.3, 1.0, 1), (4.6, 1.3, 1), (3.9, 1.4, 1), (3.5, 1.0, 1), (4.2, 1.5, 1), (4.0, 1.0, 1), (4.7, 1.4, 1), (3.6, 1.3, 1), (4.4, 1.4, 1), (4.5, 1.5, 1), (4.1, 1.0, 1), (4.5, 1.5, 1), (3.9, 1.1, 1), (4.8, 1.8, 1), (4.0, 1.3, 1), (4.9, 1.5, 1), (4.7, 1.2, 1), (4.3, 1.3, 1), (4.4, 1.4, 1), (4.8, 1.4, 1), (5.0, 1.7, 1), (4.5, 1.5, 1), (3.5, 1.0, 1), (3.8, 1.1, 1), (3.7, 1.0, 1), (3.9, 1.2, 1), (5.1, 1.6, 1), (4.5, 1.5, 1), (4.5, 1.6, 1), (4.7, 1.5, 1), (4.4, 1.3, 1), (4.1, 1.3, 1), (4.0, 1.3, 1), (4.4, 1.2, 1), (4.6, 1.4, 1), (4.0, 1.2, 1), (3.3, 1.0, 1), (4.2, 1.3, 1), (4.2, 1.2, 1), (4.2, 1.3, 1), (4.3, 1.3, 1), (3.0, 1.1, 1), (4.1, 1.3, 1)]\n",
        "[(3.5, 1.0, 1), (4.3, 1.3, 1), (4.9, 1.5, 1), (1.3, 0.2, -1), (4.2, 1.3, 1), (4.4, 1.4, 1), (1.4, 0.2, -1), (4.5, 1.5, 1), (1.4, 0.3, -1), (4.0, 1.3, 1), (4.1, 1.3, 1), (1.5, 0.2, -1), (1.3, 0.3, -1), (3.3, 1.0, 1), (1.6, 0.2, -1), (1.5, 0.4, -1), (1.5, 0.1, -1), (1.2, 0.2, -1), (4.7, 1.4, 1)]\n"
       ]
      }
     ],
     "prompt_number": 37
    },
    {
     "cell_type": "code",
     "collapsed": false,
     "input": [
      "a = [(1,2),(3,1),(2,3),(1,2),3]\n",
      "print a.index((2,3))\n",
      "\n",
      "print zip( [2,3], [7,5] )"
     ],
     "language": "python",
     "metadata": {},
     "outputs": [
      {
       "output_type": "stream",
       "stream": "stdout",
       "text": [
        "2\n",
        "[(2, 7), (3, 5)]\n"
       ]
      }
     ],
     "prompt_number": 15
    },
    {
     "cell_type": "code",
     "collapsed": false,
     "input": [
      "for i,j in enumerate(['a', 'b', 'a']) :\n",
      "    print i, \" \", j\n",
      "    "
     ],
     "language": "python",
     "metadata": {},
     "outputs": [
      {
       "output_type": "stream",
       "stream": "stdout",
       "text": [
        "0   a\n",
        "1   b\n",
        "2   a\n"
       ]
      }
     ],
     "prompt_number": 49
    },
    {
     "cell_type": "code",
     "collapsed": false,
     "input": [
      "s = np.random.normal(5, 0.1, 10)\n",
      "print s"
     ],
     "language": "python",
     "metadata": {},
     "outputs": [
      {
       "output_type": "stream",
       "stream": "stdout",
       "text": [
        "[ 5.04633201  4.9301412   5.07743465  4.82969012  4.81423641  4.91506999\n",
        "  5.0078496   5.08361301  5.08260366  5.06701626]\n"
       ]
      }
     ],
     "prompt_number": 40
    },
    {
     "cell_type": "code",
     "collapsed": false,
     "input": [
      "bool(random.getrandbits(1))"
     ],
     "language": "python",
     "metadata": {},
     "outputs": [
      {
       "output_type": "pyout",
       "prompt_number": 61,
       "text": [
        "False"
       ]
      }
     ],
     "prompt_number": 61
    },
    {
     "cell_type": "code",
     "collapsed": false,
     "input": [],
     "language": "python",
     "metadata": {},
     "outputs": []
    }
   ],
   "metadata": {}
  }
 ]
}