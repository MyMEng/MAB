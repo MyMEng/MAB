{
 "metadata": {
  "name": "Exp"
 },
 "nbformat": 3,
 "nbformat_minor": 0,
 "worksheets": [
  {
   "cells": [
    {
     "cell_type": "markdown",
     "metadata": {},
     "source": [
      "$$\n",
      "U(\\hat{L}_t(h)) = \\frac{ \\sqrt{ \\log(t) } }\n",
      "                       { 10 }\n",
      "                  \\sqrt{ V^\\prime_t }\n",
      "$$\n",
      "and\n",
      "$$\n",
      "V^\\prime_t = \\left[\n",
      "  \\sum_{i = 1:n \\text{~} \\tau = 1:t} \\frac{Q^\\tau_i}{(p^\\tau_i)^2} L^2(z(x_i))\n",
      "  -\n",
      "  \\left( \\sum_{\\mathscr{Q}_t} L(z(x_i)) \\right)^2\n",
      "\\right]_+\n",
      "$$"
     ]
    },
    {
     "cell_type": "code",
     "collapsed": false,
     "input": [
      "# define dataset\n",
      "DATA = []\n",
      "\n",
      "import csv\n",
      "with open('iris.data', 'rb') as f:\n",
      "    reader = csv.reader(f)\n",
      "    for row in reader:\n",
      "        DATA.append(row)"
     ],
     "language": "python",
     "metadata": {},
     "outputs": [],
     "prompt_number": 9
    },
    {
     "cell_type": "code",
     "collapsed": false,
     "input": [
      "from pprint import pprint\n",
      "pprint( DATA )"
     ],
     "language": "python",
     "metadata": {},
     "outputs": [
      {
       "output_type": "stream",
       "stream": "stdout",
       "text": [
        "[['1.4', '0.2', 'Iris-setosa'],\n",
        " ['1.4', '0.2', 'Iris-setosa'],\n",
        " ['1.3', '0.2', 'Iris-setosa'],\n",
        " ['1.5', '0.2', 'Iris-setosa'],\n",
        " ['1.4', '0.2', 'Iris-setosa'],\n",
        " ['1.7', '0.4', 'Iris-setosa'],\n",
        " ['1.4', '0.3', 'Iris-setosa'],\n",
        " ['1.5', '0.2', 'Iris-setosa'],\n",
        " ['1.4', '0.2', 'Iris-setosa'],\n",
        " ['1.5', '0.1', 'Iris-setosa'],\n",
        " ['1.5', '0.2', 'Iris-setosa'],\n",
        " ['1.6', '0.2', 'Iris-setosa'],\n",
        " ['1.4', '0.1', 'Iris-setosa'],\n",
        " ['1.1', '0.1', 'Iris-setosa'],\n",
        " ['1.2', '0.2', 'Iris-setosa'],\n",
        " ['1.5', '0.4', 'Iris-setosa'],\n",
        " ['1.3', '0.4', 'Iris-setosa'],\n",
        " ['1.4', '0.3', 'Iris-setosa'],\n",
        " ['1.7', '0.3', 'Iris-setosa'],\n",
        " ['1.5', '0.3', 'Iris-setosa'],\n",
        " ['1.7', '0.2', 'Iris-setosa'],\n",
        " ['1.5', '0.4', 'Iris-setosa'],\n",
        " ['1', '0.2', 'Iris-setosa'],\n",
        " ['1.7', '0.5', 'Iris-setosa'],\n",
        " ['1.9', '0.2', 'Iris-setosa'],\n",
        " ['1.6', '0.2', 'Iris-setosa'],\n",
        " ['1.6', '0.4', 'Iris-setosa'],\n",
        " ['1.5', '0.2', 'Iris-setosa'],\n",
        " ['1.4', '0.2', 'Iris-setosa'],\n",
        " ['1.6', '0.2', 'Iris-setosa'],\n",
        " ['1.6', '0.2', 'Iris-setosa'],\n",
        " ['1.5', '0.4', 'Iris-setosa'],\n",
        " ['1.5', '0.1', 'Iris-setosa'],\n",
        " ['1.4', '0.2', 'Iris-setosa'],\n",
        " ['1.5', '0.1', 'Iris-setosa'],\n",
        " ['1.2', '0.2', 'Iris-setosa'],\n",
        " ['1.3', '0.2', 'Iris-setosa'],\n",
        " ['1.5', '0.1', 'Iris-setosa'],\n",
        " ['1.3', '0.2', 'Iris-setosa'],\n",
        " ['1.5', '0.2', 'Iris-setosa'],\n",
        " ['1.3', '0.3', 'Iris-setosa'],\n",
        " ['1.3', '0.3', 'Iris-setosa'],\n",
        " ['1.3', '0.2', 'Iris-setosa'],\n",
        " ['1.6', '0.6', 'Iris-setosa'],\n",
        " ['1.9', '0.4', 'Iris-setosa'],\n",
        " ['1.4', '0.3', 'Iris-setosa'],\n",
        " ['1.6', '0.2', 'Iris-setosa'],\n",
        " ['1.4', '0.2', 'Iris-setosa'],\n",
        " ['1.5', '0.2', 'Iris-setosa'],\n",
        " ['1.4', '0.2', 'Iris-setosa'],\n",
        " ['4.7', '1.4', 'Iris-versicolor'],\n",
        " ['4.5', '1.5', 'Iris-versicolor'],\n",
        " ['4.9', '1.5', 'Iris-versicolor'],\n",
        " ['4', '1.3', 'Iris-versicolor'],\n",
        " ['4.6', '1.5', 'Iris-versicolor'],\n",
        " ['4.5', '1.3', 'Iris-versicolor'],\n",
        " ['4.7', '1.6', 'Iris-versicolor'],\n",
        " ['3.3', '1', 'Iris-versicolor'],\n",
        " ['4.6', '1.3', 'Iris-versicolor'],\n",
        " ['3.9', '1.4', 'Iris-versicolor'],\n",
        " ['3.5', '1', 'Iris-versicolor'],\n",
        " ['4.2', '1.5', 'Iris-versicolor'],\n",
        " ['4', '1', 'Iris-versicolor'],\n",
        " ['4.7', '1.4', 'Iris-versicolor'],\n",
        " ['3.6', '1.3', 'Iris-versicolor'],\n",
        " ['4.4', '1.4', 'Iris-versicolor'],\n",
        " ['4.5', '1.5', 'Iris-versicolor'],\n",
        " ['4.1', '1', 'Iris-versicolor'],\n",
        " ['4.5', '1.5', 'Iris-versicolor'],\n",
        " ['3.9', '1.1', 'Iris-versicolor'],\n",
        " ['4.8', '1.8', 'Iris-versicolor'],\n",
        " ['4', '1.3', 'Iris-versicolor'],\n",
        " ['4.9', '1.5', 'Iris-versicolor'],\n",
        " ['4.7', '1.2', 'Iris-versicolor'],\n",
        " ['4.3', '1.3', 'Iris-versicolor'],\n",
        " ['4.4', '1.4', 'Iris-versicolor'],\n",
        " ['4.8', '1.4', 'Iris-versicolor'],\n",
        " ['5', '1.7', 'Iris-versicolor'],\n",
        " ['4.5', '1.5', 'Iris-versicolor'],\n",
        " ['3.5', '1', 'Iris-versicolor'],\n",
        " ['3.8', '1.1', 'Iris-versicolor'],\n",
        " ['3.7', '1', 'Iris-versicolor'],\n",
        " ['3.9', '1.2', 'Iris-versicolor'],\n",
        " ['5.1', '1.6', 'Iris-versicolor'],\n",
        " ['4.5', '1.5', 'Iris-versicolor'],\n",
        " ['4.5', '1.6', 'Iris-versicolor'],\n",
        " ['4.7', '1.5', 'Iris-versicolor'],\n",
        " ['4.4', '1.3', 'Iris-versicolor'],\n",
        " ['4.1', '1.3', 'Iris-versicolor'],\n",
        " ['4', '1.3', 'Iris-versicolor'],\n",
        " ['4.4', '1.2', 'Iris-versicolor'],\n",
        " ['4.6', '1.4', 'Iris-versicolor'],\n",
        " ['4', '1.2', 'Iris-versicolor'],\n",
        " ['3.3', '1', 'Iris-versicolor'],\n",
        " ['4.2', '1.3', 'Iris-versicolor'],\n",
        " ['4.2', '1.2', 'Iris-versicolor'],\n",
        " ['4.2', '1.3', 'Iris-versicolor'],\n",
        " ['4.3', '1.3', 'Iris-versicolor'],\n",
        " ['3', '1.1', 'Iris-versicolor'],\n",
        " ['4.1', '1.3', 'Iris-versicolor']]\n"
       ]
      }
     ],
     "prompt_number": 10
    },
    {
     "cell_type": "code",
     "collapsed": false,
     "input": [
      "ints1 = []\n",
      "ints2 = []\n",
      "for i in DATA :\n",
      "    ints1.append( float(i[0]) )\n",
      "    ints2.append( float(i[1]) )\n",
      "print ints"
     ],
     "language": "python",
     "metadata": {},
     "outputs": [
      {
       "output_type": "stream",
       "stream": "stdout",
       "text": [
        "[(1.4, 0.2), (1.4, 0.2), (1.3, 0.2), (1.5, 0.2), (1.4, 0.2), (1.7, 0.4), (1.4, 0.3), (1.5, 0.2), (1.4, 0.2), (1.5, 0.1), (1.5, 0.2), (1.6, 0.2), (1.4, 0.1), (1.1, 0.1), (1.2, 0.2), (1.5, 0.4), (1.3, 0.4), (1.4, 0.3), (1.7, 0.3), (1.5, 0.3), (1.7, 0.2), (1.5, 0.4), (1.0, 0.2), (1.7, 0.5), (1.9, 0.2), (1.6, 0.2), (1.6, 0.4), (1.5, 0.2), (1.4, 0.2), (1.6, 0.2), (1.6, 0.2), (1.5, 0.4), (1.5, 0.1), (1.4, 0.2), (1.5, 0.1), (1.2, 0.2), (1.3, 0.2), (1.5, 0.1), (1.3, 0.2), (1.5, 0.2), (1.3, 0.3), (1.3, 0.3), (1.3, 0.2), (1.6, 0.6), (1.9, 0.4), (1.4, 0.3), (1.6, 0.2), (1.4, 0.2), (1.5, 0.2), (1.4, 0.2), (4.7, 1.4), (4.5, 1.5), (4.9, 1.5), (4.0, 1.3), (4.6, 1.5), (4.5, 1.3), (4.7, 1.6), (3.3, 1.0), (4.6, 1.3), (3.9, 1.4), (3.5, 1.0), (4.2, 1.5), (4.0, 1.0), (4.7, 1.4), (3.6, 1.3), (4.4, 1.4), (4.5, 1.5), (4.1, 1.0), (4.5, 1.5), (3.9, 1.1), (4.8, 1.8), (4.0, 1.3), (4.9, 1.5), (4.7, 1.2), (4.3, 1.3), (4.4, 1.4), (4.8, 1.4), (5.0, 1.7), (4.5, 1.5), (3.5, 1.0), (3.8, 1.1), (3.7, 1.0), (3.9, 1.2), (5.1, 1.6), (4.5, 1.5), (4.5, 1.6), (4.7, 1.5), (4.4, 1.3), (4.1, 1.3), (4.0, 1.3), (4.4, 1.2), (4.6, 1.4), (4.0, 1.2), (3.3, 1.0), (4.2, 1.3), (4.2, 1.2), (4.2, 1.3), (4.3, 1.3), (3.0, 1.1), (4.1, 1.3)]\n"
       ]
      }
     ],
     "prompt_number": 15
    },
    {
     "cell_type": "code",
     "collapsed": false,
     "input": [
      "import matplotlib.pyplot as plt\n",
      "from random import randint\n",
      "from math import exp\n",
      "from numpy import arange\n",
      "import numpy as np\n",
      "\n",
      "# Plot results\n",
      "plt.figure(0)\n",
      "plt.plot(ints1,ints2, 'o')\n",
      "# plt.xlabel(\"time 't' in seconds\")\n",
      "# plt.ylabel(\"voltage V in Volts\")\n",
      "# plt.title('Spiking Integrate-and-Fire Model')\n",
      "# plt.axis([ 0, 1, -0.075, -0.035 ])\n",
      "# plt.savefig(\"figure1.png\", dpi=300, pad_inches=0.2)\n",
      "plt.show()"
     ],
     "language": "python",
     "metadata": {},
     "outputs": [
      {
       "output_type": "display_data",
       "png": "[encoded data removed]"
      }
     ],
     "prompt_number": 18
    },
    {
     "cell_type": "markdown",
     "metadata": {},
     "source": [
      "* logistic loss $L_{\\text{log}} (z) = \\log_2 (1 + \\exp(-z))$\n",
      "* exponential loss $L_{\\text{exp}} (z) = \\exp(-z)$\n",
      "* squared loss $L_{\\text{sq}} (z) = (1 - z)^2$; which sometimes is equated to $0$ for $z>1$"
     ]
    },
    {
     "cell_type": "code",
     "collapsed": false,
     "input": [
      "from math import exp\n",
      "from math import log\n",
      "from numpy import dot\n",
      "\n",
      "# hypothesis space\n",
      "H = []\n",
      "T = []\n",
      "# hypothesis choice\n",
      "Hno = 0\n",
      "# list of querried points\n",
      "Querried = []\n",
      "\n",
      "# define loss function\n",
      "def logLoss( z ) :\n",
      "    return log( 1+exp(-z) , 2 )\n",
      "\n",
      "def sqrLoss( z ) :\n",
      "    return (1-z)**2\n",
      "\n",
      "def expLoss( z ) :\n",
      "    return exp(-z)\n",
      "\n",
      "# define current, linear hypotheisis\n",
      "def hypothesis( x ) :\n",
      "    return dot( H[Hno] , x ) - T[Hno]\n",
      "\n",
      "# define marigin\n",
      "def marigin( x, y ) :\n",
      "    return y * hypothesis( x )\n",
      "\n",
      "# check whether point was querried --- RETURN INDEX NOT NONE LOLOLOLOLOLOLOLOLOLOLOLOLOLOLOLOLOLOLOLOLOLO\u00a7\n",
      "def querried( x ) :\n",
      "    if x in Querried :\n",
      "        return (True, None)\n",
      "    else :\n",
      "        return (False, None)\n",
      "\n",
      "def label( x ) :\n",
      "    # check whether point was querried\n",
      "    ( q, l ) = querried( x )\n",
      "    if q :\n",
      "        return l\n",
      "    else :\n",
      "        return sign( hypothesis( x ) )"
     ],
     "language": "python",
     "metadata": {},
     "outputs": [],
     "prompt_number": 20
    },
    {
     "cell_type": "code",
     "collapsed": false,
     "input": [
      "sign(0)"
     ],
     "language": "python",
     "metadata": {},
     "outputs": [
      {
       "output_type": "pyout",
       "prompt_number": 24,
       "text": [
        "0"
       ]
      }
     ],
     "prompt_number": 24
    },
    {
     "cell_type": "code",
     "collapsed": false,
     "input": [],
     "language": "python",
     "metadata": {},
     "outputs": []
    }
   ],
   "metadata": {}
  }
 ]
}