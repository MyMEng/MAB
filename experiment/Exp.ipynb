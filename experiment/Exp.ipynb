{
 "metadata": {
  "name": "Exp"
 },
 "nbformat": 3,
 "nbformat_minor": 0,
 "worksheets": [
  {
   "cells": [
    {
     "cell_type": "markdown",
     "metadata": {},
     "source": [
      "$$\n",
      "U(\\hat{L}_t(h)) = \\frac{ \\sqrt{ \\log(t) } }\n",
      "                       { 10 }\n",
      "                  \\sqrt{ V^\\prime_t }\n",
      "$$\n",
      "and\n",
      "$$\n",
      "V^\\prime_t = \\left[\n",
      "  \\sum_{i = 1:n \\text{~} \\tau = 1:t} \\frac{Q^\\tau_i}{(p^\\tau_i)^2} L^2(z(x_i))\n",
      "  -\n",
      "  \\left( \\sum_{\\mathscr{Q}_t} L(z(x_i)) \\right)^2\n",
      "\\right]_+\n",
      "$$"
     ]
    },
    {
     "cell_type": "code",
     "collapsed": false,
     "input": [
      "# define dataset\n",
      "DATA = []\n",
      "\n",
      "import csv\n",
      "with open('iris.data', 'rb') as f:\n",
      "    reader = csv.reader(f)\n",
      "    for row in reader:\n",
      "        DATA.append(row)"
     ],
     "language": "python",
     "metadata": {},
     "outputs": [],
     "prompt_number": 159
    },
    {
     "cell_type": "code",
     "collapsed": false,
     "input": [
      "from pprint import pprint\n",
      "pprint( DATA )\n",
      "import random"
     ],
     "language": "python",
     "metadata": {},
     "outputs": [
      {
       "output_type": "stream",
       "stream": "stdout",
       "text": [
        "[['1.4', '0.2', 'Iris-setosa'],\n",
        " ['1.4', '0.2', 'Iris-setosa'],\n",
        " ['1.3', '0.2', 'Iris-setosa'],\n",
        " ['1.5', '0.2', 'Iris-setosa'],\n",
        " ['1.4', '0.2', 'Iris-setosa'],\n",
        " ['1.7', '0.4', 'Iris-setosa'],\n",
        " ['1.4', '0.3', 'Iris-setosa'],\n",
        " ['1.5', '0.2', 'Iris-setosa'],\n",
        " ['1.4', '0.2', 'Iris-setosa'],\n",
        " ['1.5', '0.1', 'Iris-setosa'],\n",
        " ['1.5', '0.2', 'Iris-setosa'],\n",
        " ['1.6', '0.2', 'Iris-setosa'],\n",
        " ['1.4', '0.1', 'Iris-setosa'],\n",
        " ['1.1', '0.1', 'Iris-setosa'],\n",
        " ['1.2', '0.2', 'Iris-setosa'],\n",
        " ['1.5', '0.4', 'Iris-setosa'],\n",
        " ['1.3', '0.4', 'Iris-setosa'],\n",
        " ['1.4', '0.3', 'Iris-setosa'],\n",
        " ['1.7', '0.3', 'Iris-setosa'],\n",
        " ['1.5', '0.3', 'Iris-setosa'],\n",
        " ['1.7', '0.2', 'Iris-setosa'],\n",
        " ['1.5', '0.4', 'Iris-setosa'],\n",
        " ['1', '0.2', 'Iris-setosa'],\n",
        " ['1.7', '0.5', 'Iris-setosa'],\n",
        " ['1.9', '0.2', 'Iris-setosa'],\n",
        " ['1.6', '0.2', 'Iris-setosa'],\n",
        " ['1.6', '0.4', 'Iris-setosa'],\n",
        " ['1.5', '0.2', 'Iris-setosa'],\n",
        " ['1.4', '0.2', 'Iris-setosa'],\n",
        " ['1.6', '0.2', 'Iris-setosa'],\n",
        " ['1.6', '0.2', 'Iris-setosa'],\n",
        " ['1.5', '0.4', 'Iris-setosa'],\n",
        " ['1.5', '0.1', 'Iris-setosa'],\n",
        " ['1.4', '0.2', 'Iris-setosa'],\n",
        " ['1.5', '0.1', 'Iris-setosa'],\n",
        " ['1.2', '0.2', 'Iris-setosa'],\n",
        " ['1.3', '0.2', 'Iris-setosa'],\n",
        " ['1.5', '0.1', 'Iris-setosa'],\n",
        " ['1.3', '0.2', 'Iris-setosa'],\n",
        " ['1.5', '0.2', 'Iris-setosa'],\n",
        " ['1.3', '0.3', 'Iris-setosa'],\n",
        " ['1.3', '0.3', 'Iris-setosa'],\n",
        " ['1.3', '0.2', 'Iris-setosa'],\n",
        " ['1.6', '0.6', 'Iris-setosa'],\n",
        " ['1.9', '0.4', 'Iris-setosa'],\n",
        " ['1.4', '0.3', 'Iris-setosa'],\n",
        " ['1.6', '0.2', 'Iris-setosa'],\n",
        " ['1.4', '0.2', 'Iris-setosa'],\n",
        " ['1.5', '0.2', 'Iris-setosa'],\n",
        " ['1.4', '0.2', 'Iris-setosa'],\n",
        " ['4.7', '1.4', 'Iris-versicolor'],\n",
        " ['4.5', '1.5', 'Iris-versicolor'],\n",
        " ['4.9', '1.5', 'Iris-versicolor'],\n",
        " ['4', '1.3', 'Iris-versicolor'],\n",
        " ['4.6', '1.5', 'Iris-versicolor'],\n",
        " ['4.5', '1.3', 'Iris-versicolor'],\n",
        " ['4.7', '1.6', 'Iris-versicolor'],\n",
        " ['3.3', '1', 'Iris-versicolor'],\n",
        " ['4.6', '1.3', 'Iris-versicolor'],\n",
        " ['3.9', '1.4', 'Iris-versicolor'],\n",
        " ['3.5', '1', 'Iris-versicolor'],\n",
        " ['4.2', '1.5', 'Iris-versicolor'],\n",
        " ['4', '1', 'Iris-versicolor'],\n",
        " ['4.7', '1.4', 'Iris-versicolor'],\n",
        " ['3.6', '1.3', 'Iris-versicolor'],\n",
        " ['4.4', '1.4', 'Iris-versicolor'],\n",
        " ['4.5', '1.5', 'Iris-versicolor'],\n",
        " ['4.1', '1', 'Iris-versicolor'],\n",
        " ['4.5', '1.5', 'Iris-versicolor'],\n",
        " ['3.9', '1.1', 'Iris-versicolor'],\n",
        " ['4.8', '1.8', 'Iris-versicolor'],\n",
        " ['4', '1.3', 'Iris-versicolor'],\n",
        " ['4.9', '1.5', 'Iris-versicolor'],\n",
        " ['4.7', '1.2', 'Iris-versicolor'],\n",
        " ['4.3', '1.3', 'Iris-versicolor'],\n",
        " ['4.4', '1.4', 'Iris-versicolor'],\n",
        " ['4.8', '1.4', 'Iris-versicolor'],\n",
        " ['5', '1.7', 'Iris-versicolor'],\n",
        " ['4.5', '1.5', 'Iris-versicolor'],\n",
        " ['3.5', '1', 'Iris-versicolor'],\n",
        " ['3.8', '1.1', 'Iris-versicolor'],\n",
        " ['3.7', '1', 'Iris-versicolor'],\n",
        " ['3.9', '1.2', 'Iris-versicolor'],\n",
        " ['5.1', '1.6', 'Iris-versicolor'],\n",
        " ['4.5', '1.5', 'Iris-versicolor'],\n",
        " ['4.5', '1.6', 'Iris-versicolor'],\n",
        " ['4.7', '1.5', 'Iris-versicolor'],\n",
        " ['4.4', '1.3', 'Iris-versicolor'],\n",
        " ['4.1', '1.3', 'Iris-versicolor'],\n",
        " ['4', '1.3', 'Iris-versicolor'],\n",
        " ['4.4', '1.2', 'Iris-versicolor'],\n",
        " ['4.6', '1.4', 'Iris-versicolor'],\n",
        " ['4', '1.2', 'Iris-versicolor'],\n",
        " ['3.3', '1', 'Iris-versicolor'],\n",
        " ['4.2', '1.3', 'Iris-versicolor'],\n",
        " ['4.2', '1.2', 'Iris-versicolor'],\n",
        " ['4.2', '1.3', 'Iris-versicolor'],\n",
        " ['4.3', '1.3', 'Iris-versicolor'],\n",
        " ['3', '1.1', 'Iris-versicolor'],\n",
        " ['4.1', '1.3', 'Iris-versicolor']]\n"
       ]
      }
     ],
     "prompt_number": 160
    },
    {
     "cell_type": "code",
     "collapsed": false,
     "input": [
      "ints1 = []\n",
      "ints2 = []\n",
      "labels = []\n",
      "for i in DATA :\n",
      "    ints1.append( float(i[0]) )\n",
      "    ints2.append( float(i[1]) )\n",
      "    if i[2] == 'Iris-setosa' :\n",
      "        labels.append( -1 )\n",
      "    else :\n",
      "        labels.append( +1 )\n",
      "print labels\n",
      "DataTuple = zip(ints1, ints2)"
     ],
     "language": "python",
     "metadata": {},
     "outputs": [
      {
       "output_type": "stream",
       "stream": "stdout",
       "text": [
        "[-1, -1, -1, -1, -1, -1, -1, -1, -1, -1, -1, -1, -1, -1, -1, -1, -1, -1, -1, -1, -1, -1, -1, -1, -1, -1, -1, -1, -1, -1, -1, -1, -1, -1, -1, -1, -1, -1, -1, -1, -1, -1, -1, -1, -1, -1, -1, -1, -1, -1, 1, 1, 1, 1, 1, 1, 1, 1, 1, 1, 1, 1, 1, 1, 1, 1, 1, 1, 1, 1, 1, 1, 1, 1, 1, 1, 1, 1, 1, 1, 1, 1, 1, 1, 1, 1, 1, 1, 1, 1, 1, 1, 1, 1, 1, 1, 1, 1, 1, 1]\n"
       ]
      }
     ],
     "prompt_number": 176
    },
    {
     "cell_type": "code",
     "collapsed": false,
     "input": [
      "import matplotlib.pyplot as plt\n",
      "from random import randint\n",
      "from math import exp\n",
      "from numpy import arange\n",
      "import numpy as np\n",
      "\n",
      "# Plot results\n",
      "plt.figure(0)\n",
      "plt.plot(ints1,ints2, 'o')\n",
      "# plt.xlabel(\"time 't' in seconds\")\n",
      "# plt.ylabel(\"voltage V in Volts\")\n",
      "# plt.title('Spiking Integrate-and-Fire Model')\n",
      "# plt.axis([ 0, 1, -0.075, -0.035 ])\n",
      "# plt.savefig(\"figure1.png\", dpi=300, pad_inches=0.2)\n",
      "\n",
      "X = arange(0, 6, 0.01)\n",
      "\n",
      "Hno = 1\n",
      "Y = []\n",
      "for x in X :\n",
      "    Y.append(  (T[Hno] - x*H[Hno][0] )/ H[Hno][1]   )\n",
      "plt.plot(X,Y, 'r')\n",
      "\n",
      "Hno = 2\n",
      "Y = []\n",
      "for x in X :\n",
      "    Y.append(  (T[Hno] - x*H[Hno][0] )/ H[Hno][1]   )\n",
      "plt.plot(X,Y, 'g')\n",
      "\n",
      "Hno = 3\n",
      "Y = []\n",
      "for x in X :\n",
      "    Y.append(  (T[Hno] - x*H[Hno][0] )/ H[Hno][1]   )\n",
      "plt.plot(X,Y, 'b')\n",
      "\n",
      "Hno = 4\n",
      "Y = []\n",
      "for x in X :\n",
      "    Y.append(  (T[Hno] - x*H[Hno][0] )/ H[Hno][1]   )\n",
      "plt.plot(X,Y, 'c')\n",
      "\n",
      "Hno = 5\n",
      "Y = []\n",
      "for x in X :\n",
      "    Y.append(  (T[Hno] - x*H[Hno][0] )/ H[Hno][1]   )\n",
      "plt.plot(X,Y, 'm')\n",
      "\n",
      "Hno = 6\n",
      "Y = []\n",
      "for x in X :\n",
      "    Y.append(  (T[Hno] - x*H[Hno][0] )/ H[Hno][1]   )\n",
      "plt.plot(X,Y, 'y')\n",
      "\n",
      "plt.savefig(\"gypothesis.png\", dpi=300, pad_inches=0.2)\n",
      "\n",
      "plt.show()"
     ],
     "language": "python",
     "metadata": {},
     "outputs": [
      {
       "output_type": "display_data",
       "png": "[encoded data removed]"
      }
     ],
     "prompt_number": 199
    },
    {
     "cell_type": "markdown",
     "metadata": {},
     "source": [
      "* logistic loss $L_{\\text{log}} (z) = \\log_2 (1 + \\exp(-z))$\n",
      "* exponential loss $L_{\\text{exp}} (z) = \\exp(-z)$\n",
      "* squared loss $L_{\\text{sq}} (z) = (1 - z)^2$; which sometimes is equated to $0$ for $z>1$"
     ]
    },
    {
     "cell_type": "code",
     "collapsed": false,
     "input": [
      "print hypothesis( (4.5, 1.6) )"
     ],
     "language": "python",
     "metadata": {},
     "outputs": [
      {
       "output_type": "stream",
       "stream": "stdout",
       "text": [
        "-1.1\n"
       ]
      }
     ],
     "prompt_number": 178
    },
    {
     "cell_type": "code",
     "collapsed": false,
     "input": [
      "from math import exp\n",
      "from math import log\n",
      "from numpy import dot\n",
      "\n",
      "# hypothesis space --- hypothesis 4 is all right\n",
      "H = [(0,0), (1,1), (1,5), (-4,20), (0.33,1), (0.9,1), (1.4,1) ]\n",
      "T = [ 0   ,  1   ,  3   ,  9     ,  2      , 3      , 9       ]\n",
      "\n",
      "\n",
      "# define loss function\n",
      "def logLoss( z ) :\n",
      "    return log( 1+exp(-z) , 2 )\n",
      "\n",
      "def sqrLoss( z ) :\n",
      "    return (1-z)**2\n",
      "\n",
      "def expLoss( z ) :\n",
      "    return exp(-z)\n",
      "\n",
      "# define current, linear hypotheisis\n",
      "def hypothesis( x ) :\n",
      "    return dot( H[Hno] , x ) - T[Hno]\n",
      "\n",
      "# define marigin\n",
      "def marigin( x, y ) :\n",
      "    return y * hypothesis( x )\n",
      "\n",
      "# check whether point was querried --- RETURN INDEX\n",
      "def querried( x ) :\n",
      "    if x in Querried :\n",
      "        return (True, Querried.index(x))\n",
      "    else :\n",
      "        return (False, None)\n",
      "\n",
      "def label( x ) :\n",
      "    # check whether point was querried\n",
      "    ( q, l ) = querried( x )\n",
      "    if q :\n",
      "        return l\n",
      "    else :\n",
      "        return sign( hypothesis( x ) )\n",
      "        \n",
      "# access to oracle which returns true class\n",
      "def oracle( x ) :\n",
      "    i = DataTuple.index(x)\n",
      "    return labels[i]"
     ],
     "language": "python",
     "metadata": {},
     "outputs": [],
     "prompt_number": 179
    },
    {
     "cell_type": "code",
     "collapsed": false,
     "input": [
      "# hypothesis choice\n",
      "Hno = 0\n",
      "# list of querried points\n",
      "Querried = []\n",
      "\n",
      "# Define main loop --- querry 25%\n",
      "pool = DataTuple\n",
      "N = len(pool)\n",
      "budget = 0.25 * N\n",
      "p_min = 0.005\n",
      "\n",
      "# set current hypothesis!!!!!!\n",
      "Hno = 0\n",
      "\n",
      "oracleQuerries = 0\n",
      "h_1 = 0\n",
      "t = 1\n",
      "\n",
      "Q = []\n",
      "P = []\n",
      "Y = []\n",
      "\n",
      "res = []\n",
      "\n",
      "convergence = []\n",
      "for i in range(1, len(H)) :\n",
      "    convergence.append([])\n",
      "\n",
      "while oracleQuerries <=budget :\n",
      "    p_t = []\n",
      "    \n",
      "    ys = []\n",
      "    for i in pool :\n",
      "        if i in Querried :\n",
      "            y = oracle( i )\n",
      "        else :\n",
      "            y = sign( hypothesis( i ) )\n",
      "        ys.append(y)\n",
      "#    print Y\n",
      "            \n",
      "    summed = 0\n",
      "    for i, z in enumerate(pool) :\n",
      "        summed += logLoss( marigin(z, ys[i]) )\n",
      "#    print summed\n",
      "    Y.append( ys )\n",
      "    \n",
      "#    for x in pool :\n",
      "#        print hypothesis(x)\n",
      "    \n",
      "    \n",
      "    for i, x in enumerate(pool):\n",
      "        p_t.append(  max(0.005, p_min + (1.0-N*p_min)*( logLoss( marigin(x, ys[i]) ) / summed ) ) )\n",
      "        \n",
      "#    print p_t\n",
      "#    print max(p_t)\n",
      "\n",
      "    # Create sampling distribution\n",
      "#    print p_t\n",
      "    probabilities = (numpy.random.multinomial(1, p_t)).tolist()\n",
      "#    print probabilities[5]\n",
      "    querry_x = probabilities.index(1)\n",
      "#    print querry_x\n",
      "    \n",
      "    Q.append( querry_x )\n",
      "    P.append( p_t )\n",
      "    \n",
      "    \n",
      "    if pool[querry_x] in Querried :\n",
      "        # Reuse label\n",
      "        pass\n",
      "    else :\n",
      "        # Querry oracle\n",
      "        Querried.append( pool[querry_x] )\n",
      "        oracleQuerries += 1\n",
      "\n",
      "    # Do Thompson sampling\n",
      "    sample = []\n",
      "    for i in range(1, len(H)) :\n",
      "        # choose hypothesis\n",
      "        Hno = i\n",
      "        \n",
      "        # Get mean\n",
      "        sup = 0\n",
      "        for j, k in enumerate( Q ) :\n",
      "            sup += (1.0/P[j][k])* logLoss( marigin( pool[k],Y[j][k] ) )\n",
      "        L = float(1.0/(N*t)) * sup\n",
      "        \n",
      "        # Get sigma\n",
      "        s_s_1 = 0\n",
      "        s_s_2 = 0\n",
      "        for j, k in enumerate( Q ) :\n",
      "            s_s_1 += ( (1.0/P[j][k])* logLoss( marigin( pool[k],Y[j][k] ) )  )**2\n",
      "        for j, k in enumerate( Q ) :\n",
      "            s_s_2 += logLoss( marigin( pool[k],Y[j][k] ) )\n",
      "        s_s_2 = s_s_2**2\n",
      "        s_s = max( 0, s_s_1 - s_s_2 )\n",
      "        s = ( math.sqrt( math.log(t) ) / 10.0 ) * math.sqrt( s_s )\n",
      "        \n",
      "        # simuate normal and sample\n",
      "#        print L, s\n",
      "\n",
      "        if oracleQuerries > budget :\n",
      "            res.append(L)\n",
      "\n",
      "        if s == 0 :\n",
      "            sample.append(L)\n",
      "        else :\n",
      "            sample.append( np.random.normal(L, s, 1) )\n",
      "            \n",
      "        # mean convergencew\n",
      "        convergence[i-1].append(L)\n",
      "        \n",
      "#    print sample\n",
      "    # set the hypothesis that minimizes\n",
      "    minim = 1000000\n",
      "    minIndex = -1\n",
      "    for i in range(len(sample)):\n",
      "        if sample[i] < minim :\n",
      "            minim = sample[i]\n",
      "            minIndex = i\n",
      "        elif sample[i] == minim :\n",
      "            # Toss a coin to decide\n",
      "            if bool(random.getrandbits(1)) :\n",
      "                minim = sample[i]\n",
      "            \n",
      "# mean convergencew\n",
      "#    for w in range(1, len(H)):\n",
      "#        convergence[w-1].append()\n",
      "            \n",
      "            \n",
      "    Hno = minIndex+1\n",
      "#    print Hno\n",
      "        \n",
      "    t += 1\n",
      "\n",
      "    if Hno == 0 :\n",
      "        print \"Error!\"\n",
      "        break\n",
      "    \n",
      "            \n",
      "            \n",
      "#print \"\\n        \", Hno\n",
      "\n",
      "# Get result\n",
      "    minim = 1000000\n",
      "    minIndex = -1\n",
      "    for i in range(len(res)):\n",
      "        if res[i] < minim :\n",
      "            minim = res[i]\n",
      "            minIndex = i\n",
      "print \"\\n        \", minIndex+1\n",
      "\n",
      "print convergence"
     ],
     "language": "python",
     "metadata": {},
     "outputs": [
      {
       "output_type": "stream",
       "stream": "stdout",
       "text": [
        "\n",
        "         5\n",
        "[[1.0, 0.5085216153752254, 0.475194509473926, 0.3595526790923166, 0.5684102200108693, 1.2499192211246613, 1.0733391421853387, 0.9395184704667032, 1.1663527232162736, 1.438660115731207, 1.9911222250903222, 1.8698501496762547, 1.729305864860016, 1.6284889953418007, 1.5661902515215484, 2.046913256307616, 1.927645512800234, 2.003668500740381, 1.8992315526818118, 1.856858094874215, 1.7688781956719053, 1.7362820229836315, 1.6832323430188099, 1.6140588895704668, 1.5497217937280108, 1.4903604591019202, 1.4353154593758668, 1.3998000948473763, 1.4547424685149284, 1.4538626364709837, 1.4077105739564253, 1.3638956026924456, 1.3230669028544135, 1.285186591086774, 1.2485889865773456, 1.2139933010276924, 1.3672004477488435, 1.3526551570816772, 1.404609928154313, 1.369831467460279, 1.3617257737111736, 1.3294075958938667, 1.2986315320957385, 1.2692163223977508, 1.2607618306010684, 1.2427226163896916], [1.0, 0.5002335318733662, 0.6564355432816308, 0.4923655099898426, 0.5122866991217275, 1.7081926090866428, 1.464201474766454, 1.2811826618155826, 1.3297889979995072, 1.8439700161734358, 2.7648797395990248, 2.632516225377219, 2.430216467805755, 2.288181050879251, 2.1719468616263407, 3.0843037018848047, 2.9029052937081516, 3.0486152213560493, 2.888180519248073, 2.7655385574864586, 2.633849888103383, 2.5339176788266737, 2.4461881877382416, 2.3442900491915433, 2.250527683247614, 2.1639838281975305, 2.0838391004004473, 2.0502090208063772, 2.0230343200427092, 1.9760601775492377, 1.9123468592587418, 1.8525932355504469, 1.7964745766270183, 1.7436794610441304, 1.6938622899880995, 1.6468112797039878, 1.9058852139627604, 1.8649411243704783, 1.855075081272063, 1.8087043930949802, 1.7748749555595984, 1.7326188744140216, 1.6923311685204094, 1.6538718134959767, 1.625606496263516, 1.5968111544042374], [1.0, 1.3385835760901466, 4.191936942711508, 3.1533893204281718, 2.5227181991032404, 2.137130275354004, 1.8461504063769225, 1.6178902256167051, 1.4382123180025157, 1.3197313247924065, 1.2119382699134644, 1.7828584511486756, 1.9360276581542397, 2.2636749976129034, 2.1127973083516527, 2.375090429158789, 2.309576892285405, 2.2007281544317214, 2.0922751854713977, 1.987663432898404, 1.8939011987464835, 1.8078166048948943, 1.7516567257165394, 1.70452138722418, 1.6444165603231344, 1.602640908529867, 1.5443947106036655, 2.1797146991449803, 2.1045546019751833, 2.0344035027195675, 2.08842701539668, 2.0294730684998474, 2.0254357343211686, 2.0029143680404906, 1.9465710355997028, 1.8926752060406988, 1.8479713344212034, 1.7993408343237893, 1.7532047180932824, 1.7118113483114985, 1.670061388846864, 1.6405189709175123, 1.6074007082770077, 1.5806252339028504, 1.5455005277126914, 1.6340565673630443], [1.0, 0.9579981388688035, 1.1276793171073747, 1.0200080902771622, 0.8790591398643289, 0.9197612052133667, 0.8819179967802636, 0.7880617341126648, 0.7794484873332322, 0.7954005964936685, 0.8770213250875276, 0.9291312015325347, 0.9608011198776303, 0.9847542817242343, 0.9297686951335867, 1.0143348798517267, 1.0116508139296332, 0.9984194776421239, 0.9940351770410241, 0.9565465671091351, 0.9414918099066335, 0.9097995902928431, 0.8926839291406644, 0.8971541198930023, 0.8690032015263575, 0.8432082265565779, 0.8192332647257587, 0.8690289030969638, 0.8622407738211934, 0.8438547944971696, 0.8508700202838249, 0.8303234934226704, 0.8265537286304816, 0.8377301967077598, 0.8195604558589795, 0.8028220597745306, 0.8244843530717522, 0.807449156451746, 0.8050237182131729, 0.8008122259253484, 0.7873673414402881, 0.7742027406878463, 0.7610189764767948, 0.749051593144089, 0.7367016378588238, 0.7641461648843829], [1.0, 0.5975773234652832, 0.9382128591515958, 0.7400114160940356, 0.644573469027668, 0.9363168797888329, 0.82472274084541, 0.7255141934501685, 0.7074781584470786, 0.8341941308577767, 1.0631101503444154, 1.1267705090308684, 1.0739133805000822, 1.0971638906993297, 1.033410933002047, 1.2248010918204368, 1.1656284000490649, 1.1843337440252386, 1.1334120712271611, 1.0864011401268137, 1.0399533696782934, 1.0014642823847442, 0.9803631998372655, 0.9500962114549166, 0.9144575563946692, 0.8817872155204819, 0.8508473750355928, 0.8960749612445202, 0.8844986613577436, 0.8641098078531051, 0.8445345114588697, 0.8199906153179279, 0.8006398394932867, 0.7879423705353702, 0.7667957489908394, 0.7465405380593996, 0.8152929261896342, 0.7979319602108714, 0.7943735319675098, 0.7782847755971682, 0.763867620858052, 0.7468696029294564, 0.7309746364467675, 0.7154968235242735, 0.7033694626758783, 0.7337750386174261], [1.0, 2.361730923924568, 3.703957423513527, 3.529221497245768, 2.823666637525652, 2.3925541877291003, 2.4821636540374854, 2.2474441297437795, 1.9980561887909059, 1.8160804864937141, 1.665192497030869, 2.078927975478905, 2.4285766091002796, 2.687804462763863, 2.508673501038138, 2.3618608884834478, 2.4659102838904343, 2.333006261222078, 2.4323207114931886, 2.310754877447422, 2.3137456647843866, 2.2086210450477264, 2.135034885862727, 2.23989416119849, 2.188912676524914, 2.142410629291289, 2.096517721095269, 2.3582304704296844, 2.2770185774185494, 2.2011710495109806, 2.2777994913652435, 2.2367856648963014, 2.2650558313252214, 2.3755866927006424, 2.334299430454675, 2.2917968453163633, 2.235624156717067, 2.176815842598578, 2.121104725155398, 2.1414635082150864, 2.089255097394713, 2.062202352835111, 2.038310301791281, 2.013645063702648, 1.968919419057186, 2.1453895416548394]]\n"
       ]
      }
     ],
     "prompt_number": 196
    },
    {
     "cell_type": "code",
     "collapsed": false,
     "input": [
      "xax = range(len(convergence[0]))\n",
      "plt.figure(1)\n",
      "plt.plot(xax, convergence[0], 'r')\n",
      "plt.plot(xax, convergence[1], 'g')\n",
      "plt.plot(xax, convergence[2], 'b')\n",
      "plt.plot(xax, convergence[3], 'c')\n",
      "plt.plot(xax, convergence[4], 'm')\n",
      "plt.plot(xax, convergence[5], 'y')\n",
      "\n",
      "plt.savefig(\"convergence.png\", dpi=300, pad_inches=0.2)\n",
      "\n",
      "plt.show()"
     ],
     "language": "python",
     "metadata": {},
     "outputs": [
      {
       "output_type": "display_data",
       "png": "[encoded data removed]"
      }
     ],
     "prompt_number": 200
    },
    {
     "cell_type": "code",
     "collapsed": false,
     "input": [
      "# test for duplicates\n",
      "a = zip(ints1, ints2, labels)\n",
      "print a\n",
      "import collections\n",
      "print [x for x, y in collections.Counter(a).items() if y > 1]"
     ],
     "language": "python",
     "metadata": {},
     "outputs": [
      {
       "output_type": "stream",
       "stream": "stdout",
       "text": [
        "[(1.4, 0.2, -1), (1.4, 0.2, -1), (1.3, 0.2, -1), (1.5, 0.2, -1), (1.4, 0.2, -1), (1.7, 0.4, -1), (1.4, 0.3, -1), (1.5, 0.2, -1), (1.4, 0.2, -1), (1.5, 0.1, -1), (1.5, 0.2, -1), (1.6, 0.2, -1), (1.4, 0.1, -1), (1.1, 0.1, -1), (1.2, 0.2, -1), (1.5, 0.4, -1), (1.3, 0.4, -1), (1.4, 0.3, -1), (1.7, 0.3, -1), (1.5, 0.3, -1), (1.7, 0.2, -1), (1.5, 0.4, -1), (1.0, 0.2, -1), (1.7, 0.5, -1), (1.9, 0.2, -1), (1.6, 0.2, -1), (1.6, 0.4, -1), (1.5, 0.2, -1), (1.4, 0.2, -1), (1.6, 0.2, -1), (1.6, 0.2, -1), (1.5, 0.4, -1), (1.5, 0.1, -1), (1.4, 0.2, -1), (1.5, 0.1, -1), (1.2, 0.2, -1), (1.3, 0.2, -1), (1.5, 0.1, -1), (1.3, 0.2, -1), (1.5, 0.2, -1), (1.3, 0.3, -1), (1.3, 0.3, -1), (1.3, 0.2, -1), (1.6, 0.6, -1), (1.9, 0.4, -1), (1.4, 0.3, -1), (1.6, 0.2, -1), (1.4, 0.2, -1), (1.5, 0.2, -1), (1.4, 0.2, -1), (4.7, 1.4, 1), (4.5, 1.5, 1), (4.9, 1.5, 1), (4.0, 1.3, 1), (4.6, 1.5, 1), (4.5, 1.3, 1), (4.7, 1.6, 1), (3.3, 1.0, 1), (4.6, 1.3, 1), (3.9, 1.4, 1), (3.5, 1.0, 1), (4.2, 1.5, 1), (4.0, 1.0, 1), (4.7, 1.4, 1), (3.6, 1.3, 1), (4.4, 1.4, 1), (4.5, 1.5, 1), (4.1, 1.0, 1), (4.5, 1.5, 1), (3.9, 1.1, 1), (4.8, 1.8, 1), (4.0, 1.3, 1), (4.9, 1.5, 1), (4.7, 1.2, 1), (4.3, 1.3, 1), (4.4, 1.4, 1), (4.8, 1.4, 1), (5.0, 1.7, 1), (4.5, 1.5, 1), (3.5, 1.0, 1), (3.8, 1.1, 1), (3.7, 1.0, 1), (3.9, 1.2, 1), (5.1, 1.6, 1), (4.5, 1.5, 1), (4.5, 1.6, 1), (4.7, 1.5, 1), (4.4, 1.3, 1), (4.1, 1.3, 1), (4.0, 1.3, 1), (4.4, 1.2, 1), (4.6, 1.4, 1), (4.0, 1.2, 1), (3.3, 1.0, 1), (4.2, 1.3, 1), (4.2, 1.2, 1), (4.2, 1.3, 1), (4.3, 1.3, 1), (3.0, 1.1, 1), (4.1, 1.3, 1)]\n",
        "[(3.5, 1.0, 1), (4.3, 1.3, 1), (4.9, 1.5, 1), (1.3, 0.2, -1), (4.2, 1.3, 1), (4.4, 1.4, 1), (1.4, 0.2, -1), (4.5, 1.5, 1), (1.4, 0.3, -1), (4.0, 1.3, 1), (4.1, 1.3, 1), (1.5, 0.2, -1), (1.3, 0.3, -1), (3.3, 1.0, 1), (1.6, 0.2, -1), (1.5, 0.4, -1), (1.5, 0.1, -1), (1.2, 0.2, -1), (4.7, 1.4, 1)]\n"
       ]
      }
     ],
     "prompt_number": 166
    },
    {
     "cell_type": "code",
     "collapsed": false,
     "input": [
      "a = [(1,2),(3,1),(2,3),(1,2),3]\n",
      "print a.index((2,3))\n",
      "\n",
      "print zip( [2,3], [7,5] )"
     ],
     "language": "python",
     "metadata": {},
     "outputs": [
      {
       "output_type": "stream",
       "stream": "stdout",
       "text": [
        "2\n",
        "[(2, 7), (3, 5)]\n"
       ]
      }
     ],
     "prompt_number": 167
    },
    {
     "cell_type": "code",
     "collapsed": false,
     "input": [
      "for i,j in enumerate(['a', 'b', 'a']) :\n",
      "    print i, \" \", j\n",
      "    "
     ],
     "language": "python",
     "metadata": {},
     "outputs": [
      {
       "output_type": "stream",
       "stream": "stdout",
       "text": [
        "0   a\n",
        "1   b\n",
        "2   a\n"
       ]
      }
     ],
     "prompt_number": 168
    },
    {
     "cell_type": "code",
     "collapsed": false,
     "input": [
      "s = np.random.normal(5, 0.1, 10)\n",
      "print s"
     ],
     "language": "python",
     "metadata": {},
     "outputs": [
      {
       "output_type": "stream",
       "stream": "stdout",
       "text": [
        "[ 5.04633201  4.9301412   5.07743465  4.82969012  4.81423641  4.91506999\n",
        "  5.0078496   5.08361301  5.08260366  5.06701626]\n"
       ]
      }
     ],
     "prompt_number": 40
    },
    {
     "cell_type": "code",
     "collapsed": false,
     "input": [
      "bool(random.getrandbits(1))"
     ],
     "language": "python",
     "metadata": {},
     "outputs": [
      {
       "output_type": "pyout",
       "prompt_number": 101,
       "text": [
        "True"
       ]
      }
     ],
     "prompt_number": 101
    },
    {
     "cell_type": "code",
     "collapsed": false,
     "input": [
      "range(1, len(H))"
     ],
     "language": "python",
     "metadata": {},
     "outputs": [
      {
       "output_type": "pyout",
       "prompt_number": 104,
       "text": [
        "[1, 2, 3, 4]"
       ]
      }
     ],
     "prompt_number": 104
    },
    {
     "cell_type": "code",
     "collapsed": false,
     "input": [],
     "language": "python",
     "metadata": {},
     "outputs": []
    }
   ],
   "metadata": {}
  }
 ]
}